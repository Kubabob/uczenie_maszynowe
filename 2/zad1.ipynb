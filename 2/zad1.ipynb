{
 "cells": [
  {
   "cell_type": "code",
   "execution_count": 1,
   "id": "83185b33",
   "metadata": {
    "title": "In[1]:"
   },
   "outputs": [],
   "source": [
    "import matplotlib.pyplot as plt\n",
    "import numpy as np\n",
    "import polars as pl\n",
    "import seaborn as sns\n",
    "from sklearn.decomposition import PCA\n",
    "from sklearn.linear_model import LinearRegression\n",
    "from sklearn.model_selection import KFold, train_test_split\n",
    "\n",
    "sns.set_style(\"darkgrid\")"
   ]
  },
  {
   "cell_type": "code",
   "execution_count": 15,
   "id": "28ad0000",
   "metadata": {
    "title": "In[2]:"
   },
   "outputs": [],
   "source": [
    "def RMSE(y_hat: pl.Series, y_obs: pl.DataFrame) -> float:\n",
    "    return (((y_hat - y_obs.to_series()) ** 2).sum() / y_obs.shape[0]) ** 0.5\n",
    "\n",
    "def R2(y_pred: pl.Series, y_obs: pl.DataFrame):\n",
    "    return 1 - ((y_pred - y_obs.to_series())**2).sum() / ((y_obs.to_series() - y_obs.to_series().mean())**2).sum()\n",
    "\n",
    "def Q2(y_hat: pl.Series, y_obs: pl.DataFrame):\n",
    "    return 1 - ((y_hat - y_obs.to_series())**2).sum() / ((y_obs.to_series() - y_obs.to_series().mean())**2).sum()\n",
    "\n",
    "def standarize(df: pl.DataFrame):\n",
    "    return df.select((pl.all() - pl.all().mean())/pl.all().std())"
   ]
  },
  {
   "cell_type": "markdown",
   "id": "9e3c8b08",
   "metadata": {},
   "source": [
    "# Import niestandaryzowanego zestawu danych dane_leki.xlsx"
   ]
  },
  {
   "cell_type": "code",
   "execution_count": 3,
   "id": "496175bf",
   "metadata": {
    "lines_to_next_cell": 2,
    "title": "In[3]:"
   },
   "outputs": [],
   "source": [
    "input_matrix = pl.read_excel(source=\"dane_leki.xlsx\", engine=\"openpyxl\")"
   ]
  },
  {
   "cell_type": "code",
   "execution_count": 4,
   "id": "afcb494a",
   "metadata": {
    "lines_to_next_cell": 2,
    "title": "In[4]:"
   },
   "outputs": [
    {
     "data": {
      "text/html": [
       "<div><style>\n",
       ".dataframe > thead > tr,\n",
       ".dataframe > tbody > tr {\n",
       "  text-align: right;\n",
       "  white-space: pre-wrap;\n",
       "}\n",
       "</style>\n",
       "<small>shape: (5, 7)</small><table border=\"1\" class=\"dataframe\"><thead><tr><th>Nazwa</th><th>logK HSA</th><th>logKCTAB</th><th>CATS3D_00_DD</th><th>CATS3D_09_AL</th><th>CATS3D_00_AA</th><th>Zbiór</th></tr><tr><td>str</td><td>f64</td><td>f64</td><td>i64</td><td>i64</td><td>i64</td><td>str</td></tr></thead><tbody><tr><td>&quot;acetaminophen&quot;</td><td>-0.79</td><td>-0.63</td><td>2</td><td>0</td><td>2</td><td>&quot;t&quot;</td></tr><tr><td>&quot;acetylsalicylic acid&quot;</td><td>-0.23</td><td>1.22</td><td>1</td><td>0</td><td>4</td><td>&quot;t&quot;</td></tr><tr><td>&quot;bromazepam&quot;</td><td>0.38</td><td>0.57</td><td>1</td><td>0</td><td>3</td><td>&quot;t&quot;</td></tr><tr><td>&quot;carbamazepine&quot;</td><td>0.69</td><td>0.68</td><td>0</td><td>0</td><td>3</td><td>&quot;t&quot;</td></tr><tr><td>&quot;chlorpromazine&quot;</td><td>1.18</td><td>1.5</td><td>0</td><td>0</td><td>2</td><td>&quot;t&quot;</td></tr></tbody></table></div>"
      ],
      "text/plain": [
       "shape: (5, 7)\n",
       "┌──────────────────────┬──────────┬──────────┬──────────────┬──────────────┬──────────────┬───────┐\n",
       "│ Nazwa                ┆ logK HSA ┆ logKCTAB ┆ CATS3D_00_DD ┆ CATS3D_09_AL ┆ CATS3D_00_AA ┆ Zbiór │\n",
       "│ ---                  ┆ ---      ┆ ---      ┆ ---          ┆ ---          ┆ ---          ┆ ---   │\n",
       "│ str                  ┆ f64      ┆ f64      ┆ i64          ┆ i64          ┆ i64          ┆ str   │\n",
       "╞══════════════════════╪══════════╪══════════╪══════════════╪══════════════╪══════════════╪═══════╡\n",
       "│ acetaminophen        ┆ -0.79    ┆ -0.63    ┆ 2            ┆ 0            ┆ 2            ┆ t     │\n",
       "│ acetylsalicylic acid ┆ -0.23    ┆ 1.22     ┆ 1            ┆ 0            ┆ 4            ┆ t     │\n",
       "│ bromazepam           ┆ 0.38     ┆ 0.57     ┆ 1            ┆ 0            ┆ 3            ┆ t     │\n",
       "│ carbamazepine        ┆ 0.69     ┆ 0.68     ┆ 0            ┆ 0            ┆ 3            ┆ t     │\n",
       "│ chlorpromazine       ┆ 1.18     ┆ 1.5      ┆ 0            ┆ 0            ┆ 2            ┆ t     │\n",
       "└──────────────────────┴──────────┴──────────┴──────────────┴──────────────┴──────────────┴───────┘"
      ]
     },
     "execution_count": 4,
     "metadata": {},
     "output_type": "execute_result"
    }
   ],
   "source": [
    "input_matrix.head()"
   ]
  },
  {
   "cell_type": "markdown",
   "id": "b9edb7a5",
   "metadata": {},
   "source": [
    "# Podział danych na zbiór treningowy i testowy\n",
    "\n",
    "66:33\n",
    "\n",
    "random_state = 42"
   ]
  },
  {
   "cell_type": "code",
   "execution_count": 5,
   "id": "672fe089",
   "metadata": {},
   "outputs": [],
   "source": [
    "descriptors = input_matrix.select(\n",
    "    pl.nth(range(2,6))\n",
    ")"
   ]
  },
  {
   "cell_type": "code",
   "execution_count": 6,
   "id": "f21380c3",
   "metadata": {},
   "outputs": [
    {
     "data": {
      "text/html": [
       "<div><style>\n",
       ".dataframe > thead > tr,\n",
       ".dataframe > tbody > tr {\n",
       "  text-align: right;\n",
       "  white-space: pre-wrap;\n",
       "}\n",
       "</style>\n",
       "<small>shape: (5, 4)</small><table border=\"1\" class=\"dataframe\"><thead><tr><th>logKCTAB</th><th>CATS3D_00_DD</th><th>CATS3D_09_AL</th><th>CATS3D_00_AA</th></tr><tr><td>f64</td><td>i64</td><td>i64</td><td>i64</td></tr></thead><tbody><tr><td>-0.63</td><td>2</td><td>0</td><td>2</td></tr><tr><td>1.22</td><td>1</td><td>0</td><td>4</td></tr><tr><td>0.57</td><td>1</td><td>0</td><td>3</td></tr><tr><td>0.68</td><td>0</td><td>0</td><td>3</td></tr><tr><td>1.5</td><td>0</td><td>0</td><td>2</td></tr></tbody></table></div>"
      ],
      "text/plain": [
       "shape: (5, 4)\n",
       "┌──────────┬──────────────┬──────────────┬──────────────┐\n",
       "│ logKCTAB ┆ CATS3D_00_DD ┆ CATS3D_09_AL ┆ CATS3D_00_AA │\n",
       "│ ---      ┆ ---          ┆ ---          ┆ ---          │\n",
       "│ f64      ┆ i64          ┆ i64          ┆ i64          │\n",
       "╞══════════╪══════════════╪══════════════╪══════════════╡\n",
       "│ -0.63    ┆ 2            ┆ 0            ┆ 2            │\n",
       "│ 1.22     ┆ 1            ┆ 0            ┆ 4            │\n",
       "│ 0.57     ┆ 1            ┆ 0            ┆ 3            │\n",
       "│ 0.68     ┆ 0            ┆ 0            ┆ 3            │\n",
       "│ 1.5      ┆ 0            ┆ 0            ┆ 2            │\n",
       "└──────────┴──────────────┴──────────────┴──────────────┘"
      ]
     },
     "execution_count": 6,
     "metadata": {},
     "output_type": "execute_result"
    }
   ],
   "source": [
    "descriptors.head()"
   ]
  },
  {
   "cell_type": "code",
   "execution_count": 7,
   "id": "012d352d",
   "metadata": {},
   "outputs": [],
   "source": [
    "Y_obs = input_matrix.select(pl.nth(1))"
   ]
  },
  {
   "cell_type": "code",
   "execution_count": 8,
   "id": "1de4035e",
   "metadata": {},
   "outputs": [
    {
     "data": {
      "text/html": [
       "<div><style>\n",
       ".dataframe > thead > tr,\n",
       ".dataframe > tbody > tr {\n",
       "  text-align: right;\n",
       "  white-space: pre-wrap;\n",
       "}\n",
       "</style>\n",
       "<small>shape: (5, 1)</small><table border=\"1\" class=\"dataframe\"><thead><tr><th>logK HSA</th></tr><tr><td>f64</td></tr></thead><tbody><tr><td>-0.79</td></tr><tr><td>-0.23</td></tr><tr><td>0.38</td></tr><tr><td>0.69</td></tr><tr><td>1.18</td></tr></tbody></table></div>"
      ],
      "text/plain": [
       "shape: (5, 1)\n",
       "┌──────────┐\n",
       "│ logK HSA │\n",
       "│ ---      │\n",
       "│ f64      │\n",
       "╞══════════╡\n",
       "│ -0.79    │\n",
       "│ -0.23    │\n",
       "│ 0.38     │\n",
       "│ 0.69     │\n",
       "│ 1.18     │\n",
       "└──────────┘"
      ]
     },
     "execution_count": 8,
     "metadata": {},
     "output_type": "execute_result"
    }
   ],
   "source": [
    "Y_obs.head()"
   ]
  },
  {
   "cell_type": "code",
   "execution_count": 9,
   "id": "a6e4705c",
   "metadata": {},
   "outputs": [],
   "source": [
    "X_training, X_validation, Y_training, Y_validation = train_test_split(\n",
    "    descriptors, Y_obs, test_size=0.33, random_state=42\n",
    ")"
   ]
  },
  {
   "cell_type": "code",
   "execution_count": 10,
   "id": "a1a61b42",
   "metadata": {},
   "outputs": [
    {
     "data": {
      "text/html": [
       "<div><style>\n",
       ".dataframe > thead > tr,\n",
       ".dataframe > tbody > tr {\n",
       "  text-align: right;\n",
       "  white-space: pre-wrap;\n",
       "}\n",
       "</style>\n",
       "<small>shape: (5, 4)</small><table border=\"1\" class=\"dataframe\"><thead><tr><th>logKCTAB</th><th>CATS3D_00_DD</th><th>CATS3D_09_AL</th><th>CATS3D_00_AA</th></tr><tr><td>f64</td><td>i64</td><td>i64</td><td>i64</td></tr></thead><tbody><tr><td>1.32</td><td>3</td><td>2</td><td>5</td></tr><tr><td>1.22</td><td>1</td><td>0</td><td>4</td></tr><tr><td>1.5</td><td>0</td><td>0</td><td>2</td></tr><tr><td>0.26</td><td>2</td><td>0</td><td>1</td></tr><tr><td>0.57</td><td>1</td><td>0</td><td>3</td></tr></tbody></table></div>"
      ],
      "text/plain": [
       "shape: (5, 4)\n",
       "┌──────────┬──────────────┬──────────────┬──────────────┐\n",
       "│ logKCTAB ┆ CATS3D_00_DD ┆ CATS3D_09_AL ┆ CATS3D_00_AA │\n",
       "│ ---      ┆ ---          ┆ ---          ┆ ---          │\n",
       "│ f64      ┆ i64          ┆ i64          ┆ i64          │\n",
       "╞══════════╪══════════════╪══════════════╪══════════════╡\n",
       "│ 1.32     ┆ 3            ┆ 2            ┆ 5            │\n",
       "│ 1.22     ┆ 1            ┆ 0            ┆ 4            │\n",
       "│ 1.5      ┆ 0            ┆ 0            ┆ 2            │\n",
       "│ 0.26     ┆ 2            ┆ 0            ┆ 1            │\n",
       "│ 0.57     ┆ 1            ┆ 0            ┆ 3            │\n",
       "└──────────┴──────────────┴──────────────┴──────────────┘"
      ]
     },
     "execution_count": 10,
     "metadata": {},
     "output_type": "execute_result"
    }
   ],
   "source": [
    "X_training.head()"
   ]
  },
  {
   "cell_type": "code",
   "execution_count": 11,
   "id": "ee8bdaaa",
   "metadata": {},
   "outputs": [
    {
     "data": {
      "text/html": [
       "<div><style>\n",
       ".dataframe > thead > tr,\n",
       ".dataframe > tbody > tr {\n",
       "  text-align: right;\n",
       "  white-space: pre-wrap;\n",
       "}\n",
       "</style>\n",
       "<small>shape: (5, 1)</small><table border=\"1\" class=\"dataframe\"><thead><tr><th>logK HSA</th></tr><tr><td>f64</td></tr></thead><tbody><tr><td>0.08</td></tr><tr><td>-0.23</td></tr><tr><td>1.18</td></tr><tr><td>-0.42</td></tr><tr><td>0.38</td></tr></tbody></table></div>"
      ],
      "text/plain": [
       "shape: (5, 1)\n",
       "┌──────────┐\n",
       "│ logK HSA │\n",
       "│ ---      │\n",
       "│ f64      │\n",
       "╞══════════╡\n",
       "│ 0.08     │\n",
       "│ -0.23    │\n",
       "│ 1.18     │\n",
       "│ -0.42    │\n",
       "│ 0.38     │\n",
       "└──────────┘"
      ]
     },
     "execution_count": 11,
     "metadata": {},
     "output_type": "execute_result"
    }
   ],
   "source": [
    "Y_training.head()"
   ]
  },
  {
   "cell_type": "markdown",
   "id": "e8123e7a",
   "metadata": {},
   "source": [
    "# Standaryzacja danych"
   ]
  },
  {
   "cell_type": "code",
   "execution_count": 16,
   "id": "8971e88e",
   "metadata": {},
   "outputs": [],
   "source": [
    "X_training_std = standarize(X_training)"
   ]
  },
  {
   "cell_type": "code",
   "execution_count": 17,
   "id": "371a7286",
   "metadata": {},
   "outputs": [],
   "source": [
    "X_validation_std = standarize(X_validation)"
   ]
  },
  {
   "cell_type": "code",
   "execution_count": 18,
   "id": "0d29f411",
   "metadata": {},
   "outputs": [],
   "source": [
    "Y_training_std = standarize(Y_training)"
   ]
  },
  {
   "cell_type": "code",
   "execution_count": 19,
   "id": "ce70990c",
   "metadata": {},
   "outputs": [],
   "source": [
    "Y_validation_std = standarize(Y_validation)"
   ]
  },
  {
   "cell_type": "markdown",
   "id": "6c14ede4",
   "metadata": {},
   "source": [
    "# Analiza PCA"
   ]
  },
  {
   "cell_type": "code",
   "execution_count": 20,
   "id": "38e375a2",
   "metadata": {},
   "outputs": [
    {
     "data": {
      "text/html": [
       "<div><style>\n",
       ".dataframe > thead > tr,\n",
       ".dataframe > tbody > tr {\n",
       "  text-align: right;\n",
       "  white-space: pre-wrap;\n",
       "}\n",
       "</style>\n",
       "<small>shape: (4, 4)</small><table border=\"1\" class=\"dataframe\"><thead><tr><th>logKCTAB</th><th>CATS3D_00_DD</th><th>CATS3D_09_AL</th><th>CATS3D_00_AA</th></tr><tr><td>f64</td><td>f64</td><td>f64</td><td>f64</td></tr></thead><tbody><tr><td>1.0</td><td>-0.641826</td><td>0.385608</td><td>-0.410865</td></tr><tr><td>-0.641826</td><td>1.0</td><td>-0.380036</td><td>0.439622</td></tr><tr><td>0.385608</td><td>-0.380036</td><td>1.0</td><td>0.093667</td></tr><tr><td>-0.410865</td><td>0.439622</td><td>0.093667</td><td>1.0</td></tr></tbody></table></div>"
      ],
      "text/plain": [
       "shape: (4, 4)\n",
       "┌───────────┬──────────────┬──────────────┬──────────────┐\n",
       "│ logKCTAB  ┆ CATS3D_00_DD ┆ CATS3D_09_AL ┆ CATS3D_00_AA │\n",
       "│ ---       ┆ ---          ┆ ---          ┆ ---          │\n",
       "│ f64       ┆ f64          ┆ f64          ┆ f64          │\n",
       "╞═══════════╪══════════════╪══════════════╪══════════════╡\n",
       "│ 1.0       ┆ -0.641826    ┆ 0.385608     ┆ -0.410865    │\n",
       "│ -0.641826 ┆ 1.0          ┆ -0.380036    ┆ 0.439622     │\n",
       "│ 0.385608  ┆ -0.380036    ┆ 1.0          ┆ 0.093667     │\n",
       "│ -0.410865 ┆ 0.439622     ┆ 0.093667     ┆ 1.0          │\n",
       "└───────────┴──────────────┴──────────────┴──────────────┘"
      ]
     },
     "execution_count": 20,
     "metadata": {},
     "output_type": "execute_result"
    }
   ],
   "source": [
    "X_training_std.corr()"
   ]
  },
  {
   "cell_type": "code",
   "execution_count": 21,
   "id": "803d8469",
   "metadata": {
    "lines_to_next_cell": 2,
    "title": "In[9]:"
   },
   "outputs": [],
   "source": [
    "pca_model = PCA(n_components=4)"
   ]
  },
  {
   "cell_type": "code",
   "execution_count": 22,
   "id": "9e734732",
   "metadata": {
    "lines_to_next_cell": 2,
    "title": "In[10]:"
   },
   "outputs": [
    {
     "data": {
      "text/html": [
       "<style>#sk-container-id-1 {\n",
       "  /* Definition of color scheme common for light and dark mode */\n",
       "  --sklearn-color-text: black;\n",
       "  --sklearn-color-line: gray;\n",
       "  /* Definition of color scheme for unfitted estimators */\n",
       "  --sklearn-color-unfitted-level-0: #fff5e6;\n",
       "  --sklearn-color-unfitted-level-1: #f6e4d2;\n",
       "  --sklearn-color-unfitted-level-2: #ffe0b3;\n",
       "  --sklearn-color-unfitted-level-3: chocolate;\n",
       "  /* Definition of color scheme for fitted estimators */\n",
       "  --sklearn-color-fitted-level-0: #f0f8ff;\n",
       "  --sklearn-color-fitted-level-1: #d4ebff;\n",
       "  --sklearn-color-fitted-level-2: #b3dbfd;\n",
       "  --sklearn-color-fitted-level-3: cornflowerblue;\n",
       "\n",
       "  /* Specific color for light theme */\n",
       "  --sklearn-color-text-on-default-background: var(--sg-text-color, var(--theme-code-foreground, var(--jp-content-font-color1, black)));\n",
       "  --sklearn-color-background: var(--sg-background-color, var(--theme-background, var(--jp-layout-color0, white)));\n",
       "  --sklearn-color-border-box: var(--sg-text-color, var(--theme-code-foreground, var(--jp-content-font-color1, black)));\n",
       "  --sklearn-color-icon: #696969;\n",
       "\n",
       "  @media (prefers-color-scheme: dark) {\n",
       "    /* Redefinition of color scheme for dark theme */\n",
       "    --sklearn-color-text-on-default-background: var(--sg-text-color, var(--theme-code-foreground, var(--jp-content-font-color1, white)));\n",
       "    --sklearn-color-background: var(--sg-background-color, var(--theme-background, var(--jp-layout-color0, #111)));\n",
       "    --sklearn-color-border-box: var(--sg-text-color, var(--theme-code-foreground, var(--jp-content-font-color1, white)));\n",
       "    --sklearn-color-icon: #878787;\n",
       "  }\n",
       "}\n",
       "\n",
       "#sk-container-id-1 {\n",
       "  color: var(--sklearn-color-text);\n",
       "}\n",
       "\n",
       "#sk-container-id-1 pre {\n",
       "  padding: 0;\n",
       "}\n",
       "\n",
       "#sk-container-id-1 input.sk-hidden--visually {\n",
       "  border: 0;\n",
       "  clip: rect(1px 1px 1px 1px);\n",
       "  clip: rect(1px, 1px, 1px, 1px);\n",
       "  height: 1px;\n",
       "  margin: -1px;\n",
       "  overflow: hidden;\n",
       "  padding: 0;\n",
       "  position: absolute;\n",
       "  width: 1px;\n",
       "}\n",
       "\n",
       "#sk-container-id-1 div.sk-dashed-wrapped {\n",
       "  border: 1px dashed var(--sklearn-color-line);\n",
       "  margin: 0 0.4em 0.5em 0.4em;\n",
       "  box-sizing: border-box;\n",
       "  padding-bottom: 0.4em;\n",
       "  background-color: var(--sklearn-color-background);\n",
       "}\n",
       "\n",
       "#sk-container-id-1 div.sk-container {\n",
       "  /* jupyter's `normalize.less` sets `[hidden] { display: none; }`\n",
       "     but bootstrap.min.css set `[hidden] { display: none !important; }`\n",
       "     so we also need the `!important` here to be able to override the\n",
       "     default hidden behavior on the sphinx rendered scikit-learn.org.\n",
       "     See: https://github.com/scikit-learn/scikit-learn/issues/21755 */\n",
       "  display: inline-block !important;\n",
       "  position: relative;\n",
       "}\n",
       "\n",
       "#sk-container-id-1 div.sk-text-repr-fallback {\n",
       "  display: none;\n",
       "}\n",
       "\n",
       "div.sk-parallel-item,\n",
       "div.sk-serial,\n",
       "div.sk-item {\n",
       "  /* draw centered vertical line to link estimators */\n",
       "  background-image: linear-gradient(var(--sklearn-color-text-on-default-background), var(--sklearn-color-text-on-default-background));\n",
       "  background-size: 2px 100%;\n",
       "  background-repeat: no-repeat;\n",
       "  background-position: center center;\n",
       "}\n",
       "\n",
       "/* Parallel-specific style estimator block */\n",
       "\n",
       "#sk-container-id-1 div.sk-parallel-item::after {\n",
       "  content: \"\";\n",
       "  width: 100%;\n",
       "  border-bottom: 2px solid var(--sklearn-color-text-on-default-background);\n",
       "  flex-grow: 1;\n",
       "}\n",
       "\n",
       "#sk-container-id-1 div.sk-parallel {\n",
       "  display: flex;\n",
       "  align-items: stretch;\n",
       "  justify-content: center;\n",
       "  background-color: var(--sklearn-color-background);\n",
       "  position: relative;\n",
       "}\n",
       "\n",
       "#sk-container-id-1 div.sk-parallel-item {\n",
       "  display: flex;\n",
       "  flex-direction: column;\n",
       "}\n",
       "\n",
       "#sk-container-id-1 div.sk-parallel-item:first-child::after {\n",
       "  align-self: flex-end;\n",
       "  width: 50%;\n",
       "}\n",
       "\n",
       "#sk-container-id-1 div.sk-parallel-item:last-child::after {\n",
       "  align-self: flex-start;\n",
       "  width: 50%;\n",
       "}\n",
       "\n",
       "#sk-container-id-1 div.sk-parallel-item:only-child::after {\n",
       "  width: 0;\n",
       "}\n",
       "\n",
       "/* Serial-specific style estimator block */\n",
       "\n",
       "#sk-container-id-1 div.sk-serial {\n",
       "  display: flex;\n",
       "  flex-direction: column;\n",
       "  align-items: center;\n",
       "  background-color: var(--sklearn-color-background);\n",
       "  padding-right: 1em;\n",
       "  padding-left: 1em;\n",
       "}\n",
       "\n",
       "\n",
       "/* Toggleable style: style used for estimator/Pipeline/ColumnTransformer box that is\n",
       "clickable and can be expanded/collapsed.\n",
       "- Pipeline and ColumnTransformer use this feature and define the default style\n",
       "- Estimators will overwrite some part of the style using the `sk-estimator` class\n",
       "*/\n",
       "\n",
       "/* Pipeline and ColumnTransformer style (default) */\n",
       "\n",
       "#sk-container-id-1 div.sk-toggleable {\n",
       "  /* Default theme specific background. It is overwritten whether we have a\n",
       "  specific estimator or a Pipeline/ColumnTransformer */\n",
       "  background-color: var(--sklearn-color-background);\n",
       "}\n",
       "\n",
       "/* Toggleable label */\n",
       "#sk-container-id-1 label.sk-toggleable__label {\n",
       "  cursor: pointer;\n",
       "  display: block;\n",
       "  width: 100%;\n",
       "  margin-bottom: 0;\n",
       "  padding: 0.5em;\n",
       "  box-sizing: border-box;\n",
       "  text-align: center;\n",
       "}\n",
       "\n",
       "#sk-container-id-1 label.sk-toggleable__label-arrow:before {\n",
       "  /* Arrow on the left of the label */\n",
       "  content: \"▸\";\n",
       "  float: left;\n",
       "  margin-right: 0.25em;\n",
       "  color: var(--sklearn-color-icon);\n",
       "}\n",
       "\n",
       "#sk-container-id-1 label.sk-toggleable__label-arrow:hover:before {\n",
       "  color: var(--sklearn-color-text);\n",
       "}\n",
       "\n",
       "/* Toggleable content - dropdown */\n",
       "\n",
       "#sk-container-id-1 div.sk-toggleable__content {\n",
       "  max-height: 0;\n",
       "  max-width: 0;\n",
       "  overflow: hidden;\n",
       "  text-align: left;\n",
       "  /* unfitted */\n",
       "  background-color: var(--sklearn-color-unfitted-level-0);\n",
       "}\n",
       "\n",
       "#sk-container-id-1 div.sk-toggleable__content.fitted {\n",
       "  /* fitted */\n",
       "  background-color: var(--sklearn-color-fitted-level-0);\n",
       "}\n",
       "\n",
       "#sk-container-id-1 div.sk-toggleable__content pre {\n",
       "  margin: 0.2em;\n",
       "  border-radius: 0.25em;\n",
       "  color: var(--sklearn-color-text);\n",
       "  /* unfitted */\n",
       "  background-color: var(--sklearn-color-unfitted-level-0);\n",
       "}\n",
       "\n",
       "#sk-container-id-1 div.sk-toggleable__content.fitted pre {\n",
       "  /* unfitted */\n",
       "  background-color: var(--sklearn-color-fitted-level-0);\n",
       "}\n",
       "\n",
       "#sk-container-id-1 input.sk-toggleable__control:checked~div.sk-toggleable__content {\n",
       "  /* Expand drop-down */\n",
       "  max-height: 200px;\n",
       "  max-width: 100%;\n",
       "  overflow: auto;\n",
       "}\n",
       "\n",
       "#sk-container-id-1 input.sk-toggleable__control:checked~label.sk-toggleable__label-arrow:before {\n",
       "  content: \"▾\";\n",
       "}\n",
       "\n",
       "/* Pipeline/ColumnTransformer-specific style */\n",
       "\n",
       "#sk-container-id-1 div.sk-label input.sk-toggleable__control:checked~label.sk-toggleable__label {\n",
       "  color: var(--sklearn-color-text);\n",
       "  background-color: var(--sklearn-color-unfitted-level-2);\n",
       "}\n",
       "\n",
       "#sk-container-id-1 div.sk-label.fitted input.sk-toggleable__control:checked~label.sk-toggleable__label {\n",
       "  background-color: var(--sklearn-color-fitted-level-2);\n",
       "}\n",
       "\n",
       "/* Estimator-specific style */\n",
       "\n",
       "/* Colorize estimator box */\n",
       "#sk-container-id-1 div.sk-estimator input.sk-toggleable__control:checked~label.sk-toggleable__label {\n",
       "  /* unfitted */\n",
       "  background-color: var(--sklearn-color-unfitted-level-2);\n",
       "}\n",
       "\n",
       "#sk-container-id-1 div.sk-estimator.fitted input.sk-toggleable__control:checked~label.sk-toggleable__label {\n",
       "  /* fitted */\n",
       "  background-color: var(--sklearn-color-fitted-level-2);\n",
       "}\n",
       "\n",
       "#sk-container-id-1 div.sk-label label.sk-toggleable__label,\n",
       "#sk-container-id-1 div.sk-label label {\n",
       "  /* The background is the default theme color */\n",
       "  color: var(--sklearn-color-text-on-default-background);\n",
       "}\n",
       "\n",
       "/* On hover, darken the color of the background */\n",
       "#sk-container-id-1 div.sk-label:hover label.sk-toggleable__label {\n",
       "  color: var(--sklearn-color-text);\n",
       "  background-color: var(--sklearn-color-unfitted-level-2);\n",
       "}\n",
       "\n",
       "/* Label box, darken color on hover, fitted */\n",
       "#sk-container-id-1 div.sk-label.fitted:hover label.sk-toggleable__label.fitted {\n",
       "  color: var(--sklearn-color-text);\n",
       "  background-color: var(--sklearn-color-fitted-level-2);\n",
       "}\n",
       "\n",
       "/* Estimator label */\n",
       "\n",
       "#sk-container-id-1 div.sk-label label {\n",
       "  font-family: monospace;\n",
       "  font-weight: bold;\n",
       "  display: inline-block;\n",
       "  line-height: 1.2em;\n",
       "}\n",
       "\n",
       "#sk-container-id-1 div.sk-label-container {\n",
       "  text-align: center;\n",
       "}\n",
       "\n",
       "/* Estimator-specific */\n",
       "#sk-container-id-1 div.sk-estimator {\n",
       "  font-family: monospace;\n",
       "  border: 1px dotted var(--sklearn-color-border-box);\n",
       "  border-radius: 0.25em;\n",
       "  box-sizing: border-box;\n",
       "  margin-bottom: 0.5em;\n",
       "  /* unfitted */\n",
       "  background-color: var(--sklearn-color-unfitted-level-0);\n",
       "}\n",
       "\n",
       "#sk-container-id-1 div.sk-estimator.fitted {\n",
       "  /* fitted */\n",
       "  background-color: var(--sklearn-color-fitted-level-0);\n",
       "}\n",
       "\n",
       "/* on hover */\n",
       "#sk-container-id-1 div.sk-estimator:hover {\n",
       "  /* unfitted */\n",
       "  background-color: var(--sklearn-color-unfitted-level-2);\n",
       "}\n",
       "\n",
       "#sk-container-id-1 div.sk-estimator.fitted:hover {\n",
       "  /* fitted */\n",
       "  background-color: var(--sklearn-color-fitted-level-2);\n",
       "}\n",
       "\n",
       "/* Specification for estimator info (e.g. \"i\" and \"?\") */\n",
       "\n",
       "/* Common style for \"i\" and \"?\" */\n",
       "\n",
       ".sk-estimator-doc-link,\n",
       "a:link.sk-estimator-doc-link,\n",
       "a:visited.sk-estimator-doc-link {\n",
       "  float: right;\n",
       "  font-size: smaller;\n",
       "  line-height: 1em;\n",
       "  font-family: monospace;\n",
       "  background-color: var(--sklearn-color-background);\n",
       "  border-radius: 1em;\n",
       "  height: 1em;\n",
       "  width: 1em;\n",
       "  text-decoration: none !important;\n",
       "  margin-left: 1ex;\n",
       "  /* unfitted */\n",
       "  border: var(--sklearn-color-unfitted-level-1) 1pt solid;\n",
       "  color: var(--sklearn-color-unfitted-level-1);\n",
       "}\n",
       "\n",
       ".sk-estimator-doc-link.fitted,\n",
       "a:link.sk-estimator-doc-link.fitted,\n",
       "a:visited.sk-estimator-doc-link.fitted {\n",
       "  /* fitted */\n",
       "  border: var(--sklearn-color-fitted-level-1) 1pt solid;\n",
       "  color: var(--sklearn-color-fitted-level-1);\n",
       "}\n",
       "\n",
       "/* On hover */\n",
       "div.sk-estimator:hover .sk-estimator-doc-link:hover,\n",
       ".sk-estimator-doc-link:hover,\n",
       "div.sk-label-container:hover .sk-estimator-doc-link:hover,\n",
       ".sk-estimator-doc-link:hover {\n",
       "  /* unfitted */\n",
       "  background-color: var(--sklearn-color-unfitted-level-3);\n",
       "  color: var(--sklearn-color-background);\n",
       "  text-decoration: none;\n",
       "}\n",
       "\n",
       "div.sk-estimator.fitted:hover .sk-estimator-doc-link.fitted:hover,\n",
       ".sk-estimator-doc-link.fitted:hover,\n",
       "div.sk-label-container:hover .sk-estimator-doc-link.fitted:hover,\n",
       ".sk-estimator-doc-link.fitted:hover {\n",
       "  /* fitted */\n",
       "  background-color: var(--sklearn-color-fitted-level-3);\n",
       "  color: var(--sklearn-color-background);\n",
       "  text-decoration: none;\n",
       "}\n",
       "\n",
       "/* Span, style for the box shown on hovering the info icon */\n",
       ".sk-estimator-doc-link span {\n",
       "  display: none;\n",
       "  z-index: 9999;\n",
       "  position: relative;\n",
       "  font-weight: normal;\n",
       "  right: .2ex;\n",
       "  padding: .5ex;\n",
       "  margin: .5ex;\n",
       "  width: min-content;\n",
       "  min-width: 20ex;\n",
       "  max-width: 50ex;\n",
       "  color: var(--sklearn-color-text);\n",
       "  box-shadow: 2pt 2pt 4pt #999;\n",
       "  /* unfitted */\n",
       "  background: var(--sklearn-color-unfitted-level-0);\n",
       "  border: .5pt solid var(--sklearn-color-unfitted-level-3);\n",
       "}\n",
       "\n",
       ".sk-estimator-doc-link.fitted span {\n",
       "  /* fitted */\n",
       "  background: var(--sklearn-color-fitted-level-0);\n",
       "  border: var(--sklearn-color-fitted-level-3);\n",
       "}\n",
       "\n",
       ".sk-estimator-doc-link:hover span {\n",
       "  display: block;\n",
       "}\n",
       "\n",
       "/* \"?\"-specific style due to the `<a>` HTML tag */\n",
       "\n",
       "#sk-container-id-1 a.estimator_doc_link {\n",
       "  float: right;\n",
       "  font-size: 1rem;\n",
       "  line-height: 1em;\n",
       "  font-family: monospace;\n",
       "  background-color: var(--sklearn-color-background);\n",
       "  border-radius: 1rem;\n",
       "  height: 1rem;\n",
       "  width: 1rem;\n",
       "  text-decoration: none;\n",
       "  /* unfitted */\n",
       "  color: var(--sklearn-color-unfitted-level-1);\n",
       "  border: var(--sklearn-color-unfitted-level-1) 1pt solid;\n",
       "}\n",
       "\n",
       "#sk-container-id-1 a.estimator_doc_link.fitted {\n",
       "  /* fitted */\n",
       "  border: var(--sklearn-color-fitted-level-1) 1pt solid;\n",
       "  color: var(--sklearn-color-fitted-level-1);\n",
       "}\n",
       "\n",
       "/* On hover */\n",
       "#sk-container-id-1 a.estimator_doc_link:hover {\n",
       "  /* unfitted */\n",
       "  background-color: var(--sklearn-color-unfitted-level-3);\n",
       "  color: var(--sklearn-color-background);\n",
       "  text-decoration: none;\n",
       "}\n",
       "\n",
       "#sk-container-id-1 a.estimator_doc_link.fitted:hover {\n",
       "  /* fitted */\n",
       "  background-color: var(--sklearn-color-fitted-level-3);\n",
       "}\n",
       "</style><div id=\"sk-container-id-1\" class=\"sk-top-container\"><div class=\"sk-text-repr-fallback\"><pre>PCA(n_components=4)</pre><b>In a Jupyter environment, please rerun this cell to show the HTML representation or trust the notebook. <br />On GitHub, the HTML representation is unable to render, please try loading this page with nbviewer.org.</b></div><div class=\"sk-container\" hidden><div class=\"sk-item\"><div class=\"sk-estimator fitted sk-toggleable\"><input class=\"sk-toggleable__control sk-hidden--visually\" id=\"sk-estimator-id-1\" type=\"checkbox\" checked><label for=\"sk-estimator-id-1\" class=\"sk-toggleable__label fitted sk-toggleable__label-arrow fitted\">&nbsp;&nbsp;PCA<a class=\"sk-estimator-doc-link fitted\" rel=\"noreferrer\" target=\"_blank\" href=\"https://scikit-learn.org/1.5/modules/generated/sklearn.decomposition.PCA.html\">?<span>Documentation for PCA</span></a><span class=\"sk-estimator-doc-link fitted\">i<span>Fitted</span></span></label><div class=\"sk-toggleable__content fitted\"><pre>PCA(n_components=4)</pre></div> </div></div></div></div>"
      ],
      "text/plain": [
       "PCA(n_components=4)"
      ]
     },
     "execution_count": 22,
     "metadata": {},
     "output_type": "execute_result"
    }
   ],
   "source": [
    "pca_model.fit(X_training_std)"
   ]
  },
  {
   "cell_type": "markdown",
   "id": "4c4dbe50",
   "metadata": {},
   "source": [
    "Wartości własne"
   ]
  },
  {
   "cell_type": "code",
   "execution_count": 23,
   "id": "e2238433",
   "metadata": {
    "lines_to_next_cell": 2,
    "title": "In[11]:"
   },
   "outputs": [
    {
     "data": {
      "text/plain": [
       "array([2.16310541, 1.0935978 , 0.38892524, 0.35437155])"
      ]
     },
     "execution_count": 23,
     "metadata": {},
     "output_type": "execute_result"
    }
   ],
   "source": [
    "pca_model.explained_variance_"
   ]
  },
  {
   "cell_type": "markdown",
   "id": "f6287fa2",
   "metadata": {},
   "source": [
    "Wektory własne"
   ]
  },
  {
   "cell_type": "code",
   "execution_count": 24,
   "id": "ff58e3a8",
   "metadata": {
    "lines_to_next_cell": 2,
    "title": "In[12]:"
   },
   "outputs": [
    {
     "data": {
      "text/plain": [
       "array([[-0.59174596,  0.59710501, -0.35859913,  0.40584354],\n",
       "       [ 0.02360091,  0.00835668,  0.73806585,  0.67426402],\n",
       "       [ 0.58597297, -0.14243249, -0.54730579,  0.58034906],\n",
       "       [ 0.55309618,  0.78937238,  0.16468708, -0.20941353]])"
      ]
     },
     "execution_count": 24,
     "metadata": {},
     "output_type": "execute_result"
    }
   ],
   "source": [
    "pca_model.components_"
   ]
  },
  {
   "cell_type": "markdown",
   "id": "6ea2dc6a",
   "metadata": {},
   "source": [
    "Główne składowe"
   ]
  },
  {
   "cell_type": "code",
   "execution_count": 25,
   "id": "ade26af5",
   "metadata": {
    "lines_to_next_cell": 2,
    "title": "In[19]:"
   },
   "outputs": [],
   "source": [
    "PC_training = pl.DataFrame(\n",
    "    pca_model.fit_transform(X_training_std),\n",
    "    schema=[f\"PC{i+1}\" for i in range(pca_model.n_components_)],\n",
    ")"
   ]
  },
  {
   "cell_type": "code",
   "execution_count": 26,
   "id": "d01dfbae",
   "metadata": {
    "lines_to_next_cell": 2,
    "title": "In[20]:"
   },
   "outputs": [
    {
     "data": {
      "text/html": [
       "<div><style>\n",
       ".dataframe > thead > tr,\n",
       ".dataframe > tbody > tr {\n",
       "  text-align: right;\n",
       "  white-space: pre-wrap;\n",
       "}\n",
       "</style>\n",
       "<small>shape: (5, 4)</small><table border=\"1\" class=\"dataframe\"><thead><tr><th>PC1</th><th>PC2</th><th>PC3</th><th>PC4</th></tr><tr><td>f64</td><td>f64</td><td>f64</td><td>f64</td></tr></thead><tbody><tr><td>0.603434</td><td>0.597956</td><td>0.359986</td><td>1.536812</td></tr><tr><td>-0.187127</td><td>-0.54754</td><td>0.751389</td><td>0.107048</td></tr><tr><td>-1.344388</td><td>-1.31067</td><td>0.41031</td><td>-0.12629</td></tr><tr><td>0.305835</td><td>-1.714133</td><td>-1.032622</td><td>0.479863</td></tr><tr><td>0.047036</td><td>-0.948123</td><td>-0.037072</td><td>-0.208108</td></tr></tbody></table></div>"
      ],
      "text/plain": [
       "shape: (5, 4)\n",
       "┌───────────┬───────────┬───────────┬───────────┐\n",
       "│ PC1       ┆ PC2       ┆ PC3       ┆ PC4       │\n",
       "│ ---       ┆ ---       ┆ ---       ┆ ---       │\n",
       "│ f64       ┆ f64       ┆ f64       ┆ f64       │\n",
       "╞═══════════╪═══════════╪═══════════╪═══════════╡\n",
       "│ 0.603434  ┆ 0.597956  ┆ 0.359986  ┆ 1.536812  │\n",
       "│ -0.187127 ┆ -0.54754  ┆ 0.751389  ┆ 0.107048  │\n",
       "│ -1.344388 ┆ -1.31067  ┆ 0.41031   ┆ -0.12629  │\n",
       "│ 0.305835  ┆ -1.714133 ┆ -1.032622 ┆ 0.479863  │\n",
       "│ 0.047036  ┆ -0.948123 ┆ -0.037072 ┆ -0.208108 │\n",
       "└───────────┴───────────┴───────────┴───────────┘"
      ]
     },
     "execution_count": 26,
     "metadata": {},
     "output_type": "execute_result"
    }
   ],
   "source": [
    "PC_training.head()"
   ]
  },
  {
   "cell_type": "code",
   "execution_count": 27,
   "id": "0f07dd2e",
   "metadata": {},
   "outputs": [],
   "source": [
    "PC_validation = pl.DataFrame(\n",
    "    pca_model.fit_transform(X_validation_std),\n",
    "    schema=[f\"PC{i+1}\" for i in range(pca_model.n_components_)],\n",
    ")"
   ]
  },
  {
   "cell_type": "code",
   "execution_count": 28,
   "id": "53332ebc",
   "metadata": {},
   "outputs": [
    {
     "data": {
      "text/html": [
       "<div><style>\n",
       ".dataframe > thead > tr,\n",
       ".dataframe > tbody > tr {\n",
       "  text-align: right;\n",
       "  white-space: pre-wrap;\n",
       "}\n",
       "</style>\n",
       "<small>shape: (5, 4)</small><table border=\"1\" class=\"dataframe\"><thead><tr><th>PC1</th><th>PC2</th><th>PC3</th><th>PC4</th></tr><tr><td>f64</td><td>f64</td><td>f64</td><td>f64</td></tr></thead><tbody><tr><td>-0.483449</td><td>-1.227635</td><td>-0.403305</td><td>-0.062323</td></tr><tr><td>1.425497</td><td>-0.454747</td><td>0.802647</td><td>0.462208</td></tr><tr><td>-0.660081</td><td>-1.083157</td><td>0.490987</td><td>-0.174383</td></tr><tr><td>-0.508456</td><td>1.940639</td><td>0.251906</td><td>-0.411192</td></tr><tr><td>-1.767068</td><td>0.455057</td><td>-0.534033</td><td>0.454544</td></tr></tbody></table></div>"
      ],
      "text/plain": [
       "shape: (5, 4)\n",
       "┌───────────┬───────────┬───────────┬───────────┐\n",
       "│ PC1       ┆ PC2       ┆ PC3       ┆ PC4       │\n",
       "│ ---       ┆ ---       ┆ ---       ┆ ---       │\n",
       "│ f64       ┆ f64       ┆ f64       ┆ f64       │\n",
       "╞═══════════╪═══════════╪═══════════╪═══════════╡\n",
       "│ -0.483449 ┆ -1.227635 ┆ -0.403305 ┆ -0.062323 │\n",
       "│ 1.425497  ┆ -0.454747 ┆ 0.802647  ┆ 0.462208  │\n",
       "│ -0.660081 ┆ -1.083157 ┆ 0.490987  ┆ -0.174383 │\n",
       "│ -0.508456 ┆ 1.940639  ┆ 0.251906  ┆ -0.411192 │\n",
       "│ -1.767068 ┆ 0.455057  ┆ -0.534033 ┆ 0.454544  │\n",
       "└───────────┴───────────┴───────────┴───────────┘"
      ]
     },
     "execution_count": 28,
     "metadata": {},
     "output_type": "execute_result"
    }
   ],
   "source": [
    "PC_validation.head()"
   ]
  },
  {
   "cell_type": "markdown",
   "id": "60c4598a",
   "metadata": {},
   "source": [
    "# Metoda walidacji krzyżowej KFold\n",
    "n_splits = 10\n",
    "\n",
    "shuffle = True\n",
    "\n",
    "random_state = 0"
   ]
  },
  {
   "cell_type": "code",
   "execution_count": 29,
   "id": "2f56bd8e",
   "metadata": {
    "lines_to_next_cell": 2,
    "title": "In[20]:"
   },
   "outputs": [],
   "source": [
    "KFold_model = KFold(n_splits=10, shuffle=True, random_state=0)"
   ]
  },
  {
   "cell_type": "code",
   "execution_count": 30,
   "id": "29d15a3e",
   "metadata": {
    "lines_to_next_cell": 1,
    "title": "In[88]:"
   },
   "outputs": [],
   "source": [
    "def RMSE_cv(validation_sets, X_training: pl.DataFrame, Y_training: pl.DataFrame) -> pl.Float64:\n",
    "    residues = pl.Series(dtype=pl.Float64)\n",
    "\n",
    "    for validation_set in validation_sets:\n",
    "        x = (\n",
    "            X_training.with_row_index()\n",
    "            .filter(~pl.col(\"index\").is_in(validation_set))\n",
    "            .drop(pl.col(\"index\"))\n",
    "        )\n",
    "\n",
    "        y = (\n",
    "            Y_training.with_row_index()\n",
    "            .filter(~pl.col(\"index\").is_in(validation_set))\n",
    "            .drop(pl.col(\"index\"))\n",
    "        )\n",
    "\n",
    "        PCR_model = LinearRegression().fit(X=x, y=y)\n",
    "\n",
    "        prediction = PCR_model.predict(\n",
    "            X_training.with_row_index()\n",
    "            .filter(pl.col(\"index\").is_in(validation_set))\n",
    "            .drop(pl.col(\"index\"))\n",
    "        )\n",
    "\n",
    "        references = (\n",
    "            Y_training.with_row_index()\n",
    "            .filter(pl.col(\"index\").is_in(validation_set))\n",
    "            .drop(pl.col(\"index\"))\n",
    "        )\n",
    "\n",
    "        residues.append(pl.Series((prediction - references).flatten()))\n",
    "\n",
    "    return np.sqrt((residues**2).sum())"
   ]
  },
  {
   "cell_type": "code",
   "execution_count": 31,
   "id": "5d02d05a",
   "metadata": {
    "lines_to_next_cell": 1
   },
   "outputs": [],
   "source": [
    "def RMSE_c(X_training: pl.DataFrame, Y_training: pl.DataFrame) -> pl.Float64 | float:\n",
    "\n",
    "    PCR_model = LinearRegression().fit(X_training, Y_training)\n",
    "\n",
    "    return RMSE(\n",
    "        PCR_model.predict(X_training).flatten(),\n",
    "        Y_training\n",
    "    )"
   ]
  },
  {
   "cell_type": "markdown",
   "id": "ee55fc59",
   "metadata": {},
   "source": [
    "# Wykres zależności $RMSE_c$ i $RMSE_{cv}$ od liczby uwzględnianych głównych składowych"
   ]
  },
  {
   "cell_type": "code",
   "execution_count": 32,
   "id": "fb46e177",
   "metadata": {},
   "outputs": [],
   "source": [
    "validation_sets = [\n",
    "    validation_set\n",
    "    for (_, validation_set) in KFold_model.split(PC_training, Y_training_std)\n",
    "]"
   ]
  },
  {
   "cell_type": "code",
   "execution_count": 33,
   "id": "853c9b64",
   "metadata": {},
   "outputs": [
    {
     "data": {
      "text/html": [
       "<div><style>\n",
       ".dataframe > thead > tr,\n",
       ".dataframe > tbody > tr {\n",
       "  text-align: right;\n",
       "  white-space: pre-wrap;\n",
       "}\n",
       "</style>\n",
       "<small>shape: (18, 4)</small><table border=\"1\" class=\"dataframe\"><thead><tr><th>PC1</th><th>PC2</th><th>PC3</th><th>PC4</th></tr><tr><td>f64</td><td>f64</td><td>f64</td><td>f64</td></tr></thead><tbody><tr><td>0.603434</td><td>0.597956</td><td>0.359986</td><td>1.536812</td></tr><tr><td>-0.187127</td><td>-0.54754</td><td>0.751389</td><td>0.107048</td></tr><tr><td>-1.344388</td><td>-1.31067</td><td>0.41031</td><td>-0.12629</td></tr><tr><td>0.305835</td><td>-1.714133</td><td>-1.032622</td><td>0.479863</td></tr><tr><td>0.047036</td><td>-0.948123</td><td>-0.037072</td><td>-0.208108</td></tr><tr><td>&hellip;</td><td>&hellip;</td><td>&hellip;</td><td>&hellip;</td></tr><tr><td>-0.675902</td><td>1.325922</td><td>0.605309</td><td>-0.624681</td></tr><tr><td>-1.35546</td><td>-0.185149</td><td>-0.574203</td><td>0.747786</td></tr><tr><td>2.333975</td><td>0.161194</td><td>-0.258067</td><td>-0.934377</td></tr><tr><td>2.217274</td><td>0.192647</td><td>0.231382</td><td>0.297142</td></tr><tr><td>-0.935904</td><td>-0.935718</td><td>0.562393</td><td>-0.411808</td></tr></tbody></table></div>"
      ],
      "text/plain": [
       "shape: (18, 4)\n",
       "┌───────────┬───────────┬───────────┬───────────┐\n",
       "│ PC1       ┆ PC2       ┆ PC3       ┆ PC4       │\n",
       "│ ---       ┆ ---       ┆ ---       ┆ ---       │\n",
       "│ f64       ┆ f64       ┆ f64       ┆ f64       │\n",
       "╞═══════════╪═══════════╪═══════════╪═══════════╡\n",
       "│ 0.603434  ┆ 0.597956  ┆ 0.359986  ┆ 1.536812  │\n",
       "│ -0.187127 ┆ -0.54754  ┆ 0.751389  ┆ 0.107048  │\n",
       "│ -1.344388 ┆ -1.31067  ┆ 0.41031   ┆ -0.12629  │\n",
       "│ 0.305835  ┆ -1.714133 ┆ -1.032622 ┆ 0.479863  │\n",
       "│ 0.047036  ┆ -0.948123 ┆ -0.037072 ┆ -0.208108 │\n",
       "│ …         ┆ …         ┆ …         ┆ …         │\n",
       "│ -0.675902 ┆ 1.325922  ┆ 0.605309  ┆ -0.624681 │\n",
       "│ -1.35546  ┆ -0.185149 ┆ -0.574203 ┆ 0.747786  │\n",
       "│ 2.333975  ┆ 0.161194  ┆ -0.258067 ┆ -0.934377 │\n",
       "│ 2.217274  ┆ 0.192647  ┆ 0.231382  ┆ 0.297142  │\n",
       "│ -0.935904 ┆ -0.935718 ┆ 0.562393  ┆ -0.411808 │\n",
       "└───────────┴───────────┴───────────┴───────────┘"
      ]
     },
     "execution_count": 33,
     "metadata": {},
     "output_type": "execute_result"
    }
   ],
   "source": [
    "PC_training.select(pl.nth(range(0,4)))"
   ]
  },
  {
   "cell_type": "code",
   "execution_count": null,
   "id": "64994c82",
   "metadata": {
    "lines_to_next_cell": 1
   },
   "outputs": [],
   "source": [
    "def principal_component_plot(n: int, X_training: pl.DataFrame, Y_training: pl.DataFrame):\n",
    "    CV_results = []\n",
    "    cal_results = []\n",
    "    for order in range(1, n+1):\n",
    "        X_training_ = X_training.select(pl.nth(range(0,order)))\n",
    "        PCR_model = LinearRegression().fit(X_training_, Y_training)\n",
    "\n",
    "        _RMSE_cv = RMSE_cv(validation_sets, X_training_, Y_training)\n",
    "        CV_results.append(_RMSE_cv)\n",
    "\n",
    "        _RMSE_c = RMSE(\n",
    "            PCR_model.predict(X_training_).flatten(), \n",
    "            Y_training)\n",
    "        cal_results.append(_RMSE_c)\n",
    "\n",
    "        print(f'Principal components: {order}\\tCV: {_RMSE_cv}\\tC:{_RMSE_c}')\n",
    "\n",
    "    plt.plot(range(1,n+1), CV_results, label='RMSE_cv')\n",
    "    plt.plot(range(1,n+1), cal_results, label='RMSE_c')\n",
    "    plt.xticks(np.arange(1,5,1))\n",
    "    plt.xlabel(\"Liczba głównych składowych\")\n",
    "    plt.legend()\n",
    "    plt.show()"
   ]
  },
  {
   "cell_type": "code",
   "execution_count": 37,
   "id": "0c37c882",
   "metadata": {},
   "outputs": [
    {
     "name": "stdout",
     "output_type": "stream",
     "text": [
      "Principal components: 1\tCV: 1.938495928332668\tC:0.4158194648232199\n",
      "Principal components: 2\tCV: 1.8867516039797811\tC:0.3690580449060811\n",
      "Principal components: 3\tCV: 1.9521650321888737\tC:0.35281783073975787\n",
      "Principal components: 4\tCV: 2.0076676074667605\tC:0.3445549821089655\n"
     ]
    },
    {
     "data": {
      "image/png": "[encoded data removed]",
      "text/plain": [
       "<Figure size 640x480 with 1 Axes>"
      ]
     },
     "metadata": {},
     "output_type": "display_data"
    }
   ],
   "source": [
    "principal_component_plot(4, PC_training, Y_training_std)"
   ]
  },
  {
   "cell_type": "markdown",
   "id": "52870873",
   "metadata": {},
   "source": [
    "Po analizie powyższego wykresu uważam, że istotną liczbą głównych składowych dla późniejszego zastosowania modelu jest 2. Moja opinia wynika ze względu na najniższą wartość $RMSE_{cv}$, czyli najstabilniejszy model oraz nieróżniącą się dużo wartością $RMSE_c$, czyli relatywnie dobrze przewidujący model dla danych kalibracyjnych."
   ]
  },
  {
   "cell_type": "code",
   "execution_count": 38,
   "id": "4c6cdd87",
   "metadata": {},
   "outputs": [],
   "source": [
    "significant_model = LinearRegression().fit(PC_training.select(pl.nth(range(0,2))), Y_training_std)"
   ]
  },
  {
   "cell_type": "markdown",
   "id": "f3ca9420",
   "metadata": {},
   "source": [
    "$R^2$"
   ]
  },
  {
   "cell_type": "code",
   "execution_count": 39,
   "id": "09c32088",
   "metadata": {},
   "outputs": [
    {
     "data": {
      "text/plain": [
       "0.8557841688718717"
      ]
     },
     "execution_count": 39,
     "metadata": {},
     "output_type": "execute_result"
    }
   ],
   "source": [
    "R2(\n",
    "    significant_model.predict(PC_training.select(pl.nth(range(0,2)))).flatten(),\n",
    "    Y_training_std\n",
    ")"
   ]
  },
  {
   "cell_type": "markdown",
   "id": "6cda6bbd",
   "metadata": {},
   "source": [
    "$RMSE_c$"
   ]
  },
  {
   "cell_type": "code",
   "execution_count": 40,
   "id": "99fa5352",
   "metadata": {
    "lines_to_next_cell": 2
   },
   "outputs": [
    {
     "data": {
      "text/plain": [
       "0.3690580449060811"
      ]
     },
     "execution_count": 40,
     "metadata": {},
     "output_type": "execute_result"
    }
   ],
   "source": [
    "RMSE(\n",
    "    significant_model.predict(PC_training.select(pl.nth(range(0,2)))).flatten(),\n",
    "    Y_training_std\n",
    ")"
   ]
  },
  {
   "cell_type": "markdown",
   "id": "abcc898f",
   "metadata": {},
   "source": [
    "$Q^2_{ext}$"
   ]
  },
  {
   "cell_type": "code",
   "execution_count": 41,
   "id": "91b31d4b",
   "metadata": {},
   "outputs": [
    {
     "data": {
      "text/plain": [
       "-2.692742042256873"
      ]
     },
     "execution_count": 41,
     "metadata": {},
     "output_type": "execute_result"
    }
   ],
   "source": [
    "Q2(\n",
    "    significant_model.predict(PC_validation.select(pl.nth(range(0,2)))).flatten(),\n",
    "    Y_validation\n",
    ")"
   ]
  },
  {
   "cell_type": "markdown",
   "id": "e978cc25",
   "metadata": {},
   "source": [
    "$RMSE_{ext}$"
   ]
  },
  {
   "cell_type": "code",
   "execution_count": 42,
   "id": "ad3c0fcc",
   "metadata": {},
   "outputs": [
    {
     "data": {
      "text/plain": [
       "1.6339934386300305"
      ]
     },
     "execution_count": 42,
     "metadata": {},
     "output_type": "execute_result"
    }
   ],
   "source": [
    "RMSE(\n",
    "    significant_model.predict(PC_validation.select(pl.nth(range(0,2)))).flatten(),\n",
    "    Y_validation\n",
    ")"
   ]
  },
  {
   "cell_type": "markdown",
   "id": "85470a86",
   "metadata": {},
   "source": [
    "Otrzymany model wykorzystujący 2 główne składowe daje bardzo słabe wyniki. Analizując macierz korelacji wynika, że metoda PCR jest nie jest odpowiednia dla tego zestawu danych, ponieważ wartości bezwzględne są mniejsze od 0.7, czyli dane są słabo skorelowane."
   ]
  }
 ],
 "metadata": {
  "jupytext": {
   "cell_metadata_filter": "title,-all",
   "encoding": "# coding: utf-8",
   "executable": "/usr/bin/env python",
   "main_language": "python",
   "notebook_metadata_filter": "-all"
  },
  "kernelspec": {
   "display_name": ".venv",
   "language": "python",
   "name": "python3"
  },
  "language_info": {
   "codemirror_mode": {
    "name": "ipython",
    "version": 3
   },
   "file_extension": ".py",
   "mimetype": "text/x-python",
   "name": "python",
   "nbconvert_exporter": "python",
   "pygments_lexer": "ipython3",
   "version": "3.12.7"
  }
 },
 "nbformat": 4,
 "nbformat_minor": 5
}
