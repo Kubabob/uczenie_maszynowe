{
 "cells": [
  {
   "cell_type": "code",
   "execution_count": 45,
   "metadata": {},
   "outputs": [],
   "source": [
    "import polars as pl\n",
    "from sklearn.decomposition import PCA\n",
    "from sklearn.model_selection import train_test_split, KFold\n",
    "from sklearn.linear_model import LinearRegression"
   ]
  },
  {
   "cell_type": "code",
   "execution_count": 24,
   "metadata": {},
   "outputs": [],
   "source": [
    "input_matrix = pl.read_excel(\n",
    "    source=\"dane_leki.xlsx\"\n",
    ")"
   ]
  },
  {
   "cell_type": "code",
   "execution_count": 25,
   "metadata": {},
   "outputs": [
    {
     "data": {
      "text/html": [
       "<div><style>\n",
       ".dataframe > thead > tr,\n",
       ".dataframe > tbody > tr {\n",
       "  text-align: right;\n",
       "  white-space: pre-wrap;\n",
       "}\n",
       "</style>\n",
       "<small>shape: (5, 8)</small><table border=\"1\" class=\"dataframe\"><thead><tr><th>__UNNAMED__0</th><th>Nazwa</th><th>logK HSA</th><th>logKCTAB</th><th>CATS3D_00_DD</th><th>CATS3D_09_AL</th><th>CATS3D_00_AA</th><th>Zbiór</th></tr><tr><td>i64</td><td>str</td><td>f64</td><td>f64</td><td>i64</td><td>i64</td><td>i64</td><td>str</td></tr></thead><tbody><tr><td>1</td><td>&quot;acetaminophen&quot;</td><td>-0.79</td><td>-0.63</td><td>2</td><td>0</td><td>2</td><td>&quot;t&quot;</td></tr><tr><td>2</td><td>&quot;acetylsalicylic acid&quot;</td><td>-0.23</td><td>1.22</td><td>1</td><td>0</td><td>4</td><td>&quot;t&quot;</td></tr><tr><td>3</td><td>&quot;bromazepam&quot;</td><td>0.38</td><td>0.57</td><td>1</td><td>0</td><td>3</td><td>&quot;t&quot;</td></tr><tr><td>4</td><td>&quot;carbamazepine&quot;</td><td>0.69</td><td>0.68</td><td>0</td><td>0</td><td>3</td><td>&quot;t&quot;</td></tr><tr><td>5</td><td>&quot;chlorpromazine&quot;</td><td>1.18</td><td>1.5</td><td>0</td><td>0</td><td>2</td><td>&quot;t&quot;</td></tr></tbody></table></div>"
      ],
      "text/plain": [
       "shape: (5, 8)\n",
       "┌─────────────┬─────────────┬──────────┬──────────┬─────────────┬─────────────┬────────────┬───────┐\n",
       "│ __UNNAMED__ ┆ Nazwa       ┆ logK HSA ┆ logKCTAB ┆ CATS3D_00_D ┆ CATS3D_09_A ┆ CATS3D_00_ ┆ Zbiór │\n",
       "│ 0           ┆ ---         ┆ ---      ┆ ---      ┆ D           ┆ L           ┆ AA         ┆ ---   │\n",
       "│ ---         ┆ str         ┆ f64      ┆ f64      ┆ ---         ┆ ---         ┆ ---        ┆ str   │\n",
       "│ i64         ┆             ┆          ┆          ┆ i64         ┆ i64         ┆ i64        ┆       │\n",
       "╞═════════════╪═════════════╪══════════╪══════════╪═════════════╪═════════════╪════════════╪═══════╡\n",
       "│ 1           ┆ acetaminoph ┆ -0.79    ┆ -0.63    ┆ 2           ┆ 0           ┆ 2          ┆ t     │\n",
       "│             ┆ en          ┆          ┆          ┆             ┆             ┆            ┆       │\n",
       "│ 2           ┆ acetylsalic ┆ -0.23    ┆ 1.22     ┆ 1           ┆ 0           ┆ 4          ┆ t     │\n",
       "│             ┆ ylic acid   ┆          ┆          ┆             ┆             ┆            ┆       │\n",
       "│ 3           ┆ bromazepam  ┆ 0.38     ┆ 0.57     ┆ 1           ┆ 0           ┆ 3          ┆ t     │\n",
       "│ 4           ┆ carbamazepi ┆ 0.69     ┆ 0.68     ┆ 0           ┆ 0           ┆ 3          ┆ t     │\n",
       "│             ┆ ne          ┆          ┆          ┆             ┆             ┆            ┆       │\n",
       "│ 5           ┆ chlorpromaz ┆ 1.18     ┆ 1.5      ┆ 0           ┆ 0           ┆ 2          ┆ t     │\n",
       "│             ┆ ine         ┆          ┆          ┆             ┆             ┆            ┆       │\n",
       "└─────────────┴─────────────┴──────────┴──────────┴─────────────┴─────────────┴────────────┴───────┘"
      ]
     },
     "execution_count": 25,
     "metadata": {},
     "output_type": "execute_result"
    }
   ],
   "source": [
    "input_matrix.head()"
   ]
  },
  {
   "cell_type": "code",
   "execution_count": 26,
   "metadata": {},
   "outputs": [],
   "source": [
    "Y_obs = input_matrix.select(\n",
    "    pl.nth(2)\n",
    ")"
   ]
  },
  {
   "cell_type": "code",
   "execution_count": 27,
   "metadata": {},
   "outputs": [
    {
     "data": {
      "text/html": [
       "<div><style>\n",
       ".dataframe > thead > tr,\n",
       ".dataframe > tbody > tr {\n",
       "  text-align: right;\n",
       "  white-space: pre-wrap;\n",
       "}\n",
       "</style>\n",
       "<small>shape: (5, 1)</small><table border=\"1\" class=\"dataframe\"><thead><tr><th>logK HSA</th></tr><tr><td>f64</td></tr></thead><tbody><tr><td>-0.79</td></tr><tr><td>-0.23</td></tr><tr><td>0.38</td></tr><tr><td>0.69</td></tr><tr><td>1.18</td></tr></tbody></table></div>"
      ],
      "text/plain": [
       "shape: (5, 1)\n",
       "┌──────────┐\n",
       "│ logK HSA │\n",
       "│ ---      │\n",
       "│ f64      │\n",
       "╞══════════╡\n",
       "│ -0.79    │\n",
       "│ -0.23    │\n",
       "│ 0.38     │\n",
       "│ 0.69     │\n",
       "│ 1.18     │\n",
       "└──────────┘"
      ]
     },
     "execution_count": 27,
     "metadata": {},
     "output_type": "execute_result"
    }
   ],
   "source": [
    "Y_obs.head()"
   ]
  },
  {
   "cell_type": "code",
   "execution_count": 28,
   "metadata": {},
   "outputs": [],
   "source": [
    "descriptors = input_matrix.select(\n",
    "    pl.nth([3,4,5,6])\n",
    ")"
   ]
  },
  {
   "cell_type": "code",
   "execution_count": 29,
   "metadata": {},
   "outputs": [
    {
     "data": {
      "text/html": [
       "<div><style>\n",
       ".dataframe > thead > tr,\n",
       ".dataframe > tbody > tr {\n",
       "  text-align: right;\n",
       "  white-space: pre-wrap;\n",
       "}\n",
       "</style>\n",
       "<small>shape: (5, 4)</small><table border=\"1\" class=\"dataframe\"><thead><tr><th>logKCTAB</th><th>CATS3D_00_DD</th><th>CATS3D_09_AL</th><th>CATS3D_00_AA</th></tr><tr><td>f64</td><td>i64</td><td>i64</td><td>i64</td></tr></thead><tbody><tr><td>-0.63</td><td>2</td><td>0</td><td>2</td></tr><tr><td>1.22</td><td>1</td><td>0</td><td>4</td></tr><tr><td>0.57</td><td>1</td><td>0</td><td>3</td></tr><tr><td>0.68</td><td>0</td><td>0</td><td>3</td></tr><tr><td>1.5</td><td>0</td><td>0</td><td>2</td></tr></tbody></table></div>"
      ],
      "text/plain": [
       "shape: (5, 4)\n",
       "┌──────────┬──────────────┬──────────────┬──────────────┐\n",
       "│ logKCTAB ┆ CATS3D_00_DD ┆ CATS3D_09_AL ┆ CATS3D_00_AA │\n",
       "│ ---      ┆ ---          ┆ ---          ┆ ---          │\n",
       "│ f64      ┆ i64          ┆ i64          ┆ i64          │\n",
       "╞══════════╪══════════════╪══════════════╪══════════════╡\n",
       "│ -0.63    ┆ 2            ┆ 0            ┆ 2            │\n",
       "│ 1.22     ┆ 1            ┆ 0            ┆ 4            │\n",
       "│ 0.57     ┆ 1            ┆ 0            ┆ 3            │\n",
       "│ 0.68     ┆ 0            ┆ 0            ┆ 3            │\n",
       "│ 1.5      ┆ 0            ┆ 0            ┆ 2            │\n",
       "└──────────┴──────────────┴──────────────┴──────────────┘"
      ]
     },
     "execution_count": 29,
     "metadata": {},
     "output_type": "execute_result"
    }
   ],
   "source": [
    "descriptors.head()"
   ]
  },
  {
   "cell_type": "code",
   "execution_count": 30,
   "metadata": {},
   "outputs": [],
   "source": [
    "pca_model_first = PCA(n_components=4)"
   ]
  },
  {
   "cell_type": "code",
   "execution_count": 31,
   "metadata": {},
   "outputs": [
    {
     "data": {
      "text/html": [
       "<style>#sk-container-id-2 {\n",
       "  /* Definition of color scheme common for light and dark mode */\n",
       "  --sklearn-color-text: black;\n",
       "  --sklearn-color-line: gray;\n",
       "  /* Definition of color scheme for unfitted estimators */\n",
       "  --sklearn-color-unfitted-level-0: #fff5e6;\n",
       "  --sklearn-color-unfitted-level-1: #f6e4d2;\n",
       "  --sklearn-color-unfitted-level-2: #ffe0b3;\n",
       "  --sklearn-color-unfitted-level-3: chocolate;\n",
       "  /* Definition of color scheme for fitted estimators */\n",
       "  --sklearn-color-fitted-level-0: #f0f8ff;\n",
       "  --sklearn-color-fitted-level-1: #d4ebff;\n",
       "  --sklearn-color-fitted-level-2: #b3dbfd;\n",
       "  --sklearn-color-fitted-level-3: cornflowerblue;\n",
       "\n",
       "  /* Specific color for light theme */\n",
       "  --sklearn-color-text-on-default-background: var(--sg-text-color, var(--theme-code-foreground, var(--jp-content-font-color1, black)));\n",
       "  --sklearn-color-background: var(--sg-background-color, var(--theme-background, var(--jp-layout-color0, white)));\n",
       "  --sklearn-color-border-box: var(--sg-text-color, var(--theme-code-foreground, var(--jp-content-font-color1, black)));\n",
       "  --sklearn-color-icon: #696969;\n",
       "\n",
       "  @media (prefers-color-scheme: dark) {\n",
       "    /* Redefinition of color scheme for dark theme */\n",
       "    --sklearn-color-text-on-default-background: var(--sg-text-color, var(--theme-code-foreground, var(--jp-content-font-color1, white)));\n",
       "    --sklearn-color-background: var(--sg-background-color, var(--theme-background, var(--jp-layout-color0, #111)));\n",
       "    --sklearn-color-border-box: var(--sg-text-color, var(--theme-code-foreground, var(--jp-content-font-color1, white)));\n",
       "    --sklearn-color-icon: #878787;\n",
       "  }\n",
       "}\n",
       "\n",
       "#sk-container-id-2 {\n",
       "  color: var(--sklearn-color-text);\n",
       "}\n",
       "\n",
       "#sk-container-id-2 pre {\n",
       "  padding: 0;\n",
       "}\n",
       "\n",
       "#sk-container-id-2 input.sk-hidden--visually {\n",
       "  border: 0;\n",
       "  clip: rect(1px 1px 1px 1px);\n",
       "  clip: rect(1px, 1px, 1px, 1px);\n",
       "  height: 1px;\n",
       "  margin: -1px;\n",
       "  overflow: hidden;\n",
       "  padding: 0;\n",
       "  position: absolute;\n",
       "  width: 1px;\n",
       "}\n",
       "\n",
       "#sk-container-id-2 div.sk-dashed-wrapped {\n",
       "  border: 1px dashed var(--sklearn-color-line);\n",
       "  margin: 0 0.4em 0.5em 0.4em;\n",
       "  box-sizing: border-box;\n",
       "  padding-bottom: 0.4em;\n",
       "  background-color: var(--sklearn-color-background);\n",
       "}\n",
       "\n",
       "#sk-container-id-2 div.sk-container {\n",
       "  /* jupyter's `normalize.less` sets `[hidden] { display: none; }`\n",
       "     but bootstrap.min.css set `[hidden] { display: none !important; }`\n",
       "     so we also need the `!important` here to be able to override the\n",
       "     default hidden behavior on the sphinx rendered scikit-learn.org.\n",
       "     See: https://github.com/scikit-learn/scikit-learn/issues/21755 */\n",
       "  display: inline-block !important;\n",
       "  position: relative;\n",
       "}\n",
       "\n",
       "#sk-container-id-2 div.sk-text-repr-fallback {\n",
       "  display: none;\n",
       "}\n",
       "\n",
       "div.sk-parallel-item,\n",
       "div.sk-serial,\n",
       "div.sk-item {\n",
       "  /* draw centered vertical line to link estimators */\n",
       "  background-image: linear-gradient(var(--sklearn-color-text-on-default-background), var(--sklearn-color-text-on-default-background));\n",
       "  background-size: 2px 100%;\n",
       "  background-repeat: no-repeat;\n",
       "  background-position: center center;\n",
       "}\n",
       "\n",
       "/* Parallel-specific style estimator block */\n",
       "\n",
       "#sk-container-id-2 div.sk-parallel-item::after {\n",
       "  content: \"\";\n",
       "  width: 100%;\n",
       "  border-bottom: 2px solid var(--sklearn-color-text-on-default-background);\n",
       "  flex-grow: 1;\n",
       "}\n",
       "\n",
       "#sk-container-id-2 div.sk-parallel {\n",
       "  display: flex;\n",
       "  align-items: stretch;\n",
       "  justify-content: center;\n",
       "  background-color: var(--sklearn-color-background);\n",
       "  position: relative;\n",
       "}\n",
       "\n",
       "#sk-container-id-2 div.sk-parallel-item {\n",
       "  display: flex;\n",
       "  flex-direction: column;\n",
       "}\n",
       "\n",
       "#sk-container-id-2 div.sk-parallel-item:first-child::after {\n",
       "  align-self: flex-end;\n",
       "  width: 50%;\n",
       "}\n",
       "\n",
       "#sk-container-id-2 div.sk-parallel-item:last-child::after {\n",
       "  align-self: flex-start;\n",
       "  width: 50%;\n",
       "}\n",
       "\n",
       "#sk-container-id-2 div.sk-parallel-item:only-child::after {\n",
       "  width: 0;\n",
       "}\n",
       "\n",
       "/* Serial-specific style estimator block */\n",
       "\n",
       "#sk-container-id-2 div.sk-serial {\n",
       "  display: flex;\n",
       "  flex-direction: column;\n",
       "  align-items: center;\n",
       "  background-color: var(--sklearn-color-background);\n",
       "  padding-right: 1em;\n",
       "  padding-left: 1em;\n",
       "}\n",
       "\n",
       "\n",
       "/* Toggleable style: style used for estimator/Pipeline/ColumnTransformer box that is\n",
       "clickable and can be expanded/collapsed.\n",
       "- Pipeline and ColumnTransformer use this feature and define the default style\n",
       "- Estimators will overwrite some part of the style using the `sk-estimator` class\n",
       "*/\n",
       "\n",
       "/* Pipeline and ColumnTransformer style (default) */\n",
       "\n",
       "#sk-container-id-2 div.sk-toggleable {\n",
       "  /* Default theme specific background. It is overwritten whether we have a\n",
       "  specific estimator or a Pipeline/ColumnTransformer */\n",
       "  background-color: var(--sklearn-color-background);\n",
       "}\n",
       "\n",
       "/* Toggleable label */\n",
       "#sk-container-id-2 label.sk-toggleable__label {\n",
       "  cursor: pointer;\n",
       "  display: block;\n",
       "  width: 100%;\n",
       "  margin-bottom: 0;\n",
       "  padding: 0.5em;\n",
       "  box-sizing: border-box;\n",
       "  text-align: center;\n",
       "}\n",
       "\n",
       "#sk-container-id-2 label.sk-toggleable__label-arrow:before {\n",
       "  /* Arrow on the left of the label */\n",
       "  content: \"▸\";\n",
       "  float: left;\n",
       "  margin-right: 0.25em;\n",
       "  color: var(--sklearn-color-icon);\n",
       "}\n",
       "\n",
       "#sk-container-id-2 label.sk-toggleable__label-arrow:hover:before {\n",
       "  color: var(--sklearn-color-text);\n",
       "}\n",
       "\n",
       "/* Toggleable content - dropdown */\n",
       "\n",
       "#sk-container-id-2 div.sk-toggleable__content {\n",
       "  max-height: 0;\n",
       "  max-width: 0;\n",
       "  overflow: hidden;\n",
       "  text-align: left;\n",
       "  /* unfitted */\n",
       "  background-color: var(--sklearn-color-unfitted-level-0);\n",
       "}\n",
       "\n",
       "#sk-container-id-2 div.sk-toggleable__content.fitted {\n",
       "  /* fitted */\n",
       "  background-color: var(--sklearn-color-fitted-level-0);\n",
       "}\n",
       "\n",
       "#sk-container-id-2 div.sk-toggleable__content pre {\n",
       "  margin: 0.2em;\n",
       "  border-radius: 0.25em;\n",
       "  color: var(--sklearn-color-text);\n",
       "  /* unfitted */\n",
       "  background-color: var(--sklearn-color-unfitted-level-0);\n",
       "}\n",
       "\n",
       "#sk-container-id-2 div.sk-toggleable__content.fitted pre {\n",
       "  /* unfitted */\n",
       "  background-color: var(--sklearn-color-fitted-level-0);\n",
       "}\n",
       "\n",
       "#sk-container-id-2 input.sk-toggleable__control:checked~div.sk-toggleable__content {\n",
       "  /* Expand drop-down */\n",
       "  max-height: 200px;\n",
       "  max-width: 100%;\n",
       "  overflow: auto;\n",
       "}\n",
       "\n",
       "#sk-container-id-2 input.sk-toggleable__control:checked~label.sk-toggleable__label-arrow:before {\n",
       "  content: \"▾\";\n",
       "}\n",
       "\n",
       "/* Pipeline/ColumnTransformer-specific style */\n",
       "\n",
       "#sk-container-id-2 div.sk-label input.sk-toggleable__control:checked~label.sk-toggleable__label {\n",
       "  color: var(--sklearn-color-text);\n",
       "  background-color: var(--sklearn-color-unfitted-level-2);\n",
       "}\n",
       "\n",
       "#sk-container-id-2 div.sk-label.fitted input.sk-toggleable__control:checked~label.sk-toggleable__label {\n",
       "  background-color: var(--sklearn-color-fitted-level-2);\n",
       "}\n",
       "\n",
       "/* Estimator-specific style */\n",
       "\n",
       "/* Colorize estimator box */\n",
       "#sk-container-id-2 div.sk-estimator input.sk-toggleable__control:checked~label.sk-toggleable__label {\n",
       "  /* unfitted */\n",
       "  background-color: var(--sklearn-color-unfitted-level-2);\n",
       "}\n",
       "\n",
       "#sk-container-id-2 div.sk-estimator.fitted input.sk-toggleable__control:checked~label.sk-toggleable__label {\n",
       "  /* fitted */\n",
       "  background-color: var(--sklearn-color-fitted-level-2);\n",
       "}\n",
       "\n",
       "#sk-container-id-2 div.sk-label label.sk-toggleable__label,\n",
       "#sk-container-id-2 div.sk-label label {\n",
       "  /* The background is the default theme color */\n",
       "  color: var(--sklearn-color-text-on-default-background);\n",
       "}\n",
       "\n",
       "/* On hover, darken the color of the background */\n",
       "#sk-container-id-2 div.sk-label:hover label.sk-toggleable__label {\n",
       "  color: var(--sklearn-color-text);\n",
       "  background-color: var(--sklearn-color-unfitted-level-2);\n",
       "}\n",
       "\n",
       "/* Label box, darken color on hover, fitted */\n",
       "#sk-container-id-2 div.sk-label.fitted:hover label.sk-toggleable__label.fitted {\n",
       "  color: var(--sklearn-color-text);\n",
       "  background-color: var(--sklearn-color-fitted-level-2);\n",
       "}\n",
       "\n",
       "/* Estimator label */\n",
       "\n",
       "#sk-container-id-2 div.sk-label label {\n",
       "  font-family: monospace;\n",
       "  font-weight: bold;\n",
       "  display: inline-block;\n",
       "  line-height: 1.2em;\n",
       "}\n",
       "\n",
       "#sk-container-id-2 div.sk-label-container {\n",
       "  text-align: center;\n",
       "}\n",
       "\n",
       "/* Estimator-specific */\n",
       "#sk-container-id-2 div.sk-estimator {\n",
       "  font-family: monospace;\n",
       "  border: 1px dotted var(--sklearn-color-border-box);\n",
       "  border-radius: 0.25em;\n",
       "  box-sizing: border-box;\n",
       "  margin-bottom: 0.5em;\n",
       "  /* unfitted */\n",
       "  background-color: var(--sklearn-color-unfitted-level-0);\n",
       "}\n",
       "\n",
       "#sk-container-id-2 div.sk-estimator.fitted {\n",
       "  /* fitted */\n",
       "  background-color: var(--sklearn-color-fitted-level-0);\n",
       "}\n",
       "\n",
       "/* on hover */\n",
       "#sk-container-id-2 div.sk-estimator:hover {\n",
       "  /* unfitted */\n",
       "  background-color: var(--sklearn-color-unfitted-level-2);\n",
       "}\n",
       "\n",
       "#sk-container-id-2 div.sk-estimator.fitted:hover {\n",
       "  /* fitted */\n",
       "  background-color: var(--sklearn-color-fitted-level-2);\n",
       "}\n",
       "\n",
       "/* Specification for estimator info (e.g. \"i\" and \"?\") */\n",
       "\n",
       "/* Common style for \"i\" and \"?\" */\n",
       "\n",
       ".sk-estimator-doc-link,\n",
       "a:link.sk-estimator-doc-link,\n",
       "a:visited.sk-estimator-doc-link {\n",
       "  float: right;\n",
       "  font-size: smaller;\n",
       "  line-height: 1em;\n",
       "  font-family: monospace;\n",
       "  background-color: var(--sklearn-color-background);\n",
       "  border-radius: 1em;\n",
       "  height: 1em;\n",
       "  width: 1em;\n",
       "  text-decoration: none !important;\n",
       "  margin-left: 1ex;\n",
       "  /* unfitted */\n",
       "  border: var(--sklearn-color-unfitted-level-1) 1pt solid;\n",
       "  color: var(--sklearn-color-unfitted-level-1);\n",
       "}\n",
       "\n",
       ".sk-estimator-doc-link.fitted,\n",
       "a:link.sk-estimator-doc-link.fitted,\n",
       "a:visited.sk-estimator-doc-link.fitted {\n",
       "  /* fitted */\n",
       "  border: var(--sklearn-color-fitted-level-1) 1pt solid;\n",
       "  color: var(--sklearn-color-fitted-level-1);\n",
       "}\n",
       "\n",
       "/* On hover */\n",
       "div.sk-estimator:hover .sk-estimator-doc-link:hover,\n",
       ".sk-estimator-doc-link:hover,\n",
       "div.sk-label-container:hover .sk-estimator-doc-link:hover,\n",
       ".sk-estimator-doc-link:hover {\n",
       "  /* unfitted */\n",
       "  background-color: var(--sklearn-color-unfitted-level-3);\n",
       "  color: var(--sklearn-color-background);\n",
       "  text-decoration: none;\n",
       "}\n",
       "\n",
       "div.sk-estimator.fitted:hover .sk-estimator-doc-link.fitted:hover,\n",
       ".sk-estimator-doc-link.fitted:hover,\n",
       "div.sk-label-container:hover .sk-estimator-doc-link.fitted:hover,\n",
       ".sk-estimator-doc-link.fitted:hover {\n",
       "  /* fitted */\n",
       "  background-color: var(--sklearn-color-fitted-level-3);\n",
       "  color: var(--sklearn-color-background);\n",
       "  text-decoration: none;\n",
       "}\n",
       "\n",
       "/* Span, style for the box shown on hovering the info icon */\n",
       ".sk-estimator-doc-link span {\n",
       "  display: none;\n",
       "  z-index: 9999;\n",
       "  position: relative;\n",
       "  font-weight: normal;\n",
       "  right: .2ex;\n",
       "  padding: .5ex;\n",
       "  margin: .5ex;\n",
       "  width: min-content;\n",
       "  min-width: 20ex;\n",
       "  max-width: 50ex;\n",
       "  color: var(--sklearn-color-text);\n",
       "  box-shadow: 2pt 2pt 4pt #999;\n",
       "  /* unfitted */\n",
       "  background: var(--sklearn-color-unfitted-level-0);\n",
       "  border: .5pt solid var(--sklearn-color-unfitted-level-3);\n",
       "}\n",
       "\n",
       ".sk-estimator-doc-link.fitted span {\n",
       "  /* fitted */\n",
       "  background: var(--sklearn-color-fitted-level-0);\n",
       "  border: var(--sklearn-color-fitted-level-3);\n",
       "}\n",
       "\n",
       ".sk-estimator-doc-link:hover span {\n",
       "  display: block;\n",
       "}\n",
       "\n",
       "/* \"?\"-specific style due to the `<a>` HTML tag */\n",
       "\n",
       "#sk-container-id-2 a.estimator_doc_link {\n",
       "  float: right;\n",
       "  font-size: 1rem;\n",
       "  line-height: 1em;\n",
       "  font-family: monospace;\n",
       "  background-color: var(--sklearn-color-background);\n",
       "  border-radius: 1rem;\n",
       "  height: 1rem;\n",
       "  width: 1rem;\n",
       "  text-decoration: none;\n",
       "  /* unfitted */\n",
       "  color: var(--sklearn-color-unfitted-level-1);\n",
       "  border: var(--sklearn-color-unfitted-level-1) 1pt solid;\n",
       "}\n",
       "\n",
       "#sk-container-id-2 a.estimator_doc_link.fitted {\n",
       "  /* fitted */\n",
       "  border: var(--sklearn-color-fitted-level-1) 1pt solid;\n",
       "  color: var(--sklearn-color-fitted-level-1);\n",
       "}\n",
       "\n",
       "/* On hover */\n",
       "#sk-container-id-2 a.estimator_doc_link:hover {\n",
       "  /* unfitted */\n",
       "  background-color: var(--sklearn-color-unfitted-level-3);\n",
       "  color: var(--sklearn-color-background);\n",
       "  text-decoration: none;\n",
       "}\n",
       "\n",
       "#sk-container-id-2 a.estimator_doc_link.fitted:hover {\n",
       "  /* fitted */\n",
       "  background-color: var(--sklearn-color-fitted-level-3);\n",
       "}\n",
       "</style><div id=\"sk-container-id-2\" class=\"sk-top-container\"><div class=\"sk-text-repr-fallback\"><pre>PCA(n_components=4)</pre><b>In a Jupyter environment, please rerun this cell to show the HTML representation or trust the notebook. <br />On GitHub, the HTML representation is unable to render, please try loading this page with nbviewer.org.</b></div><div class=\"sk-container\" hidden><div class=\"sk-item\"><div class=\"sk-estimator fitted sk-toggleable\"><input class=\"sk-toggleable__control sk-hidden--visually\" id=\"sk-estimator-id-2\" type=\"checkbox\" checked><label for=\"sk-estimator-id-2\" class=\"sk-toggleable__label fitted sk-toggleable__label-arrow fitted\">&nbsp;&nbsp;PCA<a class=\"sk-estimator-doc-link fitted\" rel=\"noreferrer\" target=\"_blank\" href=\"https://scikit-learn.org/1.5/modules/generated/sklearn.decomposition.PCA.html\">?<span>Documentation for PCA</span></a><span class=\"sk-estimator-doc-link fitted\">i<span>Fitted</span></span></label><div class=\"sk-toggleable__content fitted\"><pre>PCA(n_components=4)</pre></div> </div></div></div></div>"
      ],
      "text/plain": [
       "PCA(n_components=4)"
      ]
     },
     "execution_count": 31,
     "metadata": {},
     "output_type": "execute_result"
    }
   ],
   "source": [
    "pca_model_first.fit(descriptors)"
   ]
  },
  {
   "cell_type": "code",
   "execution_count": 32,
   "metadata": {},
   "outputs": [
    {
     "data": {
      "text/plain": [
       "array([4.67581967, 3.27064572, 0.96644472, 0.27022295])"
      ]
     },
     "execution_count": 32,
     "metadata": {},
     "output_type": "execute_result"
    }
   ],
   "source": [
    "pca_model_first.explained_variance_"
   ]
  },
  {
   "cell_type": "code",
   "execution_count": 33,
   "metadata": {},
   "outputs": [
    {
     "data": {
      "text/plain": [
       "array([[ 0.05905699,  0.02081031,  0.64914805,  0.75808048],\n",
       "       [ 0.30296835, -0.55414496,  0.58475165, -0.50911595],\n",
       "       [-0.22498561,  0.74897495,  0.4718871 , -0.40711247],\n",
       "       [ 0.92417743,  0.36266627, -0.11829997,  0.01934869]])"
      ]
     },
     "execution_count": 33,
     "metadata": {},
     "output_type": "execute_result"
    }
   ],
   "source": [
    "pca_model_first.components_"
   ]
  },
  {
   "cell_type": "code",
   "execution_count": 34,
   "metadata": {},
   "outputs": [],
   "source": [
    "pca_model = PCA(n_components=2)"
   ]
  },
  {
   "cell_type": "code",
   "execution_count": 35,
   "metadata": {},
   "outputs": [],
   "source": [
    "PC = pl.DataFrame(\n",
    "    pca_model.fit_transform(descriptors),\n",
    "    schema=[\"PC1\", \"PC2\"])"
   ]
  },
  {
   "cell_type": "code",
   "execution_count": 36,
   "metadata": {},
   "outputs": [
    {
     "data": {
      "text/html": [
       "<div><style>\n",
       ".dataframe > thead > tr,\n",
       ".dataframe > tbody > tr {\n",
       "  text-align: right;\n",
       "  white-space: pre-wrap;\n",
       "}\n",
       "</style>\n",
       "<small>shape: (27, 2)</small><table border=\"1\" class=\"dataframe\"><thead><tr><th>PC1</th><th>PC2</th></tr><tr><td>f64</td><td>f64</td></tr></thead><tbody><tr><td>-2.300697</td><td>-0.649955</td></tr><tr><td>-0.696091</td><td>-0.553551</td></tr><tr><td>-1.492558</td><td>-0.241364</td></tr><tr><td>-1.506872</td><td>0.346107</td></tr><tr><td>-2.216526</td><td>1.103657</td></tr><tr><td>&hellip;</td><td>&hellip;</td></tr><tr><td>0.98374</td><td>3.79413</td></tr><tr><td>2.682795</td><td>1.400557</td></tr><tr><td>1.407812</td><td>-0.971157</td></tr><tr><td>0.557913</td><td>0.388726</td></tr><tr><td>1.522327</td><td>-3.689086</td></tr></tbody></table></div>"
      ],
      "text/plain": [
       "shape: (27, 2)\n",
       "┌───────────┬───────────┐\n",
       "│ PC1       ┆ PC2       │\n",
       "│ ---       ┆ ---       │\n",
       "│ f64       ┆ f64       │\n",
       "╞═══════════╪═══════════╡\n",
       "│ -2.300697 ┆ -0.649955 │\n",
       "│ -0.696091 ┆ -0.553551 │\n",
       "│ -1.492558 ┆ -0.241364 │\n",
       "│ -1.506872 ┆ 0.346107  │\n",
       "│ -2.216526 ┆ 1.103657  │\n",
       "│ …         ┆ …         │\n",
       "│ 0.98374   ┆ 3.79413   │\n",
       "│ 2.682795  ┆ 1.400557  │\n",
       "│ 1.407812  ┆ -0.971157 │\n",
       "│ 0.557913  ┆ 0.388726  │\n",
       "│ 1.522327  ┆ -3.689086 │\n",
       "└───────────┴───────────┘"
      ]
     },
     "execution_count": 36,
     "metadata": {},
     "output_type": "execute_result"
    }
   ],
   "source": [
    "PC"
   ]
  },
  {
   "cell_type": "code",
   "execution_count": 37,
   "metadata": {},
   "outputs": [
    {
     "data": {
      "text/plain": [
       "array([0.50917477, 0.35615794])"
      ]
     },
     "execution_count": 37,
     "metadata": {},
     "output_type": "execute_result"
    }
   ],
   "source": [
    "pca_model.explained_variance_ratio_"
   ]
  },
  {
   "cell_type": "code",
   "execution_count": 38,
   "metadata": {},
   "outputs": [],
   "source": [
    "X_training, X_validation, Y_training, Y_validation = train_test_split(\n",
    "    PC,\n",
    "    Y_obs,\n",
    "    test_size=0.33,\n",
    "    random_state=42\n",
    ")"
   ]
  },
  {
   "cell_type": "code",
   "execution_count": 39,
   "metadata": {},
   "outputs": [
    {
     "data": {
      "text/html": [
       "<div><style>\n",
       ".dataframe > thead > tr,\n",
       ".dataframe > tbody > tr {\n",
       "  text-align: right;\n",
       "  white-space: pre-wrap;\n",
       "}\n",
       "</style>\n",
       "<small>shape: (18, 2)</small><table border=\"1\" class=\"dataframe\"><thead><tr><th>PC1</th><th>PC2</th></tr><tr><td>f64</td><td>f64</td></tr></thead><tbody><tr><td>1.407812</td><td>-0.971157</td></tr><tr><td>-0.696091</td><td>-0.553551</td></tr><tr><td>-2.216526</td><td>1.103657</td></tr><tr><td>-3.006217</td><td>0.128802</td></tr><tr><td>-1.492558</td><td>-0.241364</td></tr><tr><td>&hellip;</td><td>&hellip;</td></tr><tr><td>2.739027</td><td>0.697231</td></tr><tr><td>-0.251225</td><td>2.288619</td></tr><tr><td>0.711546</td><td>-2.789428</td></tr><tr><td>0.783145</td><td>-3.083021</td></tr><tr><td>-1.47321</td><td>0.518799</td></tr></tbody></table></div>"
      ],
      "text/plain": [
       "shape: (18, 2)\n",
       "┌───────────┬───────────┐\n",
       "│ PC1       ┆ PC2       │\n",
       "│ ---       ┆ ---       │\n",
       "│ f64       ┆ f64       │\n",
       "╞═══════════╪═══════════╡\n",
       "│ 1.407812  ┆ -0.971157 │\n",
       "│ -0.696091 ┆ -0.553551 │\n",
       "│ -2.216526 ┆ 1.103657  │\n",
       "│ -3.006217 ┆ 0.128802  │\n",
       "│ -1.492558 ┆ -0.241364 │\n",
       "│ …         ┆ …         │\n",
       "│ 2.739027  ┆ 0.697231  │\n",
       "│ -0.251225 ┆ 2.288619  │\n",
       "│ 0.711546  ┆ -2.789428 │\n",
       "│ 0.783145  ┆ -3.083021 │\n",
       "│ -1.47321  ┆ 0.518799  │\n",
       "└───────────┴───────────┘"
      ]
     },
     "execution_count": 39,
     "metadata": {},
     "output_type": "execute_result"
    }
   ],
   "source": [
    "X_training"
   ]
  },
  {
   "cell_type": "code",
   "execution_count": 40,
   "metadata": {},
   "outputs": [
    {
     "data": {
      "text/html": [
       "<div><style>\n",
       ".dataframe > thead > tr,\n",
       ".dataframe > tbody > tr {\n",
       "  text-align: right;\n",
       "  white-space: pre-wrap;\n",
       "}\n",
       "</style>\n",
       "<small>shape: (18, 1)</small><table border=\"1\" class=\"dataframe\"><thead><tr><th>logK HSA</th></tr><tr><td>f64</td></tr></thead><tbody><tr><td>0.08</td></tr><tr><td>-0.23</td></tr><tr><td>1.18</td></tr><tr><td>-0.42</td></tr><tr><td>0.38</td></tr><tr><td>&hellip;</td></tr><tr><td>0.06</td></tr><tr><td>2.05</td></tr><tr><td>-1.25</td></tr><tr><td>-1.25</td></tr><tr><td>1.08</td></tr></tbody></table></div>"
      ],
      "text/plain": [
       "shape: (18, 1)\n",
       "┌──────────┐\n",
       "│ logK HSA │\n",
       "│ ---      │\n",
       "│ f64      │\n",
       "╞══════════╡\n",
       "│ 0.08     │\n",
       "│ -0.23    │\n",
       "│ 1.18     │\n",
       "│ -0.42    │\n",
       "│ 0.38     │\n",
       "│ …        │\n",
       "│ 0.06     │\n",
       "│ 2.05     │\n",
       "│ -1.25    │\n",
       "│ -1.25    │\n",
       "│ 1.08     │\n",
       "└──────────┘"
      ]
     },
     "execution_count": 40,
     "metadata": {},
     "output_type": "execute_result"
    }
   ],
   "source": [
    "Y_training"
   ]
  },
  {
   "cell_type": "code",
   "execution_count": 41,
   "metadata": {},
   "outputs": [],
   "source": [
    "KFold_model = KFold(\n",
    "    n_splits=10,\n",
    "    shuffle=True,\n",
    "    random_state=0\n",
    ")"
   ]
  },
  {
   "cell_type": "code",
   "execution_count": 44,
   "metadata": {},
   "outputs": [
    {
     "name": "stdout",
     "output_type": "stream",
     "text": [
      "Training: [ 0  2  3  4  5  7  8  9 10 11 12 13 14 15 16 17]\n",
      "Validation: [1 6]\n",
      "Training: [ 0  1  2  3  4  5  6  7  9 11 12 13 14 15 16 17]\n",
      "Validation: [ 8 10]\n",
      "Training: [ 0  1  2  3  5  6  7  8  9 10 11 12 13 15 16 17]\n",
      "Validation: [ 4 14]\n",
      "Training: [ 0  1  3  4  5  6  7  8  9 10 11 12 13 14 15 17]\n",
      "Validation: [ 2 16]\n",
      "Training: [ 0  1  2  3  4  5  6  7  8 10 11 12 13 14 15 16]\n",
      "Validation: [ 9 17]\n",
      "Training: [ 0  1  2  3  4  5  6  8  9 10 11 12 14 15 16 17]\n",
      "Validation: [ 7 13]\n",
      "Training: [ 0  1  2  4  5  6  7  8  9 10 12 13 14 15 16 17]\n",
      "Validation: [ 3 11]\n",
      "Training: [ 1  2  3  4  6  7  8  9 10 11 12 13 14 15 16 17]\n",
      "Validation: [0 5]\n",
      "Training: [ 0  1  2  3  4  5  6  7  8  9 10 11 12 13 14 16 17]\n",
      "Validation: [15]\n",
      "Training: [ 0  1  2  3  4  5  6  7  8  9 10 11 13 14 15 16 17]\n",
      "Validation: [12]\n"
     ]
    }
   ],
   "source": [
    "validation_sets = []\n",
    "for training_set, validation_set in KFold_model.split(X_training, Y_training):\n",
    "    validation_sets.append(validation_set)\n",
    "    print(f\"Training: {training_set}\\nValidation: {validation_set}\")"
   ]
  },
  {
   "cell_type": "code",
   "execution_count": 46,
   "metadata": {},
   "outputs": [
    {
     "data": {
      "text/html": [
       "<div><style>\n",
       ".dataframe > thead > tr,\n",
       ".dataframe > tbody > tr {\n",
       "  text-align: right;\n",
       "  white-space: pre-wrap;\n",
       "}\n",
       "</style>\n",
       "<small>shape: (27, 4)</small><table border=\"1\" class=\"dataframe\"><thead><tr><th>logKCTAB</th><th>CATS3D_00_DD</th><th>CATS3D_09_AL</th><th>CATS3D_00_AA</th></tr><tr><td>f64</td><td>i64</td><td>i64</td><td>i64</td></tr></thead><tbody><tr><td>-0.63</td><td>2</td><td>0</td><td>2</td></tr><tr><td>1.22</td><td>1</td><td>0</td><td>4</td></tr><tr><td>0.57</td><td>1</td><td>0</td><td>3</td></tr><tr><td>0.68</td><td>0</td><td>0</td><td>3</td></tr><tr><td>1.5</td><td>0</td><td>0</td><td>2</td></tr><tr><td>&hellip;</td><td>&hellip;</td><td>&hellip;</td><td>&hellip;</td></tr><tr><td>0.73</td><td>0</td><td>5</td><td>2</td></tr><tr><td>1.63</td><td>1</td><td>4</td><td>5</td></tr><tr><td>1.32</td><td>3</td><td>2</td><td>5</td></tr><tr><td>0.47</td><td>1</td><td>2</td><td>4</td></tr><tr><td>-0.43</td><td>3</td><td>0</td><td>7</td></tr></tbody></table></div>"
      ],
      "text/plain": [
       "shape: (27, 4)\n",
       "┌──────────┬──────────────┬──────────────┬──────────────┐\n",
       "│ logKCTAB ┆ CATS3D_00_DD ┆ CATS3D_09_AL ┆ CATS3D_00_AA │\n",
       "│ ---      ┆ ---          ┆ ---          ┆ ---          │\n",
       "│ f64      ┆ i64          ┆ i64          ┆ i64          │\n",
       "╞══════════╪══════════════╪══════════════╪══════════════╡\n",
       "│ -0.63    ┆ 2            ┆ 0            ┆ 2            │\n",
       "│ 1.22     ┆ 1            ┆ 0            ┆ 4            │\n",
       "│ 0.57     ┆ 1            ┆ 0            ┆ 3            │\n",
       "│ 0.68     ┆ 0            ┆ 0            ┆ 3            │\n",
       "│ 1.5      ┆ 0            ┆ 0            ┆ 2            │\n",
       "│ …        ┆ …            ┆ …            ┆ …            │\n",
       "│ 0.73     ┆ 0            ┆ 5            ┆ 2            │\n",
       "│ 1.63     ┆ 1            ┆ 4            ┆ 5            │\n",
       "│ 1.32     ┆ 3            ┆ 2            ┆ 5            │\n",
       "│ 0.47     ┆ 1            ┆ 2            ┆ 4            │\n",
       "│ -0.43    ┆ 3            ┆ 0            ┆ 7            │\n",
       "└──────────┴──────────────┴──────────────┴──────────────┘"
      ]
     },
     "execution_count": 46,
     "metadata": {},
     "output_type": "execute_result"
    }
   ],
   "source": [
    "descriptors"
   ]
  },
  {
   "cell_type": "code",
   "execution_count": null,
   "metadata": {},
   "outputs": [
    {
     "name": "stdout",
     "output_type": "stream",
     "text": [
      "0.8805905298394814\n",
      "0.8681736783867922\n",
      "0.8530049196738184\n",
      "0.8697977279954625\n",
      "0.8827892345735276\n",
      "0.8956960364692089\n",
      "0.8694536596810742\n",
      "0.8821163774810632\n",
      "0.8798020170260845\n",
      "0.865975561626449\n"
     ]
    }
   ],
   "source": [
    "for validation_set in validation_sets:\n",
    "    x=descriptors.with_row_index().filter(~pl.col(\"index\").is_in(validation_set)).drop(pl.col(\"index\"))\n",
    "    y=Y_obs.with_row_index().filter(~pl.col(\"index\").is_in(validation_set)).drop(pl.col(\"index\"))\n",
    "    PCR_model = LinearRegression().fit(\n",
    "        X=x,\n",
    "        y=y\n",
    "    )\n",
    "    "
   ]
  }
 ],
 "metadata": {
  "kernelspec": {
   "display_name": ".venv",
   "language": "python",
   "name": "python3"
  },
  "language_info": {
   "codemirror_mode": {
    "name": "ipython",
    "version": 3
   },
   "file_extension": ".py",
   "mimetype": "text/x-python",
   "name": "python",
   "nbconvert_exporter": "python",
   "pygments_lexer": "ipython3",
   "version": "3.12.7"
  }
 },
 "nbformat": 4,
 "nbformat_minor": 2
}
