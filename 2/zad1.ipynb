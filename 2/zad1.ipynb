{
 "cells": [
  {
   "cell_type": "code",
   "execution_count": 1,
   "id": "83185b33",
   "metadata": {
    "title": "In[1]:"
   },
   "outputs": [],
   "source": [
    "import matplotlib.pyplot as plt\n",
    "import numpy as np\n",
    "import polars as pl\n",
    "import seaborn as sns\n",
    "from sklearn.decomposition import PCA\n",
    "from sklearn.linear_model import LinearRegression\n",
    "from sklearn.model_selection import KFold, train_test_split\n",
    "\n",
    "sns.set_style(\"darkgrid\")"
   ]
  },
  {
   "cell_type": "code",
   "execution_count": 2,
   "id": "28ad0000",
   "metadata": {
    "title": "In[2]:"
   },
   "outputs": [],
   "source": [
    "def RMSE(y_hat: pl.Series, y_obs: pl.DataFrame) -> float:\n",
    "    return (((y_hat - y_obs.to_series()) ** 2).sum() / y_obs.shape[0]) ** 0.5\n",
    "\n",
    "def R2(y_pred: pl.Series, y_obs: pl.DataFrame):\n",
    "    return 1 - ((y_pred - y_obs.to_series())**2).sum() / ((y_obs.to_series() - y_obs.to_series().mean())**2).sum()\n",
    "\n",
    "def Q2(y_hat: pl.Series, y_obs: pl.DataFrame):\n",
    "    return 1 - ((y_hat - y_obs.to_series())**2).sum() / ((y_obs.to_series() - y_obs.to_series().mean())**2).sum()"
   ]
  },
  {
   "cell_type": "markdown",
   "id": "9e3c8b08",
   "metadata": {},
   "source": [
    "# Import niestandaryzowanego zestawu danych dane_leki.xlsx"
   ]
  },
  {
   "cell_type": "code",
   "execution_count": 3,
   "id": "496175bf",
   "metadata": {
    "lines_to_next_cell": 2,
    "title": "In[3]:"
   },
   "outputs": [],
   "source": [
    "input_matrix = pl.read_excel(source=\"dane_leki.xlsx\", engine=\"openpyxl\")"
   ]
  },
  {
   "cell_type": "code",
   "execution_count": 4,
   "id": "afcb494a",
   "metadata": {
    "lines_to_next_cell": 2,
    "title": "In[4]:"
   },
   "outputs": [
    {
     "data": {
      "text/html": [
       "<div><style>\n",
       ".dataframe > thead > tr,\n",
       ".dataframe > tbody > tr {\n",
       "  text-align: right;\n",
       "  white-space: pre-wrap;\n",
       "}\n",
       "</style>\n",
       "<small>shape: (5, 7)</small><table border=\"1\" class=\"dataframe\"><thead><tr><th>Nazwa</th><th>logK HSA</th><th>logKCTAB</th><th>CATS3D_00_DD</th><th>CATS3D_09_AL</th><th>CATS3D_00_AA</th><th>Zbiór</th></tr><tr><td>str</td><td>f64</td><td>f64</td><td>i64</td><td>i64</td><td>i64</td><td>str</td></tr></thead><tbody><tr><td>&quot;acetaminophen&quot;</td><td>-0.79</td><td>-0.63</td><td>2</td><td>0</td><td>2</td><td>&quot;t&quot;</td></tr><tr><td>&quot;acetylsalicylic acid&quot;</td><td>-0.23</td><td>1.22</td><td>1</td><td>0</td><td>4</td><td>&quot;t&quot;</td></tr><tr><td>&quot;bromazepam&quot;</td><td>0.38</td><td>0.57</td><td>1</td><td>0</td><td>3</td><td>&quot;t&quot;</td></tr><tr><td>&quot;carbamazepine&quot;</td><td>0.69</td><td>0.68</td><td>0</td><td>0</td><td>3</td><td>&quot;t&quot;</td></tr><tr><td>&quot;chlorpromazine&quot;</td><td>1.18</td><td>1.5</td><td>0</td><td>0</td><td>2</td><td>&quot;t&quot;</td></tr></tbody></table></div>"
      ],
      "text/plain": [
       "shape: (5, 7)\n",
       "┌──────────────────────┬──────────┬──────────┬──────────────┬──────────────┬──────────────┬───────┐\n",
       "│ Nazwa                ┆ logK HSA ┆ logKCTAB ┆ CATS3D_00_DD ┆ CATS3D_09_AL ┆ CATS3D_00_AA ┆ Zbiór │\n",
       "│ ---                  ┆ ---      ┆ ---      ┆ ---          ┆ ---          ┆ ---          ┆ ---   │\n",
       "│ str                  ┆ f64      ┆ f64      ┆ i64          ┆ i64          ┆ i64          ┆ str   │\n",
       "╞══════════════════════╪══════════╪══════════╪══════════════╪══════════════╪══════════════╪═══════╡\n",
       "│ acetaminophen        ┆ -0.79    ┆ -0.63    ┆ 2            ┆ 0            ┆ 2            ┆ t     │\n",
       "│ acetylsalicylic acid ┆ -0.23    ┆ 1.22     ┆ 1            ┆ 0            ┆ 4            ┆ t     │\n",
       "│ bromazepam           ┆ 0.38     ┆ 0.57     ┆ 1            ┆ 0            ┆ 3            ┆ t     │\n",
       "│ carbamazepine        ┆ 0.69     ┆ 0.68     ┆ 0            ┆ 0            ┆ 3            ┆ t     │\n",
       "│ chlorpromazine       ┆ 1.18     ┆ 1.5      ┆ 0            ┆ 0            ┆ 2            ┆ t     │\n",
       "└──────────────────────┴──────────┴──────────┴──────────────┴──────────────┴──────────────┴───────┘"
      ]
     },
     "execution_count": 4,
     "metadata": {},
     "output_type": "execute_result"
    }
   ],
   "source": [
    "input_matrix.head()"
   ]
  },
  {
   "cell_type": "markdown",
   "id": "e8123e7a",
   "metadata": {},
   "source": [
    "# Standaryzacja danych"
   ]
  },
  {
   "cell_type": "code",
   "execution_count": 5,
   "id": "7c358791",
   "metadata": {},
   "outputs": [],
   "source": [
    "standarized_matrix = input_matrix.select((pl.nth(range(2,6)) - pl.nth(range(2,6)).mean())/pl.nth(range(2,6)).std())"
   ]
  },
  {
   "cell_type": "code",
   "execution_count": 6,
   "id": "4459c941",
   "metadata": {},
   "outputs": [
    {
     "data": {
      "text/html": [
       "<div><style>\n",
       ".dataframe > thead > tr,\n",
       ".dataframe > tbody > tr {\n",
       "  text-align: right;\n",
       "  white-space: pre-wrap;\n",
       "}\n",
       "</style>\n",
       "<small>shape: (5, 4)</small><table border=\"1\" class=\"dataframe\"><thead><tr><th>logKCTAB</th><th>CATS3D_00_DD</th><th>CATS3D_09_AL</th><th>CATS3D_00_AA</th></tr><tr><td>f64</td><td>f64</td><td>f64</td><td>f64</td></tr></thead><tbody><tr><td>-1.64041</td><td>0.588549</td><td>-0.733122</td><td>-0.944095</td></tr><tr><td>0.755452</td><td>-0.205992</td><td>-0.733122</td><td>0.096336</td></tr><tr><td>-0.086337</td><td>-0.205992</td><td>-0.733122</td><td>-0.42388</td></tr><tr><td>0.056119</td><td>-1.000533</td><td>-0.733122</td><td>-0.42388</td></tr><tr><td>1.118069</td><td>-1.000533</td><td>-0.733122</td><td>-0.944095</td></tr></tbody></table></div>"
      ],
      "text/plain": [
       "shape: (5, 4)\n",
       "┌───────────┬──────────────┬──────────────┬──────────────┐\n",
       "│ logKCTAB  ┆ CATS3D_00_DD ┆ CATS3D_09_AL ┆ CATS3D_00_AA │\n",
       "│ ---       ┆ ---          ┆ ---          ┆ ---          │\n",
       "│ f64       ┆ f64          ┆ f64          ┆ f64          │\n",
       "╞═══════════╪══════════════╪══════════════╪══════════════╡\n",
       "│ -1.64041  ┆ 0.588549     ┆ -0.733122    ┆ -0.944095    │\n",
       "│ 0.755452  ┆ -0.205992    ┆ -0.733122    ┆ 0.096336     │\n",
       "│ -0.086337 ┆ -0.205992    ┆ -0.733122    ┆ -0.42388     │\n",
       "│ 0.056119  ┆ -1.000533    ┆ -0.733122    ┆ -0.42388     │\n",
       "│ 1.118069  ┆ -1.000533    ┆ -0.733122    ┆ -0.944095    │\n",
       "└───────────┴──────────────┴──────────────┴──────────────┘"
      ]
     },
     "execution_count": 6,
     "metadata": {},
     "output_type": "execute_result"
    }
   ],
   "source": [
    "standarized_matrix.head()"
   ]
  },
  {
   "cell_type": "code",
   "execution_count": 7,
   "id": "4743ba57",
   "metadata": {
    "lines_to_next_cell": 2,
    "title": "In[5]:"
   },
   "outputs": [],
   "source": [
    "Y_obs = input_matrix.select(pl.nth(1))"
   ]
  },
  {
   "cell_type": "code",
   "execution_count": 8,
   "id": "d849ad86",
   "metadata": {
    "lines_to_next_cell": 2,
    "title": "In[6]:"
   },
   "outputs": [
    {
     "data": {
      "text/html": [
       "<div><style>\n",
       ".dataframe > thead > tr,\n",
       ".dataframe > tbody > tr {\n",
       "  text-align: right;\n",
       "  white-space: pre-wrap;\n",
       "}\n",
       "</style>\n",
       "<small>shape: (5, 1)</small><table border=\"1\" class=\"dataframe\"><thead><tr><th>logK HSA</th></tr><tr><td>f64</td></tr></thead><tbody><tr><td>-0.79</td></tr><tr><td>-0.23</td></tr><tr><td>0.38</td></tr><tr><td>0.69</td></tr><tr><td>1.18</td></tr></tbody></table></div>"
      ],
      "text/plain": [
       "shape: (5, 1)\n",
       "┌──────────┐\n",
       "│ logK HSA │\n",
       "│ ---      │\n",
       "│ f64      │\n",
       "╞══════════╡\n",
       "│ -0.79    │\n",
       "│ -0.23    │\n",
       "│ 0.38     │\n",
       "│ 0.69     │\n",
       "│ 1.18     │\n",
       "└──────────┘"
      ]
     },
     "execution_count": 8,
     "metadata": {},
     "output_type": "execute_result"
    }
   ],
   "source": [
    "Y_obs.head()"
   ]
  },
  {
   "cell_type": "markdown",
   "id": "6c14ede4",
   "metadata": {},
   "source": [
    "# Analiza PCA"
   ]
  },
  {
   "cell_type": "code",
   "execution_count": 9,
   "id": "38e375a2",
   "metadata": {},
   "outputs": [
    {
     "data": {
      "text/html": [
       "<div><style>\n",
       ".dataframe > thead > tr,\n",
       ".dataframe > tbody > tr {\n",
       "  text-align: right;\n",
       "  white-space: pre-wrap;\n",
       "}\n",
       "</style>\n",
       "<small>shape: (4, 4)</small><table border=\"1\" class=\"dataframe\"><thead><tr><th>logKCTAB</th><th>CATS3D_00_DD</th><th>CATS3D_09_AL</th><th>CATS3D_00_AA</th></tr><tr><td>f64</td><td>f64</td><td>f64</td><td>f64</td></tr></thead><tbody><tr><td>1.0</td><td>-0.633481</td><td>0.446144</td><td>-0.135951</td></tr><tr><td>-0.633481</td><td>1.0</td><td>-0.291248</td><td>0.290864</td></tr><tr><td>0.446144</td><td>-0.291248</td><td>1.0</td><td>0.326375</td></tr><tr><td>-0.135951</td><td>0.290864</td><td>0.326375</td><td>1.0</td></tr></tbody></table></div>"
      ],
      "text/plain": [
       "shape: (4, 4)\n",
       "┌───────────┬──────────────┬──────────────┬──────────────┐\n",
       "│ logKCTAB  ┆ CATS3D_00_DD ┆ CATS3D_09_AL ┆ CATS3D_00_AA │\n",
       "│ ---       ┆ ---          ┆ ---          ┆ ---          │\n",
       "│ f64       ┆ f64          ┆ f64          ┆ f64          │\n",
       "╞═══════════╪══════════════╪══════════════╪══════════════╡\n",
       "│ 1.0       ┆ -0.633481    ┆ 0.446144     ┆ -0.135951    │\n",
       "│ -0.633481 ┆ 1.0          ┆ -0.291248    ┆ 0.290864     │\n",
       "│ 0.446144  ┆ -0.291248    ┆ 1.0          ┆ 0.326375     │\n",
       "│ -0.135951 ┆ 0.290864     ┆ 0.326375     ┆ 1.0          │\n",
       "└───────────┴──────────────┴──────────────┴──────────────┘"
      ]
     },
     "execution_count": 9,
     "metadata": {},
     "output_type": "execute_result"
    }
   ],
   "source": [
    "standarized_matrix.corr()"
   ]
  },
  {
   "cell_type": "code",
   "execution_count": 10,
   "id": "803d8469",
   "metadata": {
    "lines_to_next_cell": 2,
    "title": "In[9]:"
   },
   "outputs": [],
   "source": [
    "pca_model = PCA(n_components=4)"
   ]
  },
  {
   "cell_type": "code",
   "execution_count": 11,
   "id": "9e734732",
   "metadata": {
    "lines_to_next_cell": 2,
    "title": "In[10]:"
   },
   "outputs": [
    {
     "data": {
      "text/html": [
       "<style>#sk-container-id-1 {\n",
       "  /* Definition of color scheme common for light and dark mode */\n",
       "  --sklearn-color-text: black;\n",
       "  --sklearn-color-line: gray;\n",
       "  /* Definition of color scheme for unfitted estimators */\n",
       "  --sklearn-color-unfitted-level-0: #fff5e6;\n",
       "  --sklearn-color-unfitted-level-1: #f6e4d2;\n",
       "  --sklearn-color-unfitted-level-2: #ffe0b3;\n",
       "  --sklearn-color-unfitted-level-3: chocolate;\n",
       "  /* Definition of color scheme for fitted estimators */\n",
       "  --sklearn-color-fitted-level-0: #f0f8ff;\n",
       "  --sklearn-color-fitted-level-1: #d4ebff;\n",
       "  --sklearn-color-fitted-level-2: #b3dbfd;\n",
       "  --sklearn-color-fitted-level-3: cornflowerblue;\n",
       "\n",
       "  /* Specific color for light theme */\n",
       "  --sklearn-color-text-on-default-background: var(--sg-text-color, var(--theme-code-foreground, var(--jp-content-font-color1, black)));\n",
       "  --sklearn-color-background: var(--sg-background-color, var(--theme-background, var(--jp-layout-color0, white)));\n",
       "  --sklearn-color-border-box: var(--sg-text-color, var(--theme-code-foreground, var(--jp-content-font-color1, black)));\n",
       "  --sklearn-color-icon: #696969;\n",
       "\n",
       "  @media (prefers-color-scheme: dark) {\n",
       "    /* Redefinition of color scheme for dark theme */\n",
       "    --sklearn-color-text-on-default-background: var(--sg-text-color, var(--theme-code-foreground, var(--jp-content-font-color1, white)));\n",
       "    --sklearn-color-background: var(--sg-background-color, var(--theme-background, var(--jp-layout-color0, #111)));\n",
       "    --sklearn-color-border-box: var(--sg-text-color, var(--theme-code-foreground, var(--jp-content-font-color1, white)));\n",
       "    --sklearn-color-icon: #878787;\n",
       "  }\n",
       "}\n",
       "\n",
       "#sk-container-id-1 {\n",
       "  color: var(--sklearn-color-text);\n",
       "}\n",
       "\n",
       "#sk-container-id-1 pre {\n",
       "  padding: 0;\n",
       "}\n",
       "\n",
       "#sk-container-id-1 input.sk-hidden--visually {\n",
       "  border: 0;\n",
       "  clip: rect(1px 1px 1px 1px);\n",
       "  clip: rect(1px, 1px, 1px, 1px);\n",
       "  height: 1px;\n",
       "  margin: -1px;\n",
       "  overflow: hidden;\n",
       "  padding: 0;\n",
       "  position: absolute;\n",
       "  width: 1px;\n",
       "}\n",
       "\n",
       "#sk-container-id-1 div.sk-dashed-wrapped {\n",
       "  border: 1px dashed var(--sklearn-color-line);\n",
       "  margin: 0 0.4em 0.5em 0.4em;\n",
       "  box-sizing: border-box;\n",
       "  padding-bottom: 0.4em;\n",
       "  background-color: var(--sklearn-color-background);\n",
       "}\n",
       "\n",
       "#sk-container-id-1 div.sk-container {\n",
       "  /* jupyter's `normalize.less` sets `[hidden] { display: none; }`\n",
       "     but bootstrap.min.css set `[hidden] { display: none !important; }`\n",
       "     so we also need the `!important` here to be able to override the\n",
       "     default hidden behavior on the sphinx rendered scikit-learn.org.\n",
       "     See: https://github.com/scikit-learn/scikit-learn/issues/21755 */\n",
       "  display: inline-block !important;\n",
       "  position: relative;\n",
       "}\n",
       "\n",
       "#sk-container-id-1 div.sk-text-repr-fallback {\n",
       "  display: none;\n",
       "}\n",
       "\n",
       "div.sk-parallel-item,\n",
       "div.sk-serial,\n",
       "div.sk-item {\n",
       "  /* draw centered vertical line to link estimators */\n",
       "  background-image: linear-gradient(var(--sklearn-color-text-on-default-background), var(--sklearn-color-text-on-default-background));\n",
       "  background-size: 2px 100%;\n",
       "  background-repeat: no-repeat;\n",
       "  background-position: center center;\n",
       "}\n",
       "\n",
       "/* Parallel-specific style estimator block */\n",
       "\n",
       "#sk-container-id-1 div.sk-parallel-item::after {\n",
       "  content: \"\";\n",
       "  width: 100%;\n",
       "  border-bottom: 2px solid var(--sklearn-color-text-on-default-background);\n",
       "  flex-grow: 1;\n",
       "}\n",
       "\n",
       "#sk-container-id-1 div.sk-parallel {\n",
       "  display: flex;\n",
       "  align-items: stretch;\n",
       "  justify-content: center;\n",
       "  background-color: var(--sklearn-color-background);\n",
       "  position: relative;\n",
       "}\n",
       "\n",
       "#sk-container-id-1 div.sk-parallel-item {\n",
       "  display: flex;\n",
       "  flex-direction: column;\n",
       "}\n",
       "\n",
       "#sk-container-id-1 div.sk-parallel-item:first-child::after {\n",
       "  align-self: flex-end;\n",
       "  width: 50%;\n",
       "}\n",
       "\n",
       "#sk-container-id-1 div.sk-parallel-item:last-child::after {\n",
       "  align-self: flex-start;\n",
       "  width: 50%;\n",
       "}\n",
       "\n",
       "#sk-container-id-1 div.sk-parallel-item:only-child::after {\n",
       "  width: 0;\n",
       "}\n",
       "\n",
       "/* Serial-specific style estimator block */\n",
       "\n",
       "#sk-container-id-1 div.sk-serial {\n",
       "  display: flex;\n",
       "  flex-direction: column;\n",
       "  align-items: center;\n",
       "  background-color: var(--sklearn-color-background);\n",
       "  padding-right: 1em;\n",
       "  padding-left: 1em;\n",
       "}\n",
       "\n",
       "\n",
       "/* Toggleable style: style used for estimator/Pipeline/ColumnTransformer box that is\n",
       "clickable and can be expanded/collapsed.\n",
       "- Pipeline and ColumnTransformer use this feature and define the default style\n",
       "- Estimators will overwrite some part of the style using the `sk-estimator` class\n",
       "*/\n",
       "\n",
       "/* Pipeline and ColumnTransformer style (default) */\n",
       "\n",
       "#sk-container-id-1 div.sk-toggleable {\n",
       "  /* Default theme specific background. It is overwritten whether we have a\n",
       "  specific estimator or a Pipeline/ColumnTransformer */\n",
       "  background-color: var(--sklearn-color-background);\n",
       "}\n",
       "\n",
       "/* Toggleable label */\n",
       "#sk-container-id-1 label.sk-toggleable__label {\n",
       "  cursor: pointer;\n",
       "  display: block;\n",
       "  width: 100%;\n",
       "  margin-bottom: 0;\n",
       "  padding: 0.5em;\n",
       "  box-sizing: border-box;\n",
       "  text-align: center;\n",
       "}\n",
       "\n",
       "#sk-container-id-1 label.sk-toggleable__label-arrow:before {\n",
       "  /* Arrow on the left of the label */\n",
       "  content: \"▸\";\n",
       "  float: left;\n",
       "  margin-right: 0.25em;\n",
       "  color: var(--sklearn-color-icon);\n",
       "}\n",
       "\n",
       "#sk-container-id-1 label.sk-toggleable__label-arrow:hover:before {\n",
       "  color: var(--sklearn-color-text);\n",
       "}\n",
       "\n",
       "/* Toggleable content - dropdown */\n",
       "\n",
       "#sk-container-id-1 div.sk-toggleable__content {\n",
       "  max-height: 0;\n",
       "  max-width: 0;\n",
       "  overflow: hidden;\n",
       "  text-align: left;\n",
       "  /* unfitted */\n",
       "  background-color: var(--sklearn-color-unfitted-level-0);\n",
       "}\n",
       "\n",
       "#sk-container-id-1 div.sk-toggleable__content.fitted {\n",
       "  /* fitted */\n",
       "  background-color: var(--sklearn-color-fitted-level-0);\n",
       "}\n",
       "\n",
       "#sk-container-id-1 div.sk-toggleable__content pre {\n",
       "  margin: 0.2em;\n",
       "  border-radius: 0.25em;\n",
       "  color: var(--sklearn-color-text);\n",
       "  /* unfitted */\n",
       "  background-color: var(--sklearn-color-unfitted-level-0);\n",
       "}\n",
       "\n",
       "#sk-container-id-1 div.sk-toggleable__content.fitted pre {\n",
       "  /* unfitted */\n",
       "  background-color: var(--sklearn-color-fitted-level-0);\n",
       "}\n",
       "\n",
       "#sk-container-id-1 input.sk-toggleable__control:checked~div.sk-toggleable__content {\n",
       "  /* Expand drop-down */\n",
       "  max-height: 200px;\n",
       "  max-width: 100%;\n",
       "  overflow: auto;\n",
       "}\n",
       "\n",
       "#sk-container-id-1 input.sk-toggleable__control:checked~label.sk-toggleable__label-arrow:before {\n",
       "  content: \"▾\";\n",
       "}\n",
       "\n",
       "/* Pipeline/ColumnTransformer-specific style */\n",
       "\n",
       "#sk-container-id-1 div.sk-label input.sk-toggleable__control:checked~label.sk-toggleable__label {\n",
       "  color: var(--sklearn-color-text);\n",
       "  background-color: var(--sklearn-color-unfitted-level-2);\n",
       "}\n",
       "\n",
       "#sk-container-id-1 div.sk-label.fitted input.sk-toggleable__control:checked~label.sk-toggleable__label {\n",
       "  background-color: var(--sklearn-color-fitted-level-2);\n",
       "}\n",
       "\n",
       "/* Estimator-specific style */\n",
       "\n",
       "/* Colorize estimator box */\n",
       "#sk-container-id-1 div.sk-estimator input.sk-toggleable__control:checked~label.sk-toggleable__label {\n",
       "  /* unfitted */\n",
       "  background-color: var(--sklearn-color-unfitted-level-2);\n",
       "}\n",
       "\n",
       "#sk-container-id-1 div.sk-estimator.fitted input.sk-toggleable__control:checked~label.sk-toggleable__label {\n",
       "  /* fitted */\n",
       "  background-color: var(--sklearn-color-fitted-level-2);\n",
       "}\n",
       "\n",
       "#sk-container-id-1 div.sk-label label.sk-toggleable__label,\n",
       "#sk-container-id-1 div.sk-label label {\n",
       "  /* The background is the default theme color */\n",
       "  color: var(--sklearn-color-text-on-default-background);\n",
       "}\n",
       "\n",
       "/* On hover, darken the color of the background */\n",
       "#sk-container-id-1 div.sk-label:hover label.sk-toggleable__label {\n",
       "  color: var(--sklearn-color-text);\n",
       "  background-color: var(--sklearn-color-unfitted-level-2);\n",
       "}\n",
       "\n",
       "/* Label box, darken color on hover, fitted */\n",
       "#sk-container-id-1 div.sk-label.fitted:hover label.sk-toggleable__label.fitted {\n",
       "  color: var(--sklearn-color-text);\n",
       "  background-color: var(--sklearn-color-fitted-level-2);\n",
       "}\n",
       "\n",
       "/* Estimator label */\n",
       "\n",
       "#sk-container-id-1 div.sk-label label {\n",
       "  font-family: monospace;\n",
       "  font-weight: bold;\n",
       "  display: inline-block;\n",
       "  line-height: 1.2em;\n",
       "}\n",
       "\n",
       "#sk-container-id-1 div.sk-label-container {\n",
       "  text-align: center;\n",
       "}\n",
       "\n",
       "/* Estimator-specific */\n",
       "#sk-container-id-1 div.sk-estimator {\n",
       "  font-family: monospace;\n",
       "  border: 1px dotted var(--sklearn-color-border-box);\n",
       "  border-radius: 0.25em;\n",
       "  box-sizing: border-box;\n",
       "  margin-bottom: 0.5em;\n",
       "  /* unfitted */\n",
       "  background-color: var(--sklearn-color-unfitted-level-0);\n",
       "}\n",
       "\n",
       "#sk-container-id-1 div.sk-estimator.fitted {\n",
       "  /* fitted */\n",
       "  background-color: var(--sklearn-color-fitted-level-0);\n",
       "}\n",
       "\n",
       "/* on hover */\n",
       "#sk-container-id-1 div.sk-estimator:hover {\n",
       "  /* unfitted */\n",
       "  background-color: var(--sklearn-color-unfitted-level-2);\n",
       "}\n",
       "\n",
       "#sk-container-id-1 div.sk-estimator.fitted:hover {\n",
       "  /* fitted */\n",
       "  background-color: var(--sklearn-color-fitted-level-2);\n",
       "}\n",
       "\n",
       "/* Specification for estimator info (e.g. \"i\" and \"?\") */\n",
       "\n",
       "/* Common style for \"i\" and \"?\" */\n",
       "\n",
       ".sk-estimator-doc-link,\n",
       "a:link.sk-estimator-doc-link,\n",
       "a:visited.sk-estimator-doc-link {\n",
       "  float: right;\n",
       "  font-size: smaller;\n",
       "  line-height: 1em;\n",
       "  font-family: monospace;\n",
       "  background-color: var(--sklearn-color-background);\n",
       "  border-radius: 1em;\n",
       "  height: 1em;\n",
       "  width: 1em;\n",
       "  text-decoration: none !important;\n",
       "  margin-left: 1ex;\n",
       "  /* unfitted */\n",
       "  border: var(--sklearn-color-unfitted-level-1) 1pt solid;\n",
       "  color: var(--sklearn-color-unfitted-level-1);\n",
       "}\n",
       "\n",
       ".sk-estimator-doc-link.fitted,\n",
       "a:link.sk-estimator-doc-link.fitted,\n",
       "a:visited.sk-estimator-doc-link.fitted {\n",
       "  /* fitted */\n",
       "  border: var(--sklearn-color-fitted-level-1) 1pt solid;\n",
       "  color: var(--sklearn-color-fitted-level-1);\n",
       "}\n",
       "\n",
       "/* On hover */\n",
       "div.sk-estimator:hover .sk-estimator-doc-link:hover,\n",
       ".sk-estimator-doc-link:hover,\n",
       "div.sk-label-container:hover .sk-estimator-doc-link:hover,\n",
       ".sk-estimator-doc-link:hover {\n",
       "  /* unfitted */\n",
       "  background-color: var(--sklearn-color-unfitted-level-3);\n",
       "  color: var(--sklearn-color-background);\n",
       "  text-decoration: none;\n",
       "}\n",
       "\n",
       "div.sk-estimator.fitted:hover .sk-estimator-doc-link.fitted:hover,\n",
       ".sk-estimator-doc-link.fitted:hover,\n",
       "div.sk-label-container:hover .sk-estimator-doc-link.fitted:hover,\n",
       ".sk-estimator-doc-link.fitted:hover {\n",
       "  /* fitted */\n",
       "  background-color: var(--sklearn-color-fitted-level-3);\n",
       "  color: var(--sklearn-color-background);\n",
       "  text-decoration: none;\n",
       "}\n",
       "\n",
       "/* Span, style for the box shown on hovering the info icon */\n",
       ".sk-estimator-doc-link span {\n",
       "  display: none;\n",
       "  z-index: 9999;\n",
       "  position: relative;\n",
       "  font-weight: normal;\n",
       "  right: .2ex;\n",
       "  padding: .5ex;\n",
       "  margin: .5ex;\n",
       "  width: min-content;\n",
       "  min-width: 20ex;\n",
       "  max-width: 50ex;\n",
       "  color: var(--sklearn-color-text);\n",
       "  box-shadow: 2pt 2pt 4pt #999;\n",
       "  /* unfitted */\n",
       "  background: var(--sklearn-color-unfitted-level-0);\n",
       "  border: .5pt solid var(--sklearn-color-unfitted-level-3);\n",
       "}\n",
       "\n",
       ".sk-estimator-doc-link.fitted span {\n",
       "  /* fitted */\n",
       "  background: var(--sklearn-color-fitted-level-0);\n",
       "  border: var(--sklearn-color-fitted-level-3);\n",
       "}\n",
       "\n",
       ".sk-estimator-doc-link:hover span {\n",
       "  display: block;\n",
       "}\n",
       "\n",
       "/* \"?\"-specific style due to the `<a>` HTML tag */\n",
       "\n",
       "#sk-container-id-1 a.estimator_doc_link {\n",
       "  float: right;\n",
       "  font-size: 1rem;\n",
       "  line-height: 1em;\n",
       "  font-family: monospace;\n",
       "  background-color: var(--sklearn-color-background);\n",
       "  border-radius: 1rem;\n",
       "  height: 1rem;\n",
       "  width: 1rem;\n",
       "  text-decoration: none;\n",
       "  /* unfitted */\n",
       "  color: var(--sklearn-color-unfitted-level-1);\n",
       "  border: var(--sklearn-color-unfitted-level-1) 1pt solid;\n",
       "}\n",
       "\n",
       "#sk-container-id-1 a.estimator_doc_link.fitted {\n",
       "  /* fitted */\n",
       "  border: var(--sklearn-color-fitted-level-1) 1pt solid;\n",
       "  color: var(--sklearn-color-fitted-level-1);\n",
       "}\n",
       "\n",
       "/* On hover */\n",
       "#sk-container-id-1 a.estimator_doc_link:hover {\n",
       "  /* unfitted */\n",
       "  background-color: var(--sklearn-color-unfitted-level-3);\n",
       "  color: var(--sklearn-color-background);\n",
       "  text-decoration: none;\n",
       "}\n",
       "\n",
       "#sk-container-id-1 a.estimator_doc_link.fitted:hover {\n",
       "  /* fitted */\n",
       "  background-color: var(--sklearn-color-fitted-level-3);\n",
       "}\n",
       "</style><div id=\"sk-container-id-1\" class=\"sk-top-container\"><div class=\"sk-text-repr-fallback\"><pre>PCA(n_components=4)</pre><b>In a Jupyter environment, please rerun this cell to show the HTML representation or trust the notebook. <br />On GitHub, the HTML representation is unable to render, please try loading this page with nbviewer.org.</b></div><div class=\"sk-container\" hidden><div class=\"sk-item\"><div class=\"sk-estimator fitted sk-toggleable\"><input class=\"sk-toggleable__control sk-hidden--visually\" id=\"sk-estimator-id-1\" type=\"checkbox\" checked><label for=\"sk-estimator-id-1\" class=\"sk-toggleable__label fitted sk-toggleable__label-arrow fitted\">&nbsp;&nbsp;PCA<a class=\"sk-estimator-doc-link fitted\" rel=\"noreferrer\" target=\"_blank\" href=\"https://scikit-learn.org/1.5/modules/generated/sklearn.decomposition.PCA.html\">?<span>Documentation for PCA</span></a><span class=\"sk-estimator-doc-link fitted\">i<span>Fitted</span></span></label><div class=\"sk-toggleable__content fitted\"><pre>PCA(n_components=4)</pre></div> </div></div></div></div>"
      ],
      "text/plain": [
       "PCA(n_components=4)"
      ]
     },
     "execution_count": 11,
     "metadata": {},
     "output_type": "execute_result"
    }
   ],
   "source": [
    "pca_model.fit(standarized_matrix)"
   ]
  },
  {
   "cell_type": "markdown",
   "id": "4c4dbe50",
   "metadata": {},
   "source": [
    "Wartości własne"
   ]
  },
  {
   "cell_type": "code",
   "execution_count": 12,
   "id": "e2238433",
   "metadata": {
    "lines_to_next_cell": 2,
    "title": "In[11]:"
   },
   "outputs": [
    {
     "data": {
      "text/plain": [
       "array([1.94105654, 1.32253015, 0.39655623, 0.33985709])"
      ]
     },
     "execution_count": 12,
     "metadata": {},
     "output_type": "execute_result"
    }
   ],
   "source": [
    "pca_model.explained_variance_"
   ]
  },
  {
   "cell_type": "markdown",
   "id": "f6287fa2",
   "metadata": {},
   "source": [
    "Wektory własne"
   ]
  },
  {
   "cell_type": "code",
   "execution_count": 13,
   "id": "ff58e3a8",
   "metadata": {
    "lines_to_next_cell": 2,
    "title": "In[12]:"
   },
   "outputs": [
    {
     "data": {
      "text/plain": [
       "array([[ 0.64125435, -0.60938351,  0.44918661, -0.12520381],\n",
       "       [-0.01650435,  0.23609553,  0.56431153,  0.79091024],\n",
       "       [-0.15995051,  0.43573158,  0.65251792, -0.59897763],\n",
       "       [ 0.75029081,  0.61890923, -0.23238815, -0.00328649]])"
      ]
     },
     "execution_count": 13,
     "metadata": {},
     "output_type": "execute_result"
    }
   ],
   "source": [
    "pca_model.components_"
   ]
  },
  {
   "cell_type": "markdown",
   "id": "6ea2dc6a",
   "metadata": {},
   "source": [
    "Główne składowe"
   ]
  },
  {
   "cell_type": "code",
   "execution_count": 14,
   "id": "ade26af5",
   "metadata": {
    "lines_to_next_cell": 2,
    "title": "In[19]:"
   },
   "outputs": [],
   "source": [
    "PC = pl.DataFrame(\n",
    "    pca_model.fit_transform(standarized_matrix),\n",
    "    schema=[f\"PC{i+1}\" for i in range(pca_model.n_components_)],\n",
    ")"
   ]
  },
  {
   "cell_type": "code",
   "execution_count": 15,
   "id": "d01dfbae",
   "metadata": {
    "lines_to_next_cell": 2,
    "title": "In[20]:"
   },
   "outputs": [
    {
     "data": {
      "text/html": [
       "<div><style>\n",
       ".dataframe > thead > tr,\n",
       ".dataframe > tbody > tr {\n",
       "  text-align: right;\n",
       "  white-space: pre-wrap;\n",
       "}\n",
       "</style>\n",
       "<small>shape: (5, 4)</small><table border=\"1\" class=\"dataframe\"><thead><tr><th>PC1</th><th>PC2</th><th>PC3</th><th>PC4</th></tr><tr><td>f64</td><td>f64</td><td>f64</td><td>f64</td></tr></thead><tbody><tr><td>-1.621676</td><td>-0.994376</td><td>0.60595</td><td>-0.693055</td></tr><tr><td>0.268595</td><td>-0.398618</td><td>-0.746671</td><td>0.60937</td></tr><tr><td>-0.206073</td><td>-0.796169</td><td>-0.300428</td><td>-0.020507</td></tr><tr><td>0.369458</td><td>-0.986107</td><td>-0.669421</td><td>-0.405371</td></tr><tr><td>1.11557</td><td>-1.415078</td><td>-0.527683</td><td>0.393109</td></tr></tbody></table></div>"
      ],
      "text/plain": [
       "shape: (5, 4)\n",
       "┌───────────┬───────────┬───────────┬───────────┐\n",
       "│ PC1       ┆ PC2       ┆ PC3       ┆ PC4       │\n",
       "│ ---       ┆ ---       ┆ ---       ┆ ---       │\n",
       "│ f64       ┆ f64       ┆ f64       ┆ f64       │\n",
       "╞═══════════╪═══════════╪═══════════╪═══════════╡\n",
       "│ -1.621676 ┆ -0.994376 ┆ 0.60595   ┆ -0.693055 │\n",
       "│ 0.268595  ┆ -0.398618 ┆ -0.746671 ┆ 0.60937   │\n",
       "│ -0.206073 ┆ -0.796169 ┆ -0.300428 ┆ -0.020507 │\n",
       "│ 0.369458  ┆ -0.986107 ┆ -0.669421 ┆ -0.405371 │\n",
       "│ 1.11557   ┆ -1.415078 ┆ -0.527683 ┆ 0.393109  │\n",
       "└───────────┴───────────┴───────────┴───────────┘"
      ]
     },
     "execution_count": 15,
     "metadata": {},
     "output_type": "execute_result"
    }
   ],
   "source": [
    "PC.head()"
   ]
  },
  {
   "cell_type": "markdown",
   "id": "693c265c",
   "metadata": {},
   "source": [
    "# Podział na zbiór uczący i walidacyjny\n",
    "66:33\n",
    "\n",
    "random_state = 42"
   ]
  },
  {
   "cell_type": "code",
   "execution_count": 16,
   "id": "3ed02143",
   "metadata": {
    "lines_to_next_cell": 2,
    "title": "In[17]:"
   },
   "outputs": [],
   "source": [
    "X_training, X_validation, Y_training, Y_validation = train_test_split(\n",
    "    PC, Y_obs, test_size=0.33, random_state=42\n",
    ")"
   ]
  },
  {
   "cell_type": "code",
   "execution_count": 17,
   "id": "91a73b51",
   "metadata": {
    "lines_to_next_cell": 2,
    "title": "In[18]:"
   },
   "outputs": [
    {
     "data": {
      "text/plain": [
       "(18, 4)"
      ]
     },
     "execution_count": 17,
     "metadata": {},
     "output_type": "execute_result"
    }
   ],
   "source": [
    "X_training.shape"
   ]
  },
  {
   "cell_type": "code",
   "execution_count": 18,
   "id": "31c6ee61",
   "metadata": {
    "lines_to_next_cell": 2,
    "title": "In[19]:"
   },
   "outputs": [
    {
     "data": {
      "text/plain": [
       "(18, 1)"
      ]
     },
     "execution_count": 18,
     "metadata": {},
     "output_type": "execute_result"
    }
   ],
   "source": [
    "Y_training.shape"
   ]
  },
  {
   "cell_type": "markdown",
   "id": "60c4598a",
   "metadata": {},
   "source": [
    "# Metoda walidacji krzyżowej KFold\n",
    "n_splits = 10\n",
    "\n",
    "shuffle = True\n",
    "\n",
    "random_state = 0"
   ]
  },
  {
   "cell_type": "code",
   "execution_count": 19,
   "id": "2f56bd8e",
   "metadata": {
    "lines_to_next_cell": 2,
    "title": "In[20]:"
   },
   "outputs": [],
   "source": [
    "KFold_model = KFold(n_splits=10, shuffle=True, random_state=0)"
   ]
  },
  {
   "cell_type": "code",
   "execution_count": 20,
   "id": "29d15a3e",
   "metadata": {
    "lines_to_next_cell": 1,
    "title": "In[88]:"
   },
   "outputs": [],
   "source": [
    "def RMSE_cv(validation_sets, X_training, Y_training) -> pl.Float64:\n",
    "    residues = pl.Series(dtype=pl.Float64)\n",
    "\n",
    "    for validation_set in validation_sets:\n",
    "        x = (\n",
    "            X_training.with_row_index()\n",
    "            .filter(~pl.col(\"index\").is_in(validation_set))\n",
    "            .drop(pl.col(\"index\"))\n",
    "        )\n",
    "\n",
    "        y = (\n",
    "            Y_training.with_row_index()\n",
    "            .filter(~pl.col(\"index\").is_in(validation_set))\n",
    "            .drop(pl.col(\"index\"))\n",
    "        )\n",
    "\n",
    "        PCR_model = LinearRegression().fit(X=x, y=y)\n",
    "\n",
    "        prediction = PCR_model.predict(\n",
    "            X_training.with_row_index()\n",
    "            .filter(pl.col(\"index\").is_in(validation_set))\n",
    "            .drop(pl.col(\"index\"))\n",
    "        )\n",
    "\n",
    "        references = (\n",
    "            Y_training.with_row_index()\n",
    "            .filter(pl.col(\"index\").is_in(validation_set))\n",
    "            .drop(pl.col(\"index\"))\n",
    "        )\n",
    "\n",
    "        residues.append(pl.Series((prediction - references).flatten()))\n",
    "\n",
    "    return np.sqrt((residues**2).sum())"
   ]
  },
  {
   "cell_type": "code",
   "execution_count": 21,
   "id": "5d02d05a",
   "metadata": {
    "lines_to_next_cell": 1
   },
   "outputs": [],
   "source": [
    "def RMSE_c(X_training, Y_training) -> pl.Float64 | float:\n",
    "\n",
    "    PCR_model = LinearRegression().fit(X_training, Y_training)\n",
    "\n",
    "    return RMSE(\n",
    "        PCR_model.predict(X_training).flatten(),\n",
    "        Y_training\n",
    "    )"
   ]
  },
  {
   "cell_type": "markdown",
   "id": "ee55fc59",
   "metadata": {},
   "source": [
    "# Wykres zależności $RMSE_c$ i $RMSE_{cv}$ od liczby uwzględnianych głównych składowych"
   ]
  },
  {
   "cell_type": "code",
   "execution_count": 22,
   "id": "64994c82",
   "metadata": {
    "lines_to_next_cell": 1
   },
   "outputs": [],
   "source": [
    "def principal_component_plot(n: int):\n",
    "    CV_results = []\n",
    "    cal_results = []\n",
    "    for order in range(1, n+1):\n",
    "        pca_model = PCA(n_components=order)\n",
    "\n",
    "        PC = pl.DataFrame(\n",
    "            pca_model.fit_transform(standarized_matrix),\n",
    "            schema=[f\"PC{i+1}\" for i in range(pca_model.n_components_)],\n",
    "        )\n",
    "\n",
    "        KFold_model = KFold(n_splits=10, shuffle=True, random_state=0)\n",
    "\n",
    "        X_training, _, Y_training, _ = train_test_split(\n",
    "            PC, Y_obs, test_size=0.33, random_state=42\n",
    "        )\n",
    "\n",
    "        validation_sets = [\n",
    "            validation_set\n",
    "            for (_, validation_set) in KFold_model.split(X_training, Y_training)\n",
    "        ]\n",
    "\n",
    "        PCR_model = LinearRegression().fit(X_training, Y_training)\n",
    "\n",
    "        _RMSE_cv = RMSE_cv(validation_sets, X_training, Y_training)\n",
    "        CV_results.append(_RMSE_cv)\n",
    "\n",
    "        _RMSE_c = RMSE(\n",
    "            PCR_model.predict(X_training).flatten(), \n",
    "            Y_training)\n",
    "        cal_results.append(_RMSE_c)\n",
    "\n",
    "        print(f'Principal components: {order}\\tCV: {_RMSE_cv}\\tC:{_RMSE_c}')\n",
    "\n",
    "    plt.plot(range(1,n+1), CV_results, label='RMSE_cv')\n",
    "    plt.plot(range(1,n+1), cal_results, label='RMSE_c')\n",
    "    plt.xticks(np.arange(1,5,1))\n",
    "    plt.xlabel(\"Liczba głównych składowych\")\n",
    "    plt.legend()\n",
    "    plt.show()"
   ]
  },
  {
   "cell_type": "code",
   "execution_count": 23,
   "id": "0c37c882",
   "metadata": {},
   "outputs": [
    {
     "name": "stdout",
     "output_type": "stream",
     "text": [
      "Principal components: 1\tCV: 2.1689356387525884\tC:0.45763062385975334\n",
      "Principal components: 2\tCV: 2.3209352477884178\tC:0.4576225557568197\n",
      "Principal components: 3\tCV: 2.299464299503242\tC:0.40641943878658265\n",
      "Principal components: 4\tCV: 2.3667068990941\tC:0.40617313854232434\n"
     ]
    },
    {
     "data": {
      "image/png": "[encoded data removed]",
      "text/plain": [
       "<Figure size 640x480 with 1 Axes>"
      ]
     },
     "metadata": {},
     "output_type": "display_data"
    }
   ],
   "source": [
    "principal_component_plot(4)"
   ]
  },
  {
   "cell_type": "markdown",
   "id": "52870873",
   "metadata": {},
   "source": [
    "Po analizie powyższego wykresu uważam, że istotną liczbą głównych składowych dla późniejszego zastosowania modelu jest 1. Moja opinia wynika ze względu na najniższą wartość $RMSE_{cv}$, czyli najstabilniejszy model oraz nieróżniącą się dużo wartością $RMSE_c$, czyli relatywnie dobrze przewidujący model dla danych kalibracyjnych."
   ]
  },
  {
   "cell_type": "code",
   "execution_count": 24,
   "id": "4c6cdd87",
   "metadata": {},
   "outputs": [],
   "source": [
    "pca_model = PCA(n_components=1)\n",
    "\n",
    "PC = pl.DataFrame(\n",
    "    pca_model.fit_transform(standarized_matrix),\n",
    "    schema=[f\"PC{i+1}\" for i in range(pca_model.n_components_)],\n",
    ")\n",
    "\n",
    "X_training, X_validation, Y_training, Y_validation = train_test_split(\n",
    "    PC, Y_obs, test_size=0.33, random_state=42\n",
    ")\n",
    "\n",
    "significant_model = LinearRegression().fit(X_training, Y_training)"
   ]
  },
  {
   "cell_type": "markdown",
   "id": "f3ca9420",
   "metadata": {},
   "source": [
    "$R^2$"
   ]
  },
  {
   "cell_type": "code",
   "execution_count": 25,
   "id": "09c32088",
   "metadata": {},
   "outputs": [
    {
     "data": {
      "text/plain": [
       "0.8404310408845637"
      ]
     },
     "execution_count": 25,
     "metadata": {},
     "output_type": "execute_result"
    }
   ],
   "source": [
    "R2(\n",
    "    significant_model.predict(X_training).flatten(),\n",
    "    Y_training\n",
    ")"
   ]
  },
  {
   "cell_type": "markdown",
   "id": "6cda6bbd",
   "metadata": {},
   "source": [
    "$RMSE_c$"
   ]
  },
  {
   "cell_type": "code",
   "execution_count": 26,
   "id": "99fa5352",
   "metadata": {
    "lines_to_next_cell": 2
   },
   "outputs": [
    {
     "data": {
      "text/plain": [
       "0.45763062385975334"
      ]
     },
     "execution_count": 26,
     "metadata": {},
     "output_type": "execute_result"
    }
   ],
   "source": [
    "RMSE(\n",
    "    significant_model.predict(X_training).flatten(),\n",
    "    Y_training\n",
    ")"
   ]
  },
  {
   "cell_type": "markdown",
   "id": "abcc898f",
   "metadata": {},
   "source": [
    "$Q^2_{ext}$"
   ]
  },
  {
   "cell_type": "code",
   "execution_count": 27,
   "id": "91b31d4b",
   "metadata": {},
   "outputs": [
    {
     "data": {
      "text/plain": [
       "0.710993253537392"
      ]
     },
     "execution_count": 27,
     "metadata": {},
     "output_type": "execute_result"
    }
   ],
   "source": [
    "Q2(\n",
    "    significant_model.predict(X_validation).flatten(),\n",
    "    Y_validation\n",
    ")"
   ]
  },
  {
   "cell_type": "markdown",
   "id": "e978cc25",
   "metadata": {},
   "source": [
    "$RMSE_{ext}$"
   ]
  },
  {
   "cell_type": "code",
   "execution_count": 28,
   "id": "ad3c0fcc",
   "metadata": {},
   "outputs": [
    {
     "data": {
      "text/plain": [
       "0.4571195686738966"
      ]
     },
     "execution_count": 28,
     "metadata": {},
     "output_type": "execute_result"
    }
   ],
   "source": [
    "RMSE(\n",
    "    significant_model.predict(X_validation).flatten(),\n",
    "    Y_validation\n",
    ")"
   ]
  },
  {
   "cell_type": "markdown",
   "id": "85470a86",
   "metadata": {},
   "source": [
    "Otrzymany model wykorzystujący 1 główną składową daje umiarkowanie dobre wyniki. Dzieje się tak mimo tego, że z macierzy korelacji nie wynika, aby była potrzeba przeprowadzenia analizy metodą PCR a raczej metodą MLR."
   ]
  }
 ],
 "metadata": {
  "jupytext": {
   "cell_metadata_filter": "title,-all",
   "encoding": "# coding: utf-8",
   "executable": "/usr/bin/env python",
   "main_language": "python",
   "notebook_metadata_filter": "-all"
  },
  "kernelspec": {
   "display_name": ".venv",
   "language": "python",
   "name": "python3"
  },
  "language_info": {
   "codemirror_mode": {
    "name": "ipython",
    "version": 3
   },
   "file_extension": ".py",
   "mimetype": "text/x-python",
   "name": "python",
   "nbconvert_exporter": "python",
   "pygments_lexer": "ipython3",
   "version": "3.12.7"
  }
 },
 "nbformat": 4,
 "nbformat_minor": 5
}
