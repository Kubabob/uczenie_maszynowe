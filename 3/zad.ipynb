{
 "cells": [
  {
   "cell_type": "code",
   "execution_count": 97,
   "metadata": {},
   "outputs": [],
   "source": [
    "import polars as pl\n",
    "from sklearn.cross_decomposition import PLSRegression\n",
    "from sklearn.decomposition import PCA\n",
    "from sklearn.linear_model import LinearRegression\n",
    "import matplotlib.pyplot as plt\n",
    "import seaborn as sns\n",
    "from sklearn.model_selection import LeaveOneOut\n",
    "import numpy as np\n",
    "\n",
    "sns.set_style(\"darkgrid\")\n",
    "plt.rcParams['text.usetex'] = False"
   ]
  },
  {
   "cell_type": "code",
   "execution_count": 2,
   "metadata": {},
   "outputs": [],
   "source": [
    "def R2(y_pred: pl.Series, y_obs: pl.DataFrame):\n",
    "    \n",
    "    return 1 - ((y_pred - y_obs.to_series())**2).sum() / ((y_obs.to_series() - y_obs.to_series().mean())**2).sum()\n",
    "\n",
    "def Q2(y_hat: pl.Series, y_obs: pl.DataFrame):\n",
    "\n",
    "    return 1 - ((y_hat - y_obs.to_series())**2).sum() / ((y_obs.to_series() - y_obs.to_series().mean())**2).sum()\n",
    "\n",
    "def RMSE(y_hat: pl.Series, y_obs: pl.DataFrame):\n",
    "\n",
    "    return (((y_hat - y_obs.to_series())**2).sum()/y_obs.shape[0])**0.5"
   ]
  },
  {
   "cell_type": "code",
   "execution_count": 3,
   "metadata": {},
   "outputs": [],
   "source": [
    "sheet_names = ('Yt', 'Yv', 'Xt', \"Xv\")"
   ]
  },
  {
   "cell_type": "markdown",
   "metadata": {},
   "source": [
    "# Importowanie nieautoskalowanego zestawu danych\n",
    "\n",
    "Yt i Yv - wartości modelowanej wielkości (energia adsorpcji aminokwasu na powierzchni nanocząstki złota) odpowiednio dla związków ze zbioru uczącego i walidacyjnego\n",
    "\n",
    "Xt i Xv - deskryptory obliczone odpowiednio dla związku ze zmienną zależną"
   ]
  },
  {
   "cell_type": "code",
   "execution_count": 4,
   "metadata": {},
   "outputs": [],
   "source": [
    "input_data = pl.read_excel(\n",
    "    source=\"AA-AuNP.xlsx\",\n",
    "    sheet_name=sheet_names,\n",
    "    engine='openpyxl'\n",
    ")"
   ]
  },
  {
   "cell_type": "code",
   "execution_count": 5,
   "metadata": {},
   "outputs": [
    {
     "data": {
      "text/html": [
       "<div><style>\n",
       ".dataframe > thead > tr,\n",
       ".dataframe > tbody > tr {\n",
       "  text-align: right;\n",
       "  white-space: pre-wrap;\n",
       "}\n",
       "</style>\n",
       "<small>shape: (5, 33)</small><table border=\"1\" class=\"dataframe\"><thead><tr><th>Amino acid</th><th>HOMO[eV]</th><th>LUMO [eV]</th><th>Ionization potential [eV]</th><th>Electron affinity [eV]</th><th>Hardness</th><th>Softness</th><th>Electronegativity [Ev]</th><th>Polarizability [au]</th><th>Enthalpy [Hartree]</th><th>Atom count</th><th>Heavy atom count</th><th>Asymmetric atom count</th><th>Rotatable bond count</th><th>Ring count</th><th>Aromatic ring count</th><th>Hetero ring count</th><th>FSP3</th><th>Hydrogen bond donor count</th><th>Hydrogen bond acceptor count</th><th>Formal charge</th><th>Topological polar surface area</th><th>Polarizability</th><th>Molar refractivity</th><th>HLB</th><th>logP</th><th>Van der Waals volume</th><th>Van der Waals surface area</th><th>Solvent accessible surface area</th><th>Minimum projection area</th><th>Maximum projection area</th><th>Minimum projection radius</th><th>Maximum projection radius</th></tr><tr><td>str</td><td>f64</td><td>f64</td><td>f64</td><td>f64</td><td>f64</td><td>f64</td><td>f64</td><td>f64</td><td>f64</td><td>i64</td><td>i64</td><td>i64</td><td>i64</td><td>i64</td><td>i64</td><td>i64</td><td>f64</td><td>i64</td><td>i64</td><td>i64</td><td>f64</td><td>f64</td><td>f64</td><td>f64</td><td>f64</td><td>f64</td><td>f64</td><td>f64</td><td>f64</td><td>f64</td><td>f64</td><td>f64</td></tr></thead><tbody><tr><td>&quot;A&quot;</td><td>-5.952265</td><td>-1.22425</td><td>8.823835</td><td>-0.459455</td><td>4.641645</td><td>0.215441</td><td>4.18219</td><td>55.04</td><td>-323.370475</td><td>13</td><td>6</td><td>1</td><td>1</td><td>0</td><td>0</td><td>0</td><td>0.67</td><td>2</td><td>3</td><td>0</td><td>63.32</td><td>8.36</td><td>20.5</td><td>17.181</td><td>-2.841</td><td>84.93</td><td>142.15</td><td>235.74</td><td>22.27</td><td>29.61</td><td>3.02</td><td>3.84</td></tr><tr><td>&quot;C&quot;</td><td>-5.795527</td><td>-1.3233</td><td>7.93835</td><td>0.030901</td><td>3.953725</td><td>0.252926</td><td>3.984626</td><td>74.97</td><td>-721.393083</td><td>14</td><td>7</td><td>1</td><td>2</td><td>0</td><td>0</td><td>0</td><td>0.67</td><td>3</td><td>3</td><td>0</td><td>63.32</td><td>11.42</td><td>28.22</td><td>19.67</td><td>-2.795</td><td>103.45</td><td>159.9</td><td>255.87</td><td>22.03</td><td>36.01</td><td>3.02</td><td>4.51</td></tr><tr><td>&quot;D&quot;</td><td>-6.279077</td><td>-1.846307</td><td>8.812125</td><td>-0.04095</td><td>4.426538</td><td>0.22591</td><td>4.385588</td><td>74.0</td><td>-511.800495</td><td>16</td><td>9</td><td>1</td><td>3</td><td>0</td><td>0</td><td>0</td><td>0.5</td><td>3</td><td>5</td><td>0</td><td>100.62</td><td>10.9</td><td>26.53</td><td>18.948</td><td>-3.504</td><td>112.61</td><td>177.91</td><td>261.0</td><td>22.51</td><td>39.04</td><td>3.07</td><td>4.73</td></tr><tr><td>&quot;E&quot;</td><td>-6.122066</td><td>-1.376907</td><td>8.569092</td><td>-0.169841</td><td>4.369466</td><td>0.228861</td><td>4.199626</td><td>85.88</td><td>-551.038643</td><td>19</td><td>10</td><td>1</td><td>4</td><td>0</td><td>0</td><td>0</td><td>0.6</td><td>3</td><td>5</td><td>0</td><td>100.62</td><td>12.69</td><td>31.29</td><td>17.981</td><td>-3.249</td><td>129.67</td><td>209.34</td><td>289.78</td><td>24.45</td><td>45.42</td><td>3.2</td><td>5.52</td></tr><tr><td>&quot;F&quot;</td><td>-5.988185</td><td>-1.385615</td><td>7.80233</td><td>-0.233017</td><td>4.017674</td><td>0.2489</td><td>3.784656</td><td>123.73</td><td>-554.096836</td><td>23</td><td>12</td><td>1</td><td>3</td><td>1</td><td>1</td><td>0</td><td>0.22</td><td>2</td><td>3</td><td>0</td><td>63.32</td><td>17.89</td><td>45.12</td><td>13.109</td><td>-1.184</td><td>155.64</td><td>246.8</td><td>319.0</td><td>28.81</td><td>53.97</td><td>3.49</td><td>5.8</td></tr></tbody></table></div>"
      ],
      "text/plain": [
       "shape: (5, 33)\n",
       "┌───────┬────────────┬────────────┬────────────┬───┬───────────┬───────────┬───────────┬───────────┐\n",
       "│ Amino ┆ HOMO[eV]   ┆ LUMO [eV]  ┆ Ionization ┆ … ┆ Minimum   ┆ Maximum   ┆ Minimum   ┆ Maximum   │\n",
       "│ acid  ┆ ---        ┆ ---        ┆ potential  ┆   ┆ projectio ┆ projectio ┆ projectio ┆ projectio │\n",
       "│ ---   ┆ f64        ┆ f64        ┆ [eV]       ┆   ┆ n area    ┆ n area    ┆ n radius  ┆ n radius  │\n",
       "│ str   ┆            ┆            ┆ ---        ┆   ┆ ---       ┆ ---       ┆ ---       ┆ ---       │\n",
       "│       ┆            ┆            ┆ f64        ┆   ┆ f64       ┆ f64       ┆ f64       ┆ f64       │\n",
       "╞═══════╪════════════╪════════════╪════════════╪═══╪═══════════╪═══════════╪═══════════╪═══════════╡\n",
       "│ A     ┆ -5.952265  ┆ -1.22425   ┆ 8.823835   ┆ … ┆ 22.27     ┆ 29.61     ┆ 3.02      ┆ 3.84      │\n",
       "│ C     ┆ -5.795527  ┆ -1.3233    ┆ 7.93835    ┆ … ┆ 22.03     ┆ 36.01     ┆ 3.02      ┆ 4.51      │\n",
       "│ D     ┆ -6.279077  ┆ -1.846307  ┆ 8.812125   ┆ … ┆ 22.51     ┆ 39.04     ┆ 3.07      ┆ 4.73      │\n",
       "│ E     ┆ -6.122066  ┆ -1.376907  ┆ 8.569092   ┆ … ┆ 24.45     ┆ 45.42     ┆ 3.2       ┆ 5.52      │\n",
       "│ F     ┆ -5.988185  ┆ -1.385615  ┆ 7.80233    ┆ … ┆ 28.81     ┆ 53.97     ┆ 3.49      ┆ 5.8       │\n",
       "└───────┴────────────┴────────────┴────────────┴───┴───────────┴───────────┴───────────┴───────────┘"
      ]
     },
     "execution_count": 5,
     "metadata": {},
     "output_type": "execute_result"
    }
   ],
   "source": [
    "input_data['Xt'].head()"
   ]
  },
  {
   "cell_type": "markdown",
   "metadata": {},
   "source": [
    "# Standaryzacja danych"
   ]
  },
  {
   "cell_type": "code",
   "execution_count": 6,
   "metadata": {},
   "outputs": [],
   "source": [
    "std_data = {\n",
    "    \"Xt\": input_data['Xt'].select(pl.exclude(\"Amino acid\")).select((pl.all() - pl.all().mean())/pl.all().std()),\n",
    "    \"Xv\": input_data['Xv'].select(pl.exclude(\"Amino acid\")).select((pl.all() - pl.all().mean())/pl.all().std()),\n",
    "    \"Yt\": input_data[\"Yt\"].select(pl.exclude(\"Amino acid\")),\n",
    "    \"Yv\": input_data['Yv'].select(pl.exclude(\"Amino acid\"))\n",
    "}"
   ]
  },
  {
   "cell_type": "code",
   "execution_count": 7,
   "metadata": {},
   "outputs": [
    {
     "data": {
      "text/html": [
       "<div><style>\n",
       ".dataframe > thead > tr,\n",
       ".dataframe > tbody > tr {\n",
       "  text-align: right;\n",
       "  white-space: pre-wrap;\n",
       "}\n",
       "</style>\n",
       "<small>shape: (5, 32)</small><table border=\"1\" class=\"dataframe\"><thead><tr><th>HOMO[eV]</th><th>LUMO [eV]</th><th>Ionization potential [eV]</th><th>Electron affinity [eV]</th><th>Hardness</th><th>Softness</th><th>Electronegativity [Ev]</th><th>Polarizability [au]</th><th>Enthalpy [Hartree]</th><th>Atom count</th><th>Heavy atom count</th><th>Asymmetric atom count</th><th>Rotatable bond count</th><th>Ring count</th><th>Aromatic ring count</th><th>Hetero ring count</th><th>FSP3</th><th>Hydrogen bond donor count</th><th>Hydrogen bond acceptor count</th><th>Formal charge</th><th>Topological polar surface area</th><th>Polarizability</th><th>Molar refractivity</th><th>HLB</th><th>logP</th><th>Van der Waals volume</th><th>Van der Waals surface area</th><th>Solvent accessible surface area</th><th>Minimum projection area</th><th>Maximum projection area</th><th>Minimum projection radius</th><th>Maximum projection radius</th></tr><tr><td>f64</td><td>f64</td><td>f64</td><td>f64</td><td>f64</td><td>f64</td><td>f64</td><td>f64</td><td>f64</td><td>f64</td><td>f64</td><td>f64</td><td>f64</td><td>f64</td><td>f64</td><td>f64</td><td>f64</td><td>f64</td><td>f64</td><td>f64</td><td>f64</td><td>f64</td><td>f64</td><td>f64</td><td>f64</td><td>f64</td><td>f64</td><td>f64</td><td>f64</td><td>f64</td><td>f64</td><td>f64</td></tr></thead><tbody><tr><td>-0.512666</td><td>0.278151</td><td>1.069402</td><td>-0.964851</td><td>1.228204</td><td>-1.155538</td><td>0.809549</td><td>-1.293044</td><td>1.446939</td><td>-1.373412</td><td>-1.388808</td><td>-0.126892</td><td>-1.565007</td><td>-0.525173</td><td>-0.454447</td><td>-0.409447</td><td>0.330573</td><td>-0.955377</td><td>-0.809712</td><td>NaN</td><td>-0.8428</td><td>-1.30417</td><td>-1.249379</td><td>-0.20927</td><td>-0.109167</td><td>-1.469964</td><td>-1.433329</td><td>-1.258939</td><td>-0.846005</td><td>-1.45357</td><td>-0.727419</td><td>-1.427082</td></tr><tr><td>-0.104009</td><td>-0.187138</td><td>-0.39681</td><td>1.891728</td><td>-0.854217</td><td>0.809337</td><td>0.14344</td><td>-0.568139</td><td>-1.594197</td><td>-1.151894</td><td>-0.974239</td><td>-0.126892</td><td>-0.719057</td><td>-0.525173</td><td>-0.454447</td><td>-0.409447</td><td>0.330573</td><td>0.409447</td><td>-0.809712</td><td>NaN</td><td>-0.8428</td><td>-0.506417</td><td>-0.517406</td><td>0.610744</td><td>-0.062388</td><td>-0.818842</td><td>-1.038274</td><td>-0.746644</td><td>-0.915267</td><td>-0.799269</td><td>-0.727419</td><td>-0.625955</td></tr><tr><td>-1.364744</td><td>-2.643964</td><td>1.050014</td><td>1.473159</td><td>0.577048</td><td>-0.606764</td><td>1.495327</td><td>-0.603421</td><td>0.007218</td><td>-0.708858</td><td>-0.145099</td><td>-0.126892</td><td>0.126892</td><td>-0.525173</td><td>-0.454447</td><td>-0.409447</td><td>-0.455405</td><td>0.409447</td><td>1.503751</td><td>NaN</td><td>1.00711</td><td>-0.641983</td><td>-0.677644</td><td>0.372877</td><td>-0.783387</td><td>-0.496797</td><td>-0.637431</td><td>-0.616089</td><td>-0.776744</td><td>-0.489499</td><td>-0.60135</td><td>-0.362899</td></tr><tr><td>-0.955378</td><td>-0.438956</td><td>0.647592</td><td>0.722304</td><td>0.404286</td><td>-0.452096</td><td>0.868336</td><td>-0.171315</td><td>-0.292585</td><td>-0.044304</td><td>0.26947</td><td>-0.126892</td><td>0.972842</td><td>-0.525173</td><td>-0.454447</td><td>-0.409447</td><td>0.006935</td><td>0.409447</td><td>1.503751</td><td>NaN</td><td>1.00711</td><td>-0.175323</td><td>-0.226324</td><td>0.054294</td><td>-0.524072</td><td>0.102995</td><td>0.062096</td><td>0.116341</td><td>-0.216876</td><td>0.162757</td><td>-0.27357</td><td>0.581714</td></tr><tr><td>-0.606317</td><td>-0.479861</td><td>-0.622036</td><td>0.354265</td><td>-0.660635</td><td>0.598315</td><td>-0.530778</td><td>1.205387</td><td>-0.315952</td><td>0.841769</td><td>1.098609</td><td>-0.126892</td><td>0.126892</td><td>1.225403</td><td>1.36334</td><td>-0.409447</td><td>-1.749956</td><td>-0.955377</td><td>-0.809712</td><td>NaN</td><td>-0.8428</td><td>1.180336</td><td>1.08497</td><td>-1.550811</td><td>1.575876</td><td>1.016042</td><td>0.895831</td><td>0.85997</td><td>1.041382</td><td>1.036862</td><td>0.457631</td><td>0.916513</td></tr></tbody></table></div>"
      ],
      "text/plain": [
       "shape: (5, 32)\n",
       "┌───────────┬───────────┬───────────┬───────────┬───┬───────────┬───────────┬───────────┬──────────┐\n",
       "│ HOMO[eV]  ┆ LUMO [eV] ┆ Ionizatio ┆ Electron  ┆ … ┆ Minimum   ┆ Maximum   ┆ Minimum   ┆ Maximum  │\n",
       "│ ---       ┆ ---       ┆ n         ┆ affinity  ┆   ┆ projectio ┆ projectio ┆ projectio ┆ projecti │\n",
       "│ f64       ┆ f64       ┆ potential ┆ [eV]      ┆   ┆ n area    ┆ n area    ┆ n radius  ┆ on       │\n",
       "│           ┆           ┆ [eV]      ┆ ---       ┆   ┆ ---       ┆ ---       ┆ ---       ┆ radius   │\n",
       "│           ┆           ┆ ---       ┆ f64       ┆   ┆ f64       ┆ f64       ┆ f64       ┆ ---      │\n",
       "│           ┆           ┆ f64       ┆           ┆   ┆           ┆           ┆           ┆ f64      │\n",
       "╞═══════════╪═══════════╪═══════════╪═══════════╪═══╪═══════════╪═══════════╪═══════════╪══════════╡\n",
       "│ -0.512666 ┆ 0.278151  ┆ 1.069402  ┆ -0.964851 ┆ … ┆ -0.846005 ┆ -1.45357  ┆ -0.727419 ┆ -1.42708 │\n",
       "│           ┆           ┆           ┆           ┆   ┆           ┆           ┆           ┆ 2        │\n",
       "│ -0.104009 ┆ -0.187138 ┆ -0.39681  ┆ 1.891728  ┆ … ┆ -0.915267 ┆ -0.799269 ┆ -0.727419 ┆ -0.62595 │\n",
       "│           ┆           ┆           ┆           ┆   ┆           ┆           ┆           ┆ 5        │\n",
       "│ -1.364744 ┆ -2.643964 ┆ 1.050014  ┆ 1.473159  ┆ … ┆ -0.776744 ┆ -0.489499 ┆ -0.60135  ┆ -0.36289 │\n",
       "│           ┆           ┆           ┆           ┆   ┆           ┆           ┆           ┆ 9        │\n",
       "│ -0.955378 ┆ -0.438956 ┆ 0.647592  ┆ 0.722304  ┆ … ┆ -0.216876 ┆ 0.162757  ┆ -0.27357  ┆ 0.581714 │\n",
       "│ -0.606317 ┆ -0.479861 ┆ -0.622036 ┆ 0.354265  ┆ … ┆ 1.041382  ┆ 1.036862  ┆ 0.457631  ┆ 0.916513 │\n",
       "└───────────┴───────────┴───────────┴───────────┴───┴───────────┴───────────┴───────────┴──────────┘"
      ]
     },
     "execution_count": 7,
     "metadata": {},
     "output_type": "execute_result"
    }
   ],
   "source": [
    "std_data['Xt'].head()"
   ]
  },
  {
   "cell_type": "code",
   "execution_count": 8,
   "metadata": {},
   "outputs": [
    {
     "data": {
      "text/html": [
       "<div><style>\n",
       ".dataframe > thead > tr,\n",
       ".dataframe > tbody > tr {\n",
       "  text-align: right;\n",
       "  white-space: pre-wrap;\n",
       "}\n",
       "</style>\n",
       "<small>shape: (20, 3)</small><table border=\"1\" class=\"dataframe\"><thead><tr><th>HOMO[eV]</th><th>Polarizability [au]</th><th>Topological polar surface area</th></tr><tr><td>f64</td><td>f64</td><td>f64</td></tr></thead><tbody><tr><td>-0.512666</td><td>-1.293044</td><td>-0.8428</td></tr><tr><td>-0.104009</td><td>-0.568139</td><td>-0.8428</td></tr><tr><td>-1.364744</td><td>-0.603421</td><td>1.00711</td></tr><tr><td>-0.955378</td><td>-0.171315</td><td>1.00711</td></tr><tr><td>-0.606317</td><td>1.205387</td><td>-0.8428</td></tr><tr><td>&hellip;</td><td>&hellip;</td><td>&hellip;</td></tr><tr><td>-0.861727</td><td>-1.123185</td><td>0.160516</td></tr><tr><td>-0.999365</td><td>-0.678348</td><td>0.160516</td></tr><tr><td>-0.461584</td><td>-0.409191</td><td>-0.8428</td></tr><tr><td>2.001001</td><td>2.420594</td><td>-0.059688</td></tr><tr><td>0.806956</td><td>1.44981</td><td>0.160516</td></tr></tbody></table></div>"
      ],
      "text/plain": [
       "shape: (20, 3)\n",
       "┌───────────┬─────────────────────┬────────────────────────────────┐\n",
       "│ HOMO[eV]  ┆ Polarizability [au] ┆ Topological polar surface area │\n",
       "│ ---       ┆ ---                 ┆ ---                            │\n",
       "│ f64       ┆ f64                 ┆ f64                            │\n",
       "╞═══════════╪═════════════════════╪════════════════════════════════╡\n",
       "│ -0.512666 ┆ -1.293044           ┆ -0.8428                        │\n",
       "│ -0.104009 ┆ -0.568139           ┆ -0.8428                        │\n",
       "│ -1.364744 ┆ -0.603421           ┆ 1.00711                        │\n",
       "│ -0.955378 ┆ -0.171315           ┆ 1.00711                        │\n",
       "│ -0.606317 ┆ 1.205387            ┆ -0.8428                        │\n",
       "│ …         ┆ …                   ┆ …                              │\n",
       "│ -0.861727 ┆ -1.123185           ┆ 0.160516                       │\n",
       "│ -0.999365 ┆ -0.678348           ┆ 0.160516                       │\n",
       "│ -0.461584 ┆ -0.409191           ┆ -0.8428                        │\n",
       "│ 2.001001  ┆ 2.420594            ┆ -0.059688                      │\n",
       "│ 0.806956  ┆ 1.44981             ┆ 0.160516                       │\n",
       "└───────────┴─────────────────────┴────────────────────────────────┘"
      ]
     },
     "execution_count": 8,
     "metadata": {},
     "output_type": "execute_result"
    }
   ],
   "source": [
    "std_data['Xt'].select(pl.col(\"HOMO[eV]\"), pl.col(\"Polarizability [au]\"), pl.col(\"Topological polar surface area\"))"
   ]
  },
  {
   "cell_type": "markdown",
   "metadata": {},
   "source": [
    "# Modelowanie PLS"
   ]
  },
  {
   "cell_type": "code",
   "execution_count": 9,
   "metadata": {},
   "outputs": [],
   "source": [
    "hidden_variables = {\n",
    "    \"Xt\": std_data['Xt'].select(pl.col(\"HOMO[eV]\"), pl.col(\"Polarizability [au]\"), pl.col(\"Topological polar surface area\")),\n",
    "    'Xv': std_data['Xv'].select(pl.col(\"HOMO[eV]\"), pl.col(\"Polarizability [au]\"), pl.col(\"Topological polar surface area\"))\n",
    "}"
   ]
  },
  {
   "cell_type": "code",
   "execution_count": 10,
   "metadata": {},
   "outputs": [],
   "source": [
    "PLS_model = PLSRegression(\n",
    "    n_components=1\n",
    ").fit(\n",
    "    hidden_variables['Xt'],\n",
    "    std_data['Yt']\n",
    ")"
   ]
  },
  {
   "cell_type": "code",
   "execution_count": 11,
   "metadata": {},
   "outputs": [
    {
     "data": {
      "text/html": [
       "<style>#sk-container-id-1 {\n",
       "  /* Definition of color scheme common for light and dark mode */\n",
       "  --sklearn-color-text: black;\n",
       "  --sklearn-color-line: gray;\n",
       "  /* Definition of color scheme for unfitted estimators */\n",
       "  --sklearn-color-unfitted-level-0: #fff5e6;\n",
       "  --sklearn-color-unfitted-level-1: #f6e4d2;\n",
       "  --sklearn-color-unfitted-level-2: #ffe0b3;\n",
       "  --sklearn-color-unfitted-level-3: chocolate;\n",
       "  /* Definition of color scheme for fitted estimators */\n",
       "  --sklearn-color-fitted-level-0: #f0f8ff;\n",
       "  --sklearn-color-fitted-level-1: #d4ebff;\n",
       "  --sklearn-color-fitted-level-2: #b3dbfd;\n",
       "  --sklearn-color-fitted-level-3: cornflowerblue;\n",
       "\n",
       "  /* Specific color for light theme */\n",
       "  --sklearn-color-text-on-default-background: var(--sg-text-color, var(--theme-code-foreground, var(--jp-content-font-color1, black)));\n",
       "  --sklearn-color-background: var(--sg-background-color, var(--theme-background, var(--jp-layout-color0, white)));\n",
       "  --sklearn-color-border-box: var(--sg-text-color, var(--theme-code-foreground, var(--jp-content-font-color1, black)));\n",
       "  --sklearn-color-icon: #696969;\n",
       "\n",
       "  @media (prefers-color-scheme: dark) {\n",
       "    /* Redefinition of color scheme for dark theme */\n",
       "    --sklearn-color-text-on-default-background: var(--sg-text-color, var(--theme-code-foreground, var(--jp-content-font-color1, white)));\n",
       "    --sklearn-color-background: var(--sg-background-color, var(--theme-background, var(--jp-layout-color0, #111)));\n",
       "    --sklearn-color-border-box: var(--sg-text-color, var(--theme-code-foreground, var(--jp-content-font-color1, white)));\n",
       "    --sklearn-color-icon: #878787;\n",
       "  }\n",
       "}\n",
       "\n",
       "#sk-container-id-1 {\n",
       "  color: var(--sklearn-color-text);\n",
       "}\n",
       "\n",
       "#sk-container-id-1 pre {\n",
       "  padding: 0;\n",
       "}\n",
       "\n",
       "#sk-container-id-1 input.sk-hidden--visually {\n",
       "  border: 0;\n",
       "  clip: rect(1px 1px 1px 1px);\n",
       "  clip: rect(1px, 1px, 1px, 1px);\n",
       "  height: 1px;\n",
       "  margin: -1px;\n",
       "  overflow: hidden;\n",
       "  padding: 0;\n",
       "  position: absolute;\n",
       "  width: 1px;\n",
       "}\n",
       "\n",
       "#sk-container-id-1 div.sk-dashed-wrapped {\n",
       "  border: 1px dashed var(--sklearn-color-line);\n",
       "  margin: 0 0.4em 0.5em 0.4em;\n",
       "  box-sizing: border-box;\n",
       "  padding-bottom: 0.4em;\n",
       "  background-color: var(--sklearn-color-background);\n",
       "}\n",
       "\n",
       "#sk-container-id-1 div.sk-container {\n",
       "  /* jupyter's `normalize.less` sets `[hidden] { display: none; }`\n",
       "     but bootstrap.min.css set `[hidden] { display: none !important; }`\n",
       "     so we also need the `!important` here to be able to override the\n",
       "     default hidden behavior on the sphinx rendered scikit-learn.org.\n",
       "     See: https://github.com/scikit-learn/scikit-learn/issues/21755 */\n",
       "  display: inline-block !important;\n",
       "  position: relative;\n",
       "}\n",
       "\n",
       "#sk-container-id-1 div.sk-text-repr-fallback {\n",
       "  display: none;\n",
       "}\n",
       "\n",
       "div.sk-parallel-item,\n",
       "div.sk-serial,\n",
       "div.sk-item {\n",
       "  /* draw centered vertical line to link estimators */\n",
       "  background-image: linear-gradient(var(--sklearn-color-text-on-default-background), var(--sklearn-color-text-on-default-background));\n",
       "  background-size: 2px 100%;\n",
       "  background-repeat: no-repeat;\n",
       "  background-position: center center;\n",
       "}\n",
       "\n",
       "/* Parallel-specific style estimator block */\n",
       "\n",
       "#sk-container-id-1 div.sk-parallel-item::after {\n",
       "  content: \"\";\n",
       "  width: 100%;\n",
       "  border-bottom: 2px solid var(--sklearn-color-text-on-default-background);\n",
       "  flex-grow: 1;\n",
       "}\n",
       "\n",
       "#sk-container-id-1 div.sk-parallel {\n",
       "  display: flex;\n",
       "  align-items: stretch;\n",
       "  justify-content: center;\n",
       "  background-color: var(--sklearn-color-background);\n",
       "  position: relative;\n",
       "}\n",
       "\n",
       "#sk-container-id-1 div.sk-parallel-item {\n",
       "  display: flex;\n",
       "  flex-direction: column;\n",
       "}\n",
       "\n",
       "#sk-container-id-1 div.sk-parallel-item:first-child::after {\n",
       "  align-self: flex-end;\n",
       "  width: 50%;\n",
       "}\n",
       "\n",
       "#sk-container-id-1 div.sk-parallel-item:last-child::after {\n",
       "  align-self: flex-start;\n",
       "  width: 50%;\n",
       "}\n",
       "\n",
       "#sk-container-id-1 div.sk-parallel-item:only-child::after {\n",
       "  width: 0;\n",
       "}\n",
       "\n",
       "/* Serial-specific style estimator block */\n",
       "\n",
       "#sk-container-id-1 div.sk-serial {\n",
       "  display: flex;\n",
       "  flex-direction: column;\n",
       "  align-items: center;\n",
       "  background-color: var(--sklearn-color-background);\n",
       "  padding-right: 1em;\n",
       "  padding-left: 1em;\n",
       "}\n",
       "\n",
       "\n",
       "/* Toggleable style: style used for estimator/Pipeline/ColumnTransformer box that is\n",
       "clickable and can be expanded/collapsed.\n",
       "- Pipeline and ColumnTransformer use this feature and define the default style\n",
       "- Estimators will overwrite some part of the style using the `sk-estimator` class\n",
       "*/\n",
       "\n",
       "/* Pipeline and ColumnTransformer style (default) */\n",
       "\n",
       "#sk-container-id-1 div.sk-toggleable {\n",
       "  /* Default theme specific background. It is overwritten whether we have a\n",
       "  specific estimator or a Pipeline/ColumnTransformer */\n",
       "  background-color: var(--sklearn-color-background);\n",
       "}\n",
       "\n",
       "/* Toggleable label */\n",
       "#sk-container-id-1 label.sk-toggleable__label {\n",
       "  cursor: pointer;\n",
       "  display: block;\n",
       "  width: 100%;\n",
       "  margin-bottom: 0;\n",
       "  padding: 0.5em;\n",
       "  box-sizing: border-box;\n",
       "  text-align: center;\n",
       "}\n",
       "\n",
       "#sk-container-id-1 label.sk-toggleable__label-arrow:before {\n",
       "  /* Arrow on the left of the label */\n",
       "  content: \"▸\";\n",
       "  float: left;\n",
       "  margin-right: 0.25em;\n",
       "  color: var(--sklearn-color-icon);\n",
       "}\n",
       "\n",
       "#sk-container-id-1 label.sk-toggleable__label-arrow:hover:before {\n",
       "  color: var(--sklearn-color-text);\n",
       "}\n",
       "\n",
       "/* Toggleable content - dropdown */\n",
       "\n",
       "#sk-container-id-1 div.sk-toggleable__content {\n",
       "  max-height: 0;\n",
       "  max-width: 0;\n",
       "  overflow: hidden;\n",
       "  text-align: left;\n",
       "  /* unfitted */\n",
       "  background-color: var(--sklearn-color-unfitted-level-0);\n",
       "}\n",
       "\n",
       "#sk-container-id-1 div.sk-toggleable__content.fitted {\n",
       "  /* fitted */\n",
       "  background-color: var(--sklearn-color-fitted-level-0);\n",
       "}\n",
       "\n",
       "#sk-container-id-1 div.sk-toggleable__content pre {\n",
       "  margin: 0.2em;\n",
       "  border-radius: 0.25em;\n",
       "  color: var(--sklearn-color-text);\n",
       "  /* unfitted */\n",
       "  background-color: var(--sklearn-color-unfitted-level-0);\n",
       "}\n",
       "\n",
       "#sk-container-id-1 div.sk-toggleable__content.fitted pre {\n",
       "  /* unfitted */\n",
       "  background-color: var(--sklearn-color-fitted-level-0);\n",
       "}\n",
       "\n",
       "#sk-container-id-1 input.sk-toggleable__control:checked~div.sk-toggleable__content {\n",
       "  /* Expand drop-down */\n",
       "  max-height: 200px;\n",
       "  max-width: 100%;\n",
       "  overflow: auto;\n",
       "}\n",
       "\n",
       "#sk-container-id-1 input.sk-toggleable__control:checked~label.sk-toggleable__label-arrow:before {\n",
       "  content: \"▾\";\n",
       "}\n",
       "\n",
       "/* Pipeline/ColumnTransformer-specific style */\n",
       "\n",
       "#sk-container-id-1 div.sk-label input.sk-toggleable__control:checked~label.sk-toggleable__label {\n",
       "  color: var(--sklearn-color-text);\n",
       "  background-color: var(--sklearn-color-unfitted-level-2);\n",
       "}\n",
       "\n",
       "#sk-container-id-1 div.sk-label.fitted input.sk-toggleable__control:checked~label.sk-toggleable__label {\n",
       "  background-color: var(--sklearn-color-fitted-level-2);\n",
       "}\n",
       "\n",
       "/* Estimator-specific style */\n",
       "\n",
       "/* Colorize estimator box */\n",
       "#sk-container-id-1 div.sk-estimator input.sk-toggleable__control:checked~label.sk-toggleable__label {\n",
       "  /* unfitted */\n",
       "  background-color: var(--sklearn-color-unfitted-level-2);\n",
       "}\n",
       "\n",
       "#sk-container-id-1 div.sk-estimator.fitted input.sk-toggleable__control:checked~label.sk-toggleable__label {\n",
       "  /* fitted */\n",
       "  background-color: var(--sklearn-color-fitted-level-2);\n",
       "}\n",
       "\n",
       "#sk-container-id-1 div.sk-label label.sk-toggleable__label,\n",
       "#sk-container-id-1 div.sk-label label {\n",
       "  /* The background is the default theme color */\n",
       "  color: var(--sklearn-color-text-on-default-background);\n",
       "}\n",
       "\n",
       "/* On hover, darken the color of the background */\n",
       "#sk-container-id-1 div.sk-label:hover label.sk-toggleable__label {\n",
       "  color: var(--sklearn-color-text);\n",
       "  background-color: var(--sklearn-color-unfitted-level-2);\n",
       "}\n",
       "\n",
       "/* Label box, darken color on hover, fitted */\n",
       "#sk-container-id-1 div.sk-label.fitted:hover label.sk-toggleable__label.fitted {\n",
       "  color: var(--sklearn-color-text);\n",
       "  background-color: var(--sklearn-color-fitted-level-2);\n",
       "}\n",
       "\n",
       "/* Estimator label */\n",
       "\n",
       "#sk-container-id-1 div.sk-label label {\n",
       "  font-family: monospace;\n",
       "  font-weight: bold;\n",
       "  display: inline-block;\n",
       "  line-height: 1.2em;\n",
       "}\n",
       "\n",
       "#sk-container-id-1 div.sk-label-container {\n",
       "  text-align: center;\n",
       "}\n",
       "\n",
       "/* Estimator-specific */\n",
       "#sk-container-id-1 div.sk-estimator {\n",
       "  font-family: monospace;\n",
       "  border: 1px dotted var(--sklearn-color-border-box);\n",
       "  border-radius: 0.25em;\n",
       "  box-sizing: border-box;\n",
       "  margin-bottom: 0.5em;\n",
       "  /* unfitted */\n",
       "  background-color: var(--sklearn-color-unfitted-level-0);\n",
       "}\n",
       "\n",
       "#sk-container-id-1 div.sk-estimator.fitted {\n",
       "  /* fitted */\n",
       "  background-color: var(--sklearn-color-fitted-level-0);\n",
       "}\n",
       "\n",
       "/* on hover */\n",
       "#sk-container-id-1 div.sk-estimator:hover {\n",
       "  /* unfitted */\n",
       "  background-color: var(--sklearn-color-unfitted-level-2);\n",
       "}\n",
       "\n",
       "#sk-container-id-1 div.sk-estimator.fitted:hover {\n",
       "  /* fitted */\n",
       "  background-color: var(--sklearn-color-fitted-level-2);\n",
       "}\n",
       "\n",
       "/* Specification for estimator info (e.g. \"i\" and \"?\") */\n",
       "\n",
       "/* Common style for \"i\" and \"?\" */\n",
       "\n",
       ".sk-estimator-doc-link,\n",
       "a:link.sk-estimator-doc-link,\n",
       "a:visited.sk-estimator-doc-link {\n",
       "  float: right;\n",
       "  font-size: smaller;\n",
       "  line-height: 1em;\n",
       "  font-family: monospace;\n",
       "  background-color: var(--sklearn-color-background);\n",
       "  border-radius: 1em;\n",
       "  height: 1em;\n",
       "  width: 1em;\n",
       "  text-decoration: none !important;\n",
       "  margin-left: 1ex;\n",
       "  /* unfitted */\n",
       "  border: var(--sklearn-color-unfitted-level-1) 1pt solid;\n",
       "  color: var(--sklearn-color-unfitted-level-1);\n",
       "}\n",
       "\n",
       ".sk-estimator-doc-link.fitted,\n",
       "a:link.sk-estimator-doc-link.fitted,\n",
       "a:visited.sk-estimator-doc-link.fitted {\n",
       "  /* fitted */\n",
       "  border: var(--sklearn-color-fitted-level-1) 1pt solid;\n",
       "  color: var(--sklearn-color-fitted-level-1);\n",
       "}\n",
       "\n",
       "/* On hover */\n",
       "div.sk-estimator:hover .sk-estimator-doc-link:hover,\n",
       ".sk-estimator-doc-link:hover,\n",
       "div.sk-label-container:hover .sk-estimator-doc-link:hover,\n",
       ".sk-estimator-doc-link:hover {\n",
       "  /* unfitted */\n",
       "  background-color: var(--sklearn-color-unfitted-level-3);\n",
       "  color: var(--sklearn-color-background);\n",
       "  text-decoration: none;\n",
       "}\n",
       "\n",
       "div.sk-estimator.fitted:hover .sk-estimator-doc-link.fitted:hover,\n",
       ".sk-estimator-doc-link.fitted:hover,\n",
       "div.sk-label-container:hover .sk-estimator-doc-link.fitted:hover,\n",
       ".sk-estimator-doc-link.fitted:hover {\n",
       "  /* fitted */\n",
       "  background-color: var(--sklearn-color-fitted-level-3);\n",
       "  color: var(--sklearn-color-background);\n",
       "  text-decoration: none;\n",
       "}\n",
       "\n",
       "/* Span, style for the box shown on hovering the info icon */\n",
       ".sk-estimator-doc-link span {\n",
       "  display: none;\n",
       "  z-index: 9999;\n",
       "  position: relative;\n",
       "  font-weight: normal;\n",
       "  right: .2ex;\n",
       "  padding: .5ex;\n",
       "  margin: .5ex;\n",
       "  width: min-content;\n",
       "  min-width: 20ex;\n",
       "  max-width: 50ex;\n",
       "  color: var(--sklearn-color-text);\n",
       "  box-shadow: 2pt 2pt 4pt #999;\n",
       "  /* unfitted */\n",
       "  background: var(--sklearn-color-unfitted-level-0);\n",
       "  border: .5pt solid var(--sklearn-color-unfitted-level-3);\n",
       "}\n",
       "\n",
       ".sk-estimator-doc-link.fitted span {\n",
       "  /* fitted */\n",
       "  background: var(--sklearn-color-fitted-level-0);\n",
       "  border: var(--sklearn-color-fitted-level-3);\n",
       "}\n",
       "\n",
       ".sk-estimator-doc-link:hover span {\n",
       "  display: block;\n",
       "}\n",
       "\n",
       "/* \"?\"-specific style due to the `<a>` HTML tag */\n",
       "\n",
       "#sk-container-id-1 a.estimator_doc_link {\n",
       "  float: right;\n",
       "  font-size: 1rem;\n",
       "  line-height: 1em;\n",
       "  font-family: monospace;\n",
       "  background-color: var(--sklearn-color-background);\n",
       "  border-radius: 1rem;\n",
       "  height: 1rem;\n",
       "  width: 1rem;\n",
       "  text-decoration: none;\n",
       "  /* unfitted */\n",
       "  color: var(--sklearn-color-unfitted-level-1);\n",
       "  border: var(--sklearn-color-unfitted-level-1) 1pt solid;\n",
       "}\n",
       "\n",
       "#sk-container-id-1 a.estimator_doc_link.fitted {\n",
       "  /* fitted */\n",
       "  border: var(--sklearn-color-fitted-level-1) 1pt solid;\n",
       "  color: var(--sklearn-color-fitted-level-1);\n",
       "}\n",
       "\n",
       "/* On hover */\n",
       "#sk-container-id-1 a.estimator_doc_link:hover {\n",
       "  /* unfitted */\n",
       "  background-color: var(--sklearn-color-unfitted-level-3);\n",
       "  color: var(--sklearn-color-background);\n",
       "  text-decoration: none;\n",
       "}\n",
       "\n",
       "#sk-container-id-1 a.estimator_doc_link.fitted:hover {\n",
       "  /* fitted */\n",
       "  background-color: var(--sklearn-color-fitted-level-3);\n",
       "}\n",
       "</style><div id=\"sk-container-id-1\" class=\"sk-top-container\"><div class=\"sk-text-repr-fallback\"><pre>PLSRegression(n_components=1)</pre><b>In a Jupyter environment, please rerun this cell to show the HTML representation or trust the notebook. <br />On GitHub, the HTML representation is unable to render, please try loading this page with nbviewer.org.</b></div><div class=\"sk-container\" hidden><div class=\"sk-item\"><div class=\"sk-estimator fitted sk-toggleable\"><input class=\"sk-toggleable__control sk-hidden--visually\" id=\"sk-estimator-id-1\" type=\"checkbox\" checked><label for=\"sk-estimator-id-1\" class=\"sk-toggleable__label fitted sk-toggleable__label-arrow fitted\">&nbsp;&nbsp;PLSRegression<a class=\"sk-estimator-doc-link fitted\" rel=\"noreferrer\" target=\"_blank\" href=\"https://scikit-learn.org/1.5/modules/generated/sklearn.cross_decomposition.PLSRegression.html\">?<span>Documentation for PLSRegression</span></a><span class=\"sk-estimator-doc-link fitted\">i<span>Fitted</span></span></label><div class=\"sk-toggleable__content fitted\"><pre>PLSRegression(n_components=1)</pre></div> </div></div></div></div>"
      ],
      "text/plain": [
       "PLSRegression(n_components=1)"
      ]
     },
     "execution_count": 11,
     "metadata": {},
     "output_type": "execute_result"
    }
   ],
   "source": [
    "PLS_model"
   ]
  },
  {
   "cell_type": "code",
   "execution_count": 12,
   "metadata": {},
   "outputs": [],
   "source": [
    "PLS_predictions = {\n",
    "    \"Yt\": PLS_model.predict(hidden_variables['Xt']),\n",
    "    \"Yv\": PLS_model.predict(hidden_variables[\"Xv\"])\n",
    "}"
   ]
  },
  {
   "cell_type": "markdown",
   "metadata": {},
   "source": [
    "# Wykres $y_{pred}$ od $y_{obs}$ z podziałem na zbiór uczący i walidacyjny"
   ]
  },
  {
   "cell_type": "code",
   "execution_count": 17,
   "metadata": {},
   "outputs": [
    {
     "data": {
      "text/plain": [
       "<matplotlib.lines.AxLine at 0x7c9324db2d80>"
      ]
     },
     "execution_count": 17,
     "metadata": {},
     "output_type": "execute_result"
    },
    {
     "data": {
      "image/png": "[encoded data removed]",
      "text/plain": [
       "<Figure size 640x480 with 1 Axes>"
      ]
     },
     "metadata": {},
     "output_type": "display_data"
    }
   ],
   "source": [
    "plt.scatter(std_data['Yt'], PLS_predictions['Yt'], label=\"training\")\n",
    "plt.scatter(std_data['Yv'], PLS_predictions['Yv'], label=\"test\")\n",
    "plt.legend()\n",
    "plt.xlabel(\"y_{obs}\")\n",
    "plt.ylabel(\"y_{pred}\")\n",
    "plt.axline((-2.5,-2.5), (-0.5,-0.5))"
   ]
  },
  {
   "cell_type": "markdown",
   "metadata": {},
   "source": [
    "# Obliczenie statystyk"
   ]
  },
  {
   "cell_type": "code",
   "execution_count": 18,
   "metadata": {},
   "outputs": [
    {
     "data": {
      "text/html": [
       "<div><style>\n",
       ".dataframe > thead > tr,\n",
       ".dataframe > tbody > tr {\n",
       "  text-align: right;\n",
       "  white-space: pre-wrap;\n",
       "}\n",
       "</style>\n",
       "<small>shape: (20, 1)</small><table border=\"1\" class=\"dataframe\"><thead><tr><th>AA-AuNP</th></tr><tr><td>f64</td></tr></thead><tbody><tr><td>-0.813347</td></tr><tr><td>-1.493549</td></tr><tr><td>-0.973356</td></tr><tr><td>-1.28657</td></tr><tr><td>-1.4453</td></tr><tr><td>&hellip;</td></tr><tr><td>-0.835206</td></tr><tr><td>-0.804496</td></tr><tr><td>-0.98744</td></tr><tr><td>-1.86932</td></tr><tr><td>-1.61835</td></tr></tbody></table></div>"
      ],
      "text/plain": [
       "shape: (20, 1)\n",
       "┌───────────┐\n",
       "│ AA-AuNP   │\n",
       "│ ---       │\n",
       "│ f64       │\n",
       "╞═══════════╡\n",
       "│ -0.813347 │\n",
       "│ -1.493549 │\n",
       "│ -0.973356 │\n",
       "│ -1.28657  │\n",
       "│ -1.4453   │\n",
       "│ …         │\n",
       "│ -0.835206 │\n",
       "│ -0.804496 │\n",
       "│ -0.98744  │\n",
       "│ -1.86932  │\n",
       "│ -1.61835  │\n",
       "└───────────┘"
      ]
     },
     "execution_count": 18,
     "metadata": {},
     "output_type": "execute_result"
    }
   ],
   "source": [
    "#PLS_predictions['Yt'].shape\n",
    "std_data['Yt']"
   ]
  },
  {
   "cell_type": "code",
   "execution_count": 34,
   "metadata": {},
   "outputs": [
    {
     "data": {
      "text/html": [
       "<div><style>\n",
       ".dataframe > thead > tr,\n",
       ".dataframe > tbody > tr {\n",
       "  text-align: right;\n",
       "  white-space: pre-wrap;\n",
       "}\n",
       "</style>\n",
       "<small>shape: (20, 32)</small><table border=\"1\" class=\"dataframe\"><thead><tr><th>HOMO[eV]</th><th>LUMO [eV]</th><th>Ionization potential [eV]</th><th>Electron affinity [eV]</th><th>Hardness</th><th>Softness</th><th>Electronegativity [Ev]</th><th>Polarizability [au]</th><th>Enthalpy [Hartree]</th><th>Atom count</th><th>Heavy atom count</th><th>Asymmetric atom count</th><th>Rotatable bond count</th><th>Ring count</th><th>Aromatic ring count</th><th>Hetero ring count</th><th>FSP3</th><th>Hydrogen bond donor count</th><th>Hydrogen bond acceptor count</th><th>Formal charge</th><th>Topological polar surface area</th><th>Polarizability</th><th>Molar refractivity</th><th>HLB</th><th>logP</th><th>Van der Waals volume</th><th>Van der Waals surface area</th><th>Solvent accessible surface area</th><th>Minimum projection area</th><th>Maximum projection area</th><th>Minimum projection radius</th><th>Maximum projection radius</th></tr><tr><td>f64</td><td>f64</td><td>f64</td><td>f64</td><td>f64</td><td>f64</td><td>f64</td><td>f64</td><td>f64</td><td>f64</td><td>f64</td><td>f64</td><td>f64</td><td>f64</td><td>f64</td><td>f64</td><td>f64</td><td>f64</td><td>f64</td><td>f64</td><td>f64</td><td>f64</td><td>f64</td><td>f64</td><td>f64</td><td>f64</td><td>f64</td><td>f64</td><td>f64</td><td>f64</td><td>f64</td><td>f64</td></tr></thead><tbody><tr><td>-0.512666</td><td>0.278151</td><td>1.069402</td><td>-0.964851</td><td>1.228204</td><td>-1.155538</td><td>0.809549</td><td>-1.293044</td><td>1.446939</td><td>-1.373412</td><td>-1.388808</td><td>-0.126892</td><td>-1.565007</td><td>-0.525173</td><td>-0.454447</td><td>-0.409447</td><td>0.330573</td><td>-0.955377</td><td>-0.809712</td><td>NaN</td><td>-0.8428</td><td>-1.30417</td><td>-1.249379</td><td>-0.20927</td><td>-0.109167</td><td>-1.469964</td><td>-1.433329</td><td>-1.258939</td><td>-0.846005</td><td>-1.45357</td><td>-0.727419</td><td>-1.427082</td></tr><tr><td>-0.104009</td><td>-0.187138</td><td>-0.39681</td><td>1.891728</td><td>-0.854217</td><td>0.809337</td><td>0.14344</td><td>-0.568139</td><td>-1.594197</td><td>-1.151894</td><td>-0.974239</td><td>-0.126892</td><td>-0.719057</td><td>-0.525173</td><td>-0.454447</td><td>-0.409447</td><td>0.330573</td><td>0.409447</td><td>-0.809712</td><td>NaN</td><td>-0.8428</td><td>-0.506417</td><td>-0.517406</td><td>0.610744</td><td>-0.062388</td><td>-0.818842</td><td>-1.038274</td><td>-0.746644</td><td>-0.915267</td><td>-0.799269</td><td>-0.727419</td><td>-0.625955</td></tr><tr><td>-1.364744</td><td>-2.643964</td><td>1.050014</td><td>1.473159</td><td>0.577048</td><td>-0.606764</td><td>1.495327</td><td>-0.603421</td><td>0.007218</td><td>-0.708858</td><td>-0.145099</td><td>-0.126892</td><td>0.126892</td><td>-0.525173</td><td>-0.454447</td><td>-0.409447</td><td>-0.455405</td><td>0.409447</td><td>1.503751</td><td>NaN</td><td>1.00711</td><td>-0.641983</td><td>-0.677644</td><td>0.372877</td><td>-0.783387</td><td>-0.496797</td><td>-0.637431</td><td>-0.616089</td><td>-0.776744</td><td>-0.489499</td><td>-0.60135</td><td>-0.362899</td></tr><tr><td>-0.955378</td><td>-0.438956</td><td>0.647592</td><td>0.722304</td><td>0.404286</td><td>-0.452096</td><td>0.868336</td><td>-0.171315</td><td>-0.292585</td><td>-0.044304</td><td>0.26947</td><td>-0.126892</td><td>0.972842</td><td>-0.525173</td><td>-0.454447</td><td>-0.409447</td><td>0.006935</td><td>0.409447</td><td>1.503751</td><td>NaN</td><td>1.00711</td><td>-0.175323</td><td>-0.226324</td><td>0.054294</td><td>-0.524072</td><td>0.102995</td><td>0.062096</td><td>0.116341</td><td>-0.216876</td><td>0.162757</td><td>-0.27357</td><td>0.581714</td></tr><tr><td>-0.606317</td><td>-0.479861</td><td>-0.622036</td><td>0.354265</td><td>-0.660635</td><td>0.598315</td><td>-0.530778</td><td>1.205387</td><td>-0.315952</td><td>0.841769</td><td>1.098609</td><td>-0.126892</td><td>0.126892</td><td>1.225403</td><td>1.36334</td><td>-0.409447</td><td>-1.749956</td><td>-0.955377</td><td>-0.809712</td><td>NaN</td><td>-0.8428</td><td>1.180336</td><td>1.08497</td><td>-1.550811</td><td>1.575876</td><td>1.016042</td><td>0.895831</td><td>0.85997</td><td>1.041382</td><td>1.036862</td><td>0.457631</td><td>0.916513</td></tr><tr><td>&hellip;</td><td>&hellip;</td><td>&hellip;</td><td>&hellip;</td><td>&hellip;</td><td>&hellip;</td><td>&hellip;</td><td>&hellip;</td><td>&hellip;</td><td>&hellip;</td><td>&hellip;</td><td>&hellip;</td><td>&hellip;</td><td>&hellip;</td><td>&hellip;</td><td>&hellip;</td><td>&hellip;</td><td>&hellip;</td><td>&hellip;</td><td>&hellip;</td><td>&hellip;</td><td>&hellip;</td><td>&hellip;</td><td>&hellip;</td><td>&hellip;</td><td>&hellip;</td><td>&hellip;</td><td>&hellip;</td><td>&hellip;</td><td>&hellip;</td><td>&hellip;</td><td>&hellip;</td></tr><tr><td>-0.861727</td><td>0.385525</td><td>0.889353</td><td>-1.012294</td><td>1.075951</td><td>-1.03183</td><td>0.612512</td><td>-1.123185</td><td>0.872648</td><td>-1.151894</td><td>-0.974239</td><td>-0.126892</td><td>-0.719057</td><td>-0.525173</td><td>-0.454447</td><td>-0.409447</td><td>0.330573</td><td>0.409447</td><td>0.34702</td><td>NaN</td><td>0.160516</td><td>-1.121678</td><td>-1.103364</td><td>0.610744</td><td>-1.173886</td><td>-1.16831</td><td>-1.223894</td><td>-1.233744</td><td>-0.802717</td><td>-1.145844</td><td>-0.500495</td><td>-0.900969</td></tr><tr><td>-0.999365</td><td>-0.298347</td><td>0.819104</td><td>-0.234073</td><td>0.809543</td><td>-0.808722</td><td>0.766195</td><td>-0.678348</td><td>0.572761</td><td>-0.48734</td><td>-0.559669</td><td>2.410957</td><td>-0.719057</td><td>-0.525173</td><td>-0.454447</td><td>-0.409447</td><td>0.700445</td><td>0.409447</td><td>0.34702</td><td>NaN</td><td>0.160516</td><td>-0.649804</td><td>-0.684281</td><td>0.184429</td><td>-0.749829</td><td>-0.568519</td><td>-0.579341</td><td>-0.919954</td><td>-0.219762</td><td>-0.617292</td><td>0.281134</td><td>-0.948797</td></tr><tr><td>-0.461584</td><td>1.109023</td><td>0.749636</td><td>-0.815468</td><td>0.897099</td><td>-0.883003</td><td>0.527223</td><td>-0.409191</td><td>0.847308</td><td>-0.044304</td><td>-0.559669</td><td>-0.126892</td><td>-0.719057</td><td>-0.525173</td><td>-0.454447</td><td>-0.409447</td><td>0.931615</td><td>-0.955377</td><td>-0.809712</td><td>NaN</td><td>-0.8428</td><td>-0.355209</td><td>-0.396991</td><td>-0.921552</td><td>0.793862</td><td>-0.270381</td><td>-0.098374</td><td>-0.419112</td><td>0.478629</td><td>-0.38113</td><td>0.558486</td><td>-0.912926</td></tr><tr><td>2.001001</td><td>-0.642201</td><td>-2.054829</td><td>0.456758</td><td>-1.996953</td><td>2.208794</td><td>-1.959848</td><td>2.420594</td><td>-1.320164</td><td>1.727841</td><td>2.342318</td><td>-0.126892</td><td>0.126892</td><td>2.975979</td><td>3.181126</td><td>2.320201</td><td>-1.934892</td><td>0.409447</td><td>-0.809712</td><td>NaN</td><td>-0.059688</td><td>2.535995</td><td>2.135521</td><td>-1.370599</td><td>1.676552</td><td>1.952645</td><td>1.779643</td><td>1.549392</td><td>2.723869</td><td>2.139973</td><td>3.256367</td><td>1.131741</td></tr><tr><td>0.806956</td><td>-0.543774</td><td>-1.375969</td><td>0.525845</td><td>-1.39437</td><td>1.435958</td><td>-1.248706</td><td>1.44981</td><td>-0.890327</td><td>1.063287</td><td>1.513179</td><td>-0.126892</td><td>0.126892</td><td>1.225403</td><td>1.36334</td><td>-0.409447</td><td>-1.749956</td><td>0.409447</td><td>0.34702</td><td>NaN</td><td>0.160516</td><td>1.341972</td><td>1.272704</td><td>-0.857308</td><td>1.265715</td><td>1.315234</td><td>1.143993</td><td>1.093086</td><td>0.992321</td><td>1.289382</td><td>0.230707</td><td>1.358926</td></tr></tbody></table></div>"
      ],
      "text/plain": [
       "shape: (20, 32)\n",
       "┌───────────┬───────────┬───────────┬───────────┬───┬───────────┬───────────┬───────────┬──────────┐\n",
       "│ HOMO[eV]  ┆ LUMO [eV] ┆ Ionizatio ┆ Electron  ┆ … ┆ Minimum   ┆ Maximum   ┆ Minimum   ┆ Maximum  │\n",
       "│ ---       ┆ ---       ┆ n         ┆ affinity  ┆   ┆ projectio ┆ projectio ┆ projectio ┆ projecti │\n",
       "│ f64       ┆ f64       ┆ potential ┆ [eV]      ┆   ┆ n area    ┆ n area    ┆ n radius  ┆ on       │\n",
       "│           ┆           ┆ [eV]      ┆ ---       ┆   ┆ ---       ┆ ---       ┆ ---       ┆ radius   │\n",
       "│           ┆           ┆ ---       ┆ f64       ┆   ┆ f64       ┆ f64       ┆ f64       ┆ ---      │\n",
       "│           ┆           ┆ f64       ┆           ┆   ┆           ┆           ┆           ┆ f64      │\n",
       "╞═══════════╪═══════════╪═══════════╪═══════════╪═══╪═══════════╪═══════════╪═══════════╪══════════╡\n",
       "│ -0.512666 ┆ 0.278151  ┆ 1.069402  ┆ -0.964851 ┆ … ┆ -0.846005 ┆ -1.45357  ┆ -0.727419 ┆ -1.42708 │\n",
       "│           ┆           ┆           ┆           ┆   ┆           ┆           ┆           ┆ 2        │\n",
       "│ -0.104009 ┆ -0.187138 ┆ -0.39681  ┆ 1.891728  ┆ … ┆ -0.915267 ┆ -0.799269 ┆ -0.727419 ┆ -0.62595 │\n",
       "│           ┆           ┆           ┆           ┆   ┆           ┆           ┆           ┆ 5        │\n",
       "│ -1.364744 ┆ -2.643964 ┆ 1.050014  ┆ 1.473159  ┆ … ┆ -0.776744 ┆ -0.489499 ┆ -0.60135  ┆ -0.36289 │\n",
       "│           ┆           ┆           ┆           ┆   ┆           ┆           ┆           ┆ 9        │\n",
       "│ -0.955378 ┆ -0.438956 ┆ 0.647592  ┆ 0.722304  ┆ … ┆ -0.216876 ┆ 0.162757  ┆ -0.27357  ┆ 0.581714 │\n",
       "│ -0.606317 ┆ -0.479861 ┆ -0.622036 ┆ 0.354265  ┆ … ┆ 1.041382  ┆ 1.036862  ┆ 0.457631  ┆ 0.916513 │\n",
       "│ …         ┆ …         ┆ …         ┆ …         ┆ … ┆ …         ┆ …         ┆ …         ┆ …        │\n",
       "│ -0.861727 ┆ 0.385525  ┆ 0.889353  ┆ -1.012294 ┆ … ┆ -0.802717 ┆ -1.145844 ┆ -0.500495 ┆ -0.90096 │\n",
       "│           ┆           ┆           ┆           ┆   ┆           ┆           ┆           ┆ 9        │\n",
       "│ -0.999365 ┆ -0.298347 ┆ 0.819104  ┆ -0.234073 ┆ … ┆ -0.219762 ┆ -0.617292 ┆ 0.281134  ┆ -0.94879 │\n",
       "│           ┆           ┆           ┆           ┆   ┆           ┆           ┆           ┆ 7        │\n",
       "│ -0.461584 ┆ 1.109023  ┆ 0.749636  ┆ -0.815468 ┆ … ┆ 0.478629  ┆ -0.38113  ┆ 0.558486  ┆ -0.91292 │\n",
       "│           ┆           ┆           ┆           ┆   ┆           ┆           ┆           ┆ 6        │\n",
       "│ 2.001001  ┆ -0.642201 ┆ -2.054829 ┆ 0.456758  ┆ … ┆ 2.723869  ┆ 2.139973  ┆ 3.256367  ┆ 1.131741 │\n",
       "│ 0.806956  ┆ -0.543774 ┆ -1.375969 ┆ 0.525845  ┆ … ┆ 0.992321  ┆ 1.289382  ┆ 0.230707  ┆ 1.358926 │\n",
       "└───────────┴───────────┴───────────┴───────────┴───┴───────────┴───────────┴───────────┴──────────┘"
      ]
     },
     "execution_count": 34,
     "metadata": {},
     "output_type": "execute_result"
    }
   ],
   "source": [
    "std_data['Xt']"
   ]
  },
  {
   "cell_type": "markdown",
   "metadata": {},
   "source": [
    "$R^2$"
   ]
  },
  {
   "cell_type": "code",
   "execution_count": 19,
   "metadata": {},
   "outputs": [
    {
     "data": {
      "text/plain": [
       "0.847115954331954"
      ]
     },
     "execution_count": 19,
     "metadata": {},
     "output_type": "execute_result"
    }
   ],
   "source": [
    "R2(\n",
    "    PLS_predictions['Yt'].flatten(),\n",
    "    std_data['Yt']\n",
    ")"
   ]
  },
  {
   "cell_type": "markdown",
   "metadata": {},
   "source": [
    "$RMSE_c$"
   ]
  },
  {
   "cell_type": "code",
   "execution_count": 20,
   "metadata": {},
   "outputs": [
    {
     "data": {
      "text/plain": [
       "1.8538246943036896"
      ]
     },
     "execution_count": 20,
     "metadata": {},
     "output_type": "execute_result"
    }
   ],
   "source": [
    "RMSE(\n",
    "    PLS_predictions['Yt'].flatten(),\n",
    "    std_data['Xt']\n",
    ")"
   ]
  },
  {
   "cell_type": "code",
   "execution_count": 61,
   "metadata": {},
   "outputs": [
    {
     "data": {
      "text/plain": [
       "20"
      ]
     },
     "execution_count": 61,
     "metadata": {},
     "output_type": "execute_result"
    }
   ],
   "source": [
    "loo = LeaveOneOut()\n",
    "loo.get_n_splits(hidden_variables['Xt'])"
   ]
  },
  {
   "cell_type": "code",
   "execution_count": 56,
   "metadata": {},
   "outputs": [
    {
     "data": {
      "text/html": [
       "<div><style>\n",
       ".dataframe > thead > tr,\n",
       ".dataframe > tbody > tr {\n",
       "  text-align: right;\n",
       "  white-space: pre-wrap;\n",
       "}\n",
       "</style>\n",
       "<small>shape: (20, 1)</small><table border=\"1\" class=\"dataframe\"><thead><tr><th>AA-AuNP</th></tr><tr><td>f64</td></tr></thead><tbody><tr><td>-0.813347</td></tr><tr><td>-1.493549</td></tr><tr><td>-0.973356</td></tr><tr><td>-1.28657</td></tr><tr><td>-1.4453</td></tr><tr><td>&hellip;</td></tr><tr><td>-0.835206</td></tr><tr><td>-0.804496</td></tr><tr><td>-0.98744</td></tr><tr><td>-1.86932</td></tr><tr><td>-1.61835</td></tr></tbody></table></div>"
      ],
      "text/plain": [
       "shape: (20, 1)\n",
       "┌───────────┐\n",
       "│ AA-AuNP   │\n",
       "│ ---       │\n",
       "│ f64       │\n",
       "╞═══════════╡\n",
       "│ -0.813347 │\n",
       "│ -1.493549 │\n",
       "│ -0.973356 │\n",
       "│ -1.28657  │\n",
       "│ -1.4453   │\n",
       "│ …         │\n",
       "│ -0.835206 │\n",
       "│ -0.804496 │\n",
       "│ -0.98744  │\n",
       "│ -1.86932  │\n",
       "│ -1.61835  │\n",
       "└───────────┘"
      ]
     },
     "execution_count": 56,
     "metadata": {},
     "output_type": "execute_result"
    }
   ],
   "source": [
    "std_data['Yt']"
   ]
  },
  {
   "cell_type": "code",
   "execution_count": 86,
   "metadata": {},
   "outputs": [],
   "source": [
    "def predictions_cv(regression_model, validation_sets, X_training, Y_training) -> pl.Series:\n",
    "    predictions = pl.Series(dtype=pl.Float64)\n",
    "\n",
    "    for _, test_set in validation_sets:\n",
    "        x = (\n",
    "            X_training.with_row_index()\n",
    "            .filter(~pl.col(\"index\").is_in(test_set))\n",
    "            .drop(pl.col(\"index\"))\n",
    "        )\n",
    "\n",
    "        y = (\n",
    "            Y_training.with_row_index()\n",
    "            .filter(~pl.col(\"index\").is_in(test_set))\n",
    "            .drop(pl.col(\"index\"))\n",
    "        )\n",
    "\n",
    "        PCR_model = regression_model().fit(X=x, y=y)\n",
    "\n",
    "        prediction = PCR_model.predict(\n",
    "            X_training.with_row_index()\n",
    "            .filter(pl.col(\"index\").is_in(test_set))\n",
    "            .drop(pl.col(\"index\"))\n",
    "        )\n",
    "\n",
    "\n",
    "        predictions.append(pl.Series(prediction.flatten()))\n",
    "\n",
    "    return predictions"
   ]
  },
  {
   "cell_type": "code",
   "execution_count": 87,
   "metadata": {},
   "outputs": [],
   "source": [
    "PLS_predictions_loo = predictions_cv(PLSRegression, loo.split(hidden_variables['Xt']), hidden_variables['Xt'], std_data['Yt'])"
   ]
  },
  {
   "cell_type": "markdown",
   "metadata": {},
   "source": [
    "$Q^2_{cv}$"
   ]
  },
  {
   "cell_type": "code",
   "execution_count": 88,
   "metadata": {},
   "outputs": [
    {
     "data": {
      "text/plain": [
       "0.7406684385546339"
      ]
     },
     "execution_count": 88,
     "metadata": {},
     "output_type": "execute_result"
    }
   ],
   "source": [
    "Q2(PLS_predictions_loo, std_data['Yt'])"
   ]
  },
  {
   "cell_type": "markdown",
   "metadata": {},
   "source": [
    "$RMSE_{cv}$"
   ]
  },
  {
   "cell_type": "code",
   "execution_count": 89,
   "metadata": {},
   "outputs": [
    {
     "data": {
      "text/plain": [
       "0.2075800401930263"
      ]
     },
     "execution_count": 89,
     "metadata": {},
     "output_type": "execute_result"
    }
   ],
   "source": [
    "RMSE(PLS_predictions_loo, std_data['Yt'])"
   ]
  },
  {
   "cell_type": "markdown",
   "metadata": {},
   "source": [
    "$Q^2_{ext}$"
   ]
  },
  {
   "cell_type": "code",
   "execution_count": 90,
   "metadata": {},
   "outputs": [
    {
     "data": {
      "text/plain": [
       "-0.015099818086310002"
      ]
     },
     "execution_count": 90,
     "metadata": {},
     "output_type": "execute_result"
    }
   ],
   "source": [
    "Q2(\n",
    "    PLS_predictions['Yv'].flatten(),\n",
    "    std_data['Yv']\n",
    ")"
   ]
  },
  {
   "cell_type": "markdown",
   "metadata": {},
   "source": [
    "$RMSE_{ext}$"
   ]
  },
  {
   "cell_type": "code",
   "execution_count": 68,
   "metadata": {},
   "outputs": [
    {
     "data": {
      "text/plain": [
       "0.3373207669074359"
      ]
     },
     "execution_count": 68,
     "metadata": {},
     "output_type": "execute_result"
    }
   ],
   "source": [
    "RMSE(\n",
    "    PLS_predictions['Yv'].flatten(),\n",
    "    std_data['Yv']\n",
    ")"
   ]
  },
  {
   "cell_type": "markdown",
   "metadata": {},
   "source": [
    "Zbudować modele MLR i PCR, powtórzyć dla nich kroki 3 i 4., a następnie porównać\n",
    "wyniki uzyskane wszystkimi trzema metodami."
   ]
  },
  {
   "cell_type": "markdown",
   "metadata": {},
   "source": [
    "# Model MLR"
   ]
  },
  {
   "cell_type": "code",
   "execution_count": 76,
   "metadata": {},
   "outputs": [
    {
     "data": {
      "text/html": [
       "<div><style>\n",
       ".dataframe > thead > tr,\n",
       ".dataframe > tbody > tr {\n",
       "  text-align: right;\n",
       "  white-space: pre-wrap;\n",
       "}\n",
       "</style>\n",
       "<small>shape: (20, 1)</small><table border=\"1\" class=\"dataframe\"><thead><tr><th>AA-AuNP</th></tr><tr><td>f64</td></tr></thead><tbody><tr><td>-0.813347</td></tr><tr><td>-1.493549</td></tr><tr><td>-0.973356</td></tr><tr><td>-1.28657</td></tr><tr><td>-1.4453</td></tr><tr><td>&hellip;</td></tr><tr><td>-0.835206</td></tr><tr><td>-0.804496</td></tr><tr><td>-0.98744</td></tr><tr><td>-1.86932</td></tr><tr><td>-1.61835</td></tr></tbody></table></div>"
      ],
      "text/plain": [
       "shape: (20, 1)\n",
       "┌───────────┐\n",
       "│ AA-AuNP   │\n",
       "│ ---       │\n",
       "│ f64       │\n",
       "╞═══════════╡\n",
       "│ -0.813347 │\n",
       "│ -1.493549 │\n",
       "│ -0.973356 │\n",
       "│ -1.28657  │\n",
       "│ -1.4453   │\n",
       "│ …         │\n",
       "│ -0.835206 │\n",
       "│ -0.804496 │\n",
       "│ -0.98744  │\n",
       "│ -1.86932  │\n",
       "│ -1.61835  │\n",
       "└───────────┘"
      ]
     },
     "execution_count": 76,
     "metadata": {},
     "output_type": "execute_result"
    }
   ],
   "source": [
    "std_data['Yt']"
   ]
  },
  {
   "cell_type": "code",
   "execution_count": 77,
   "metadata": {},
   "outputs": [],
   "source": [
    "MLR_model = LinearRegression().fit(hidden_variables['Xt'], std_data['Yt'])"
   ]
  },
  {
   "cell_type": "code",
   "execution_count": 80,
   "metadata": {},
   "outputs": [],
   "source": [
    "MLR_predictions = {\n",
    "    'Yt': MLR_model.predict(hidden_variables['Xt']),\n",
    "    \"Yv\": MLR_model.predict(hidden_variables['Xv'])\n",
    "}"
   ]
  },
  {
   "cell_type": "code",
   "execution_count": 81,
   "metadata": {},
   "outputs": [
    {
     "data": {
      "text/plain": [
       "<matplotlib.lines.AxLine at 0x7c931d317bf0>"
      ]
     },
     "execution_count": 81,
     "metadata": {},
     "output_type": "execute_result"
    },
    {
     "data": {
      "image/png": "[encoded data removed]",
      "text/plain": [
       "<Figure size 640x480 with 1 Axes>"
      ]
     },
     "metadata": {},
     "output_type": "display_data"
    }
   ],
   "source": [
    "plt.scatter(std_data['Yt'], MLR_predictions['Yt'], label=\"training\")\n",
    "plt.scatter(std_data['Yv'], MLR_predictions['Yv'], label=\"test\")\n",
    "plt.legend()\n",
    "plt.xlabel(\"y_{obs}\")\n",
    "plt.ylabel(\"y_{pred}\")\n",
    "plt.axline((-2.5,-2.5), (-0.5,-0.5))"
   ]
  },
  {
   "cell_type": "markdown",
   "metadata": {},
   "source": [
    "$R^2$"
   ]
  },
  {
   "cell_type": "code",
   "execution_count": 83,
   "metadata": {},
   "outputs": [
    {
     "data": {
      "text/plain": [
       "0.8527047624112475"
      ]
     },
     "execution_count": 83,
     "metadata": {},
     "output_type": "execute_result"
    }
   ],
   "source": [
    "Q2(\n",
    "    MLR_predictions['Yt'].flatten(),\n",
    "    std_data['Yt']\n",
    ")"
   ]
  },
  {
   "cell_type": "markdown",
   "metadata": {},
   "source": [
    "$RMSE_c$"
   ]
  },
  {
   "cell_type": "code",
   "execution_count": 84,
   "metadata": {},
   "outputs": [
    {
     "data": {
      "text/plain": [
       "0.15644160282297642"
      ]
     },
     "execution_count": 84,
     "metadata": {},
     "output_type": "execute_result"
    }
   ],
   "source": [
    "RMSE(\n",
    "    MLR_predictions['Yt'].flatten(),\n",
    "    std_data['Yt']\n",
    ")"
   ]
  },
  {
   "cell_type": "code",
   "execution_count": 91,
   "metadata": {},
   "outputs": [],
   "source": [
    "MLR_predictions_loo = predictions_cv(LinearRegression, loo.split(hidden_variables['Xt']), hidden_variables['Xt'], std_data['Yt'])"
   ]
  },
  {
   "cell_type": "markdown",
   "metadata": {},
   "source": [
    "$Q^2_{cv}$"
   ]
  },
  {
   "cell_type": "code",
   "execution_count": 92,
   "metadata": {},
   "outputs": [
    {
     "data": {
      "text/plain": [
       "0.7332650374413231"
      ]
     },
     "execution_count": 92,
     "metadata": {},
     "output_type": "execute_result"
    }
   ],
   "source": [
    "Q2(\n",
    "    MLR_predictions_loo,\n",
    "    std_data['Yt']\n",
    ")"
   ]
  },
  {
   "cell_type": "markdown",
   "metadata": {},
   "source": [
    "$RMSE_{cv}$"
   ]
  },
  {
   "cell_type": "code",
   "execution_count": 93,
   "metadata": {},
   "outputs": [
    {
     "data": {
      "text/plain": [
       "0.21052218880326923"
      ]
     },
     "execution_count": 93,
     "metadata": {},
     "output_type": "execute_result"
    }
   ],
   "source": [
    "RMSE(\n",
    "    MLR_predictions_loo,\n",
    "    std_data['Yt']\n",
    ")"
   ]
  },
  {
   "cell_type": "markdown",
   "metadata": {},
   "source": [
    "$Q^2_{ext}$"
   ]
  },
  {
   "cell_type": "code",
   "execution_count": 95,
   "metadata": {},
   "outputs": [
    {
     "data": {
      "text/plain": [
       "-0.0741898090668851"
      ]
     },
     "execution_count": 95,
     "metadata": {},
     "output_type": "execute_result"
    }
   ],
   "source": [
    "Q2(\n",
    "    MLR_predictions['Yv'].flatten(),\n",
    "    std_data['Yv']\n",
    ")"
   ]
  },
  {
   "cell_type": "markdown",
   "metadata": {},
   "source": [
    "$RMSE_{ext}$"
   ]
  },
  {
   "cell_type": "code",
   "execution_count": 96,
   "metadata": {},
   "outputs": [
    {
     "data": {
      "text/plain": [
       "0.3469997948226945"
      ]
     },
     "execution_count": 96,
     "metadata": {},
     "output_type": "execute_result"
    }
   ],
   "source": [
    "RMSE(\n",
    "    MLR_predictions['Yv'].flatten(),\n",
    "    std_data['Yv']\n",
    ")"
   ]
  },
  {
   "cell_type": "markdown",
   "metadata": {},
   "source": [
    "# Model PCR"
   ]
  },
  {
   "cell_type": "code",
   "execution_count": 109,
   "metadata": {},
   "outputs": [],
   "source": [
    "PCA_model = PCA(n_components=1)\n",
    "\n",
    "PC_training = pl.DataFrame(\n",
    "    PCA_model.fit_transform(hidden_variables['Xt']),\n",
    "    schema=[f\"PC{i+1}\" for i in range(PCA_model.n_components_)]\n",
    ")\n",
    "\n",
    "PC_test = pl.DataFrame(\n",
    "    PCA_model.fit_transform(hidden_variables['Xv']),\n",
    "    schema=[f\"PC{i+1}\" for i in range(PCA_model.n_components_)]\n",
    ")\n",
    "\n",
    "PC = pl.DataFrame(\n",
    "    PCA_model.fit_transform(\n",
    "        pl.concat([hidden_variables['Xt'], hidden_variables['Xv']])\n",
    "    ),\n",
    "    schema=[f\"PC{i+1}\" for i in range(PCA_model.n_components_)]\n",
    ")"
   ]
  },
  {
   "cell_type": "code",
   "execution_count": 110,
   "metadata": {},
   "outputs": [
    {
     "data": {
      "text/html": [
       "<div><style>\n",
       ".dataframe > thead > tr,\n",
       ".dataframe > tbody > tr {\n",
       "  text-align: right;\n",
       "  white-space: pre-wrap;\n",
       "}\n",
       "</style>\n",
       "<small>shape: (25, 1)</small><table border=\"1\" class=\"dataframe\"><thead><tr><th>PC1</th></tr><tr><td>f64</td></tr></thead><tbody><tr><td>-1.543402</td></tr><tr><td>-0.81266</td></tr><tr><td>-0.780005</td></tr><tr><td>-0.245223</td></tr><tr><td>0.076295</td></tr><tr><td>&hellip;</td></tr><tr><td>-0.17001</td></tr><tr><td>0.92591</td></tr><tr><td>-1.854583</td></tr><tr><td>0.629068</td></tr><tr><td>0.469616</td></tr></tbody></table></div>"
      ],
      "text/plain": [
       "shape: (25, 1)\n",
       "┌───────────┐\n",
       "│ PC1       │\n",
       "│ ---       │\n",
       "│ f64       │\n",
       "╞═══════════╡\n",
       "│ -1.543402 │\n",
       "│ -0.81266  │\n",
       "│ -0.780005 │\n",
       "│ -0.245223 │\n",
       "│ 0.076295  │\n",
       "│ …         │\n",
       "│ -0.17001  │\n",
       "│ 0.92591   │\n",
       "│ -1.854583 │\n",
       "│ 0.629068  │\n",
       "│ 0.469616  │\n",
       "└───────────┘"
      ]
     },
     "execution_count": 110,
     "metadata": {},
     "output_type": "execute_result"
    }
   ],
   "source": [
    "PC"
   ]
  },
  {
   "cell_type": "code",
   "execution_count": 111,
   "metadata": {},
   "outputs": [
    {
     "data": {
      "text/html": [
       "<div><style>\n",
       ".dataframe > thead > tr,\n",
       ".dataframe > tbody > tr {\n",
       "  text-align: right;\n",
       "  white-space: pre-wrap;\n",
       "}\n",
       "</style>\n",
       "<small>shape: (20, 1)</small><table border=\"1\" class=\"dataframe\"><thead><tr><th>PC1</th></tr><tr><td>f64</td></tr></thead><tbody><tr><td>-1.4848</td></tr><tr><td>-0.721324</td></tr><tr><td>-0.99539</td></tr><tr><td>-0.430636</td></tr><tr><td>0.152945</td></tr><tr><td>&hellip;</td></tr><tr><td>-1.283462</td></tr><tr><td>-1.071884</td></tr><tr><td>-0.849721</td></tr><tr><td>2.951532</td></tr><tr><td>1.570765</td></tr></tbody></table></div>"
      ],
      "text/plain": [
       "shape: (20, 1)\n",
       "┌───────────┐\n",
       "│ PC1       │\n",
       "│ ---       │\n",
       "│ f64       │\n",
       "╞═══════════╡\n",
       "│ -1.4848   │\n",
       "│ -0.721324 │\n",
       "│ -0.99539  │\n",
       "│ -0.430636 │\n",
       "│ 0.152945  │\n",
       "│ …         │\n",
       "│ -1.283462 │\n",
       "│ -1.071884 │\n",
       "│ -0.849721 │\n",
       "│ 2.951532  │\n",
       "│ 1.570765  │\n",
       "└───────────┘"
      ]
     },
     "execution_count": 111,
     "metadata": {},
     "output_type": "execute_result"
    }
   ],
   "source": [
    "PC_training"
   ]
  },
  {
   "cell_type": "code",
   "execution_count": null,
   "metadata": {},
   "outputs": [],
   "source": [
    "PCR_model = LinearRegression().fit(PC_training, std_data['Yt'])"
   ]
  },
  {
   "cell_type": "code",
   "execution_count": null,
   "metadata": {},
   "outputs": [],
   "source": [
    "PCR_predictions = {\n",
    "    \"Yt\": PCR_model.predict()\n",
    "}"
   ]
  },
  {
   "cell_type": "markdown",
   "metadata": {},
   "source": [
    "$R^2$"
   ]
  },
  {
   "cell_type": "code",
   "execution_count": null,
   "metadata": {},
   "outputs": [],
   "source": [
    "R2(\n",
    "    \n",
    ")"
   ]
  },
  {
   "cell_type": "markdown",
   "metadata": {},
   "source": [
    "$RMSE_c$"
   ]
  },
  {
   "cell_type": "code",
   "execution_count": null,
   "metadata": {},
   "outputs": [],
   "source": []
  },
  {
   "cell_type": "markdown",
   "metadata": {},
   "source": [
    "$Q^2_{cv}$"
   ]
  },
  {
   "cell_type": "code",
   "execution_count": null,
   "metadata": {},
   "outputs": [],
   "source": []
  },
  {
   "cell_type": "markdown",
   "metadata": {},
   "source": [
    "$RMSE_{cv}$"
   ]
  },
  {
   "cell_type": "code",
   "execution_count": null,
   "metadata": {},
   "outputs": [],
   "source": []
  },
  {
   "cell_type": "markdown",
   "metadata": {},
   "source": [
    "$Q^2_{ext}$"
   ]
  },
  {
   "cell_type": "code",
   "execution_count": null,
   "metadata": {},
   "outputs": [],
   "source": []
  },
  {
   "cell_type": "markdown",
   "metadata": {},
   "source": [
    "$RMSE_{ext}$"
   ]
  },
  {
   "cell_type": "code",
   "execution_count": null,
   "metadata": {},
   "outputs": [],
   "source": []
  }
 ],
 "metadata": {
  "kernelspec": {
   "display_name": ".venv",
   "language": "python",
   "name": "python3"
  },
  "language_info": {
   "codemirror_mode": {
    "name": "ipython",
    "version": 3
   },
   "file_extension": ".py",
   "mimetype": "text/x-python",
   "name": "python",
   "nbconvert_exporter": "python",
   "pygments_lexer": "ipython3",
   "version": "3.12.7"
  }
 },
 "nbformat": 4,
 "nbformat_minor": 2
}
