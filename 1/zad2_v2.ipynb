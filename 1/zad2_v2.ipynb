{
 "cells": [
  {
   "cell_type": "code",
   "execution_count": 739,
   "metadata": {},
   "outputs": [],
   "source": [
    "import polars as pl\n",
    "from sklearn.linear_model import LinearRegression\n",
    "import matplotlib.pyplot as plt\n",
    "from numpy.linalg import inv\n",
    "from numpy import sqrt, dot\n",
    "import seaborn as sns"
   ]
  },
  {
   "cell_type": "code",
   "execution_count": 740,
   "metadata": {},
   "outputs": [],
   "source": [
    "sns.set_theme()"
   ]
  },
  {
   "cell_type": "code",
   "execution_count": 741,
   "metadata": {},
   "outputs": [],
   "source": [
    "def R2(y_pred: pl.Series, y_obs: pl.DataFrame):\n",
    "    return 1 - ((y_pred - y_obs.to_series())**2).sum() / ((y_obs.to_series() - y_obs.to_series().mean())**2).sum()\n",
    "\n",
    "def Q2(y_hat: pl.Series, y_obs: pl.DataFrame):\n",
    "    return 1 - ((y_hat - y_obs.to_series())**2).sum() / ((y_obs.to_series() - y_obs.to_series().mean())**2).sum()\n",
    "\n",
    "def RMSE(y_hat: pl.Series, y_obs: pl.DataFrame):\n",
    "    return (((y_hat - y_obs.to_series())**2).sum()/y_obs.shape[0])**0.5\n",
    "\n",
    "def F(y_pred: pl.Series, y_obs: pl.DataFrame, descriptor_number: int):\n",
    "    return (((y_pred - y_pred.mean())**2).sum() / (y_pred.shape[0] - 1)) / (((y_obs.to_series() - y_pred)**2).sum() / (y_pred.shape[0] - descriptor_number - 1))"
   ]
  },
  {
   "cell_type": "code",
   "execution_count": 742,
   "metadata": {},
   "outputs": [],
   "source": [
    "dane_leki = pl.read_excel(\n",
    "                source=\"dane_leki.xlsx\",\n",
    "                columns=list(range(1,7))\n",
    ").sort(pl.col(\"logK HSA\"))"
   ]
  },
  {
   "cell_type": "code",
   "execution_count": 743,
   "metadata": {},
   "outputs": [
    {
     "data": {
      "text/html": [
       "<div><style>\n",
       ".dataframe > thead > tr,\n",
       ".dataframe > tbody > tr {\n",
       "  text-align: right;\n",
       "  white-space: pre-wrap;\n",
       "}\n",
       "</style>\n",
       "<small>shape: (27, 6)</small><table border=\"1\" class=\"dataframe\"><thead><tr><th>Nazwa</th><th>logK HSA</th><th>logKCTAB</th><th>CATS3D_00_DD</th><th>CATS3D_09_AL</th><th>CATS3D_00_AA</th></tr><tr><td>str</td><td>f64</td><td>f64</td><td>i64</td><td>i64</td><td>i64</td></tr></thead><tbody><tr><td>&quot;metronidazole&quot;</td><td>-1.25</td><td>-0.97</td><td>2</td><td>0</td><td>6</td></tr><tr><td>&quot;acyclovir&quot;</td><td>-1.25</td><td>-0.11</td><td>3</td><td>0</td><td>6</td></tr><tr><td>&quot;zidovudine&quot;</td><td>-1.25</td><td>-0.43</td><td>3</td><td>0</td><td>7</td></tr><tr><td>&quot;acetaminophen&quot;</td><td>-0.79</td><td>-0.63</td><td>2</td><td>0</td><td>2</td></tr><tr><td>&quot;famotidine&quot;</td><td>-0.77</td><td>0.01</td><td>4</td><td>1</td><td>5</td></tr><tr><td>&hellip;</td><td>&hellip;</td><td>&hellip;</td><td>&hellip;</td><td>&hellip;</td><td>&hellip;</td></tr><tr><td>&quot;diclofenac&quot;</td><td>1.69</td><td>1.98</td><td>0</td><td>1</td><td>3</td></tr><tr><td>&quot;indomethacin&quot;</td><td>1.82</td><td>1.63</td><td>1</td><td>4</td><td>5</td></tr><tr><td>&quot;ibuprofen&quot;</td><td>1.84</td><td>0.73</td><td>0</td><td>5</td><td>2</td></tr><tr><td>&quot;flurbiprofen&quot;</td><td>2.05</td><td>1.45</td><td>1</td><td>3</td><td>2</td></tr><tr><td>&quot;trazodone&quot;</td><td>2.29</td><td>1.04</td><td>0</td><td>6</td><td>6</td></tr></tbody></table></div>"
      ],
      "text/plain": [
       "shape: (27, 6)\n",
       "┌───────────────┬──────────┬──────────┬──────────────┬──────────────┬──────────────┐\n",
       "│ Nazwa         ┆ logK HSA ┆ logKCTAB ┆ CATS3D_00_DD ┆ CATS3D_09_AL ┆ CATS3D_00_AA │\n",
       "│ ---           ┆ ---      ┆ ---      ┆ ---          ┆ ---          ┆ ---          │\n",
       "│ str           ┆ f64      ┆ f64      ┆ i64          ┆ i64          ┆ i64          │\n",
       "╞═══════════════╪══════════╪══════════╪══════════════╪══════════════╪══════════════╡\n",
       "│ metronidazole ┆ -1.25    ┆ -0.97    ┆ 2            ┆ 0            ┆ 6            │\n",
       "│ acyclovir     ┆ -1.25    ┆ -0.11    ┆ 3            ┆ 0            ┆ 6            │\n",
       "│ zidovudine    ┆ -1.25    ┆ -0.43    ┆ 3            ┆ 0            ┆ 7            │\n",
       "│ acetaminophen ┆ -0.79    ┆ -0.63    ┆ 2            ┆ 0            ┆ 2            │\n",
       "│ famotidine    ┆ -0.77    ┆ 0.01     ┆ 4            ┆ 1            ┆ 5            │\n",
       "│ …             ┆ …        ┆ …        ┆ …            ┆ …            ┆ …            │\n",
       "│ diclofenac    ┆ 1.69     ┆ 1.98     ┆ 0            ┆ 1            ┆ 3            │\n",
       "│ indomethacin  ┆ 1.82     ┆ 1.63     ┆ 1            ┆ 4            ┆ 5            │\n",
       "│ ibuprofen     ┆ 1.84     ┆ 0.73     ┆ 0            ┆ 5            ┆ 2            │\n",
       "│ flurbiprofen  ┆ 2.05     ┆ 1.45     ┆ 1            ┆ 3            ┆ 2            │\n",
       "│ trazodone     ┆ 2.29     ┆ 1.04     ┆ 0            ┆ 6            ┆ 6            │\n",
       "└───────────────┴──────────┴──────────┴──────────────┴──────────────┴──────────────┘"
      ]
     },
     "execution_count": 743,
     "metadata": {},
     "output_type": "execute_result"
    }
   ],
   "source": [
    "dane_leki"
   ]
  },
  {
   "cell_type": "code",
   "execution_count": 744,
   "metadata": {},
   "outputs": [],
   "source": [
    "Y = dane_leki.select(pl.col('Nazwa'), pl.col(\"logK HSA\"))"
   ]
  },
  {
   "cell_type": "code",
   "execution_count": 745,
   "metadata": {},
   "outputs": [
    {
     "data": {
      "text/html": [
       "<div><style>\n",
       ".dataframe > thead > tr,\n",
       ".dataframe > tbody > tr {\n",
       "  text-align: right;\n",
       "  white-space: pre-wrap;\n",
       "}\n",
       "</style>\n",
       "<small>shape: (27, 2)</small><table border=\"1\" class=\"dataframe\"><thead><tr><th>Nazwa</th><th>logK HSA</th></tr><tr><td>str</td><td>f64</td></tr></thead><tbody><tr><td>&quot;metronidazole&quot;</td><td>-1.25</td></tr><tr><td>&quot;acyclovir&quot;</td><td>-1.25</td></tr><tr><td>&quot;zidovudine&quot;</td><td>-1.25</td></tr><tr><td>&quot;acetaminophen&quot;</td><td>-0.79</td></tr><tr><td>&quot;famotidine&quot;</td><td>-0.77</td></tr><tr><td>&hellip;</td><td>&hellip;</td></tr><tr><td>&quot;diclofenac&quot;</td><td>1.69</td></tr><tr><td>&quot;indomethacin&quot;</td><td>1.82</td></tr><tr><td>&quot;ibuprofen&quot;</td><td>1.84</td></tr><tr><td>&quot;flurbiprofen&quot;</td><td>2.05</td></tr><tr><td>&quot;trazodone&quot;</td><td>2.29</td></tr></tbody></table></div>"
      ],
      "text/plain": [
       "shape: (27, 2)\n",
       "┌───────────────┬──────────┐\n",
       "│ Nazwa         ┆ logK HSA │\n",
       "│ ---           ┆ ---      │\n",
       "│ str           ┆ f64      │\n",
       "╞═══════════════╪══════════╡\n",
       "│ metronidazole ┆ -1.25    │\n",
       "│ acyclovir     ┆ -1.25    │\n",
       "│ zidovudine    ┆ -1.25    │\n",
       "│ acetaminophen ┆ -0.79    │\n",
       "│ famotidine    ┆ -0.77    │\n",
       "│ …             ┆ …        │\n",
       "│ diclofenac    ┆ 1.69     │\n",
       "│ indomethacin  ┆ 1.82     │\n",
       "│ ibuprofen     ┆ 1.84     │\n",
       "│ flurbiprofen  ┆ 2.05     │\n",
       "│ trazodone     ┆ 2.29     │\n",
       "└───────────────┴──────────┘"
      ]
     },
     "execution_count": 745,
     "metadata": {},
     "output_type": "execute_result"
    }
   ],
   "source": [
    "Y"
   ]
  },
  {
   "cell_type": "code",
   "execution_count": 746,
   "metadata": {},
   "outputs": [],
   "source": [
    "X = dane_leki.select(\n",
    "    pl.exclude([\"logK HSA\", \"Zbiór\"])\n",
    ")"
   ]
  },
  {
   "cell_type": "code",
   "execution_count": 747,
   "metadata": {},
   "outputs": [
    {
     "data": {
      "text/html": [
       "<div><style>\n",
       ".dataframe > thead > tr,\n",
       ".dataframe > tbody > tr {\n",
       "  text-align: right;\n",
       "  white-space: pre-wrap;\n",
       "}\n",
       "</style>\n",
       "<small>shape: (27, 5)</small><table border=\"1\" class=\"dataframe\"><thead><tr><th>Nazwa</th><th>logKCTAB</th><th>CATS3D_00_DD</th><th>CATS3D_09_AL</th><th>CATS3D_00_AA</th></tr><tr><td>str</td><td>f64</td><td>i64</td><td>i64</td><td>i64</td></tr></thead><tbody><tr><td>&quot;metronidazole&quot;</td><td>-0.97</td><td>2</td><td>0</td><td>6</td></tr><tr><td>&quot;acyclovir&quot;</td><td>-0.11</td><td>3</td><td>0</td><td>6</td></tr><tr><td>&quot;zidovudine&quot;</td><td>-0.43</td><td>3</td><td>0</td><td>7</td></tr><tr><td>&quot;acetaminophen&quot;</td><td>-0.63</td><td>2</td><td>0</td><td>2</td></tr><tr><td>&quot;famotidine&quot;</td><td>0.01</td><td>4</td><td>1</td><td>5</td></tr><tr><td>&hellip;</td><td>&hellip;</td><td>&hellip;</td><td>&hellip;</td><td>&hellip;</td></tr><tr><td>&quot;diclofenac&quot;</td><td>1.98</td><td>0</td><td>1</td><td>3</td></tr><tr><td>&quot;indomethacin&quot;</td><td>1.63</td><td>1</td><td>4</td><td>5</td></tr><tr><td>&quot;ibuprofen&quot;</td><td>0.73</td><td>0</td><td>5</td><td>2</td></tr><tr><td>&quot;flurbiprofen&quot;</td><td>1.45</td><td>1</td><td>3</td><td>2</td></tr><tr><td>&quot;trazodone&quot;</td><td>1.04</td><td>0</td><td>6</td><td>6</td></tr></tbody></table></div>"
      ],
      "text/plain": [
       "shape: (27, 5)\n",
       "┌───────────────┬──────────┬──────────────┬──────────────┬──────────────┐\n",
       "│ Nazwa         ┆ logKCTAB ┆ CATS3D_00_DD ┆ CATS3D_09_AL ┆ CATS3D_00_AA │\n",
       "│ ---           ┆ ---      ┆ ---          ┆ ---          ┆ ---          │\n",
       "│ str           ┆ f64      ┆ i64          ┆ i64          ┆ i64          │\n",
       "╞═══════════════╪══════════╪══════════════╪══════════════╪══════════════╡\n",
       "│ metronidazole ┆ -0.97    ┆ 2            ┆ 0            ┆ 6            │\n",
       "│ acyclovir     ┆ -0.11    ┆ 3            ┆ 0            ┆ 6            │\n",
       "│ zidovudine    ┆ -0.43    ┆ 3            ┆ 0            ┆ 7            │\n",
       "│ acetaminophen ┆ -0.63    ┆ 2            ┆ 0            ┆ 2            │\n",
       "│ famotidine    ┆ 0.01     ┆ 4            ┆ 1            ┆ 5            │\n",
       "│ …             ┆ …        ┆ …            ┆ …            ┆ …            │\n",
       "│ diclofenac    ┆ 1.98     ┆ 0            ┆ 1            ┆ 3            │\n",
       "│ indomethacin  ┆ 1.63     ┆ 1            ┆ 4            ┆ 5            │\n",
       "│ ibuprofen     ┆ 0.73     ┆ 0            ┆ 5            ┆ 2            │\n",
       "│ flurbiprofen  ┆ 1.45     ┆ 1            ┆ 3            ┆ 2            │\n",
       "│ trazodone     ┆ 1.04     ┆ 0            ┆ 6            ┆ 6            │\n",
       "└───────────────┴──────────┴──────────────┴──────────────┴──────────────┘"
      ]
     },
     "execution_count": 747,
     "metadata": {},
     "output_type": "execute_result"
    }
   ],
   "source": [
    "X"
   ]
  },
  {
   "cell_type": "code",
   "execution_count": 748,
   "metadata": {},
   "outputs": [],
   "source": [
    "dane_leki_walidacja = dane_leki.with_row_index().filter(\n",
    "    pl.col(\"index\") % 3 == 1\n",
    ").select(\n",
    "    pl.exclude(\"index\")\n",
    ")"
   ]
  },
  {
   "cell_type": "code",
   "execution_count": 749,
   "metadata": {},
   "outputs": [
    {
     "data": {
      "text/html": [
       "<div><style>\n",
       ".dataframe > thead > tr,\n",
       ".dataframe > tbody > tr {\n",
       "  text-align: right;\n",
       "  white-space: pre-wrap;\n",
       "}\n",
       "</style>\n",
       "<small>shape: (5, 6)</small><table border=\"1\" class=\"dataframe\"><thead><tr><th>Nazwa</th><th>logK HSA</th><th>logKCTAB</th><th>CATS3D_00_DD</th><th>CATS3D_09_AL</th><th>CATS3D_00_AA</th></tr><tr><td>str</td><td>f64</td><td>f64</td><td>i64</td><td>i64</td><td>i64</td></tr></thead><tbody><tr><td>&quot;acyclovir&quot;</td><td>-1.25</td><td>-0.11</td><td>3</td><td>0</td><td>6</td></tr><tr><td>&quot;famotidine&quot;</td><td>-0.77</td><td>0.01</td><td>4</td><td>1</td><td>5</td></tr><tr><td>&quot;clonidine&quot;</td><td>-0.42</td><td>0.26</td><td>2</td><td>0</td><td>1</td></tr><tr><td>&quot;diphenhydramine&quot;</td><td>0.08</td><td>0.46</td><td>0</td><td>0</td><td>2</td></tr><tr><td>&quot;quinidine&quot;</td><td>0.2</td><td>0.47</td><td>1</td><td>2</td><td>4</td></tr></tbody></table></div>"
      ],
      "text/plain": [
       "shape: (5, 6)\n",
       "┌─────────────────┬──────────┬──────────┬──────────────┬──────────────┬──────────────┐\n",
       "│ Nazwa           ┆ logK HSA ┆ logKCTAB ┆ CATS3D_00_DD ┆ CATS3D_09_AL ┆ CATS3D_00_AA │\n",
       "│ ---             ┆ ---      ┆ ---      ┆ ---          ┆ ---          ┆ ---          │\n",
       "│ str             ┆ f64      ┆ f64      ┆ i64          ┆ i64          ┆ i64          │\n",
       "╞═════════════════╪══════════╪══════════╪══════════════╪══════════════╪══════════════╡\n",
       "│ acyclovir       ┆ -1.25    ┆ -0.11    ┆ 3            ┆ 0            ┆ 6            │\n",
       "│ famotidine      ┆ -0.77    ┆ 0.01     ┆ 4            ┆ 1            ┆ 5            │\n",
       "│ clonidine       ┆ -0.42    ┆ 0.26     ┆ 2            ┆ 0            ┆ 1            │\n",
       "│ diphenhydramine ┆ 0.08     ┆ 0.46     ┆ 0            ┆ 0            ┆ 2            │\n",
       "│ quinidine       ┆ 0.2      ┆ 0.47     ┆ 1            ┆ 2            ┆ 4            │\n",
       "└─────────────────┴──────────┴──────────┴──────────────┴──────────────┴──────────────┘"
      ]
     },
     "execution_count": 749,
     "metadata": {},
     "output_type": "execute_result"
    }
   ],
   "source": [
    "dane_leki_walidacja.head()"
   ]
  },
  {
   "cell_type": "code",
   "execution_count": 750,
   "metadata": {},
   "outputs": [],
   "source": [
    "dane_leki_trening = dane_leki.filter(\n",
    "    ~pl.col(\"Nazwa\").is_in(dane_leki_walidacja[\"Nazwa\"])\n",
    ")"
   ]
  },
  {
   "cell_type": "code",
   "execution_count": 751,
   "metadata": {},
   "outputs": [
    {
     "data": {
      "text/html": [
       "<div><style>\n",
       ".dataframe > thead > tr,\n",
       ".dataframe > tbody > tr {\n",
       "  text-align: right;\n",
       "  white-space: pre-wrap;\n",
       "}\n",
       "</style>\n",
       "<small>shape: (5, 6)</small><table border=\"1\" class=\"dataframe\"><thead><tr><th>Nazwa</th><th>logK HSA</th><th>logKCTAB</th><th>CATS3D_00_DD</th><th>CATS3D_09_AL</th><th>CATS3D_00_AA</th></tr><tr><td>str</td><td>f64</td><td>f64</td><td>i64</td><td>i64</td><td>i64</td></tr></thead><tbody><tr><td>&quot;metronidazole&quot;</td><td>-1.25</td><td>-0.97</td><td>2</td><td>0</td><td>6</td></tr><tr><td>&quot;zidovudine&quot;</td><td>-1.25</td><td>-0.43</td><td>3</td><td>0</td><td>7</td></tr><tr><td>&quot;acetaminophen&quot;</td><td>-0.79</td><td>-0.63</td><td>2</td><td>0</td><td>2</td></tr><tr><td>&quot;ranitidine&quot;</td><td>-0.68</td><td>-0.03</td><td>3</td><td>2</td><td>5</td></tr><tr><td>&quot;nizatidine&quot;</td><td>-0.6</td><td>-0.63</td><td>3</td><td>0</td><td>5</td></tr></tbody></table></div>"
      ],
      "text/plain": [
       "shape: (5, 6)\n",
       "┌───────────────┬──────────┬──────────┬──────────────┬──────────────┬──────────────┐\n",
       "│ Nazwa         ┆ logK HSA ┆ logKCTAB ┆ CATS3D_00_DD ┆ CATS3D_09_AL ┆ CATS3D_00_AA │\n",
       "│ ---           ┆ ---      ┆ ---      ┆ ---          ┆ ---          ┆ ---          │\n",
       "│ str           ┆ f64      ┆ f64      ┆ i64          ┆ i64          ┆ i64          │\n",
       "╞═══════════════╪══════════╪══════════╪══════════════╪══════════════╪══════════════╡\n",
       "│ metronidazole ┆ -1.25    ┆ -0.97    ┆ 2            ┆ 0            ┆ 6            │\n",
       "│ zidovudine    ┆ -1.25    ┆ -0.43    ┆ 3            ┆ 0            ┆ 7            │\n",
       "│ acetaminophen ┆ -0.79    ┆ -0.63    ┆ 2            ┆ 0            ┆ 2            │\n",
       "│ ranitidine    ┆ -0.68    ┆ -0.03    ┆ 3            ┆ 2            ┆ 5            │\n",
       "│ nizatidine    ┆ -0.6     ┆ -0.63    ┆ 3            ┆ 0            ┆ 5            │\n",
       "└───────────────┴──────────┴──────────┴──────────────┴──────────────┴──────────────┘"
      ]
     },
     "execution_count": 751,
     "metadata": {},
     "output_type": "execute_result"
    }
   ],
   "source": [
    "dane_leki_trening.head()"
   ]
  },
  {
   "cell_type": "code",
   "execution_count": 752,
   "metadata": {},
   "outputs": [],
   "source": [
    "X_walidacja = dane_leki_walidacja.select(\n",
    "    pl.exclude([\"Nazwa\", \"logK HSA\"])\n",
    ")"
   ]
  },
  {
   "cell_type": "code",
   "execution_count": 753,
   "metadata": {},
   "outputs": [
    {
     "data": {
      "text/html": [
       "<div><style>\n",
       ".dataframe > thead > tr,\n",
       ".dataframe > tbody > tr {\n",
       "  text-align: right;\n",
       "  white-space: pre-wrap;\n",
       "}\n",
       "</style>\n",
       "<small>shape: (9, 4)</small><table border=\"1\" class=\"dataframe\"><thead><tr><th>logKCTAB</th><th>CATS3D_00_DD</th><th>CATS3D_09_AL</th><th>CATS3D_00_AA</th></tr><tr><td>f64</td><td>i64</td><td>i64</td><td>i64</td></tr></thead><tbody><tr><td>-0.11</td><td>3</td><td>0</td><td>6</td></tr><tr><td>0.01</td><td>4</td><td>1</td><td>5</td></tr><tr><td>0.26</td><td>2</td><td>0</td><td>1</td></tr><tr><td>0.46</td><td>0</td><td>0</td><td>2</td></tr><tr><td>0.47</td><td>1</td><td>2</td><td>4</td></tr><tr><td>0.68</td><td>0</td><td>0</td><td>3</td></tr><tr><td>1.5</td><td>0</td><td>0</td><td>2</td></tr><tr><td>1.98</td><td>0</td><td>1</td><td>3</td></tr><tr><td>1.45</td><td>1</td><td>3</td><td>2</td></tr></tbody></table></div>"
      ],
      "text/plain": [
       "shape: (9, 4)\n",
       "┌──────────┬──────────────┬──────────────┬──────────────┐\n",
       "│ logKCTAB ┆ CATS3D_00_DD ┆ CATS3D_09_AL ┆ CATS3D_00_AA │\n",
       "│ ---      ┆ ---          ┆ ---          ┆ ---          │\n",
       "│ f64      ┆ i64          ┆ i64          ┆ i64          │\n",
       "╞══════════╪══════════════╪══════════════╪══════════════╡\n",
       "│ -0.11    ┆ 3            ┆ 0            ┆ 6            │\n",
       "│ 0.01     ┆ 4            ┆ 1            ┆ 5            │\n",
       "│ 0.26     ┆ 2            ┆ 0            ┆ 1            │\n",
       "│ 0.46     ┆ 0            ┆ 0            ┆ 2            │\n",
       "│ 0.47     ┆ 1            ┆ 2            ┆ 4            │\n",
       "│ 0.68     ┆ 0            ┆ 0            ┆ 3            │\n",
       "│ 1.5      ┆ 0            ┆ 0            ┆ 2            │\n",
       "│ 1.98     ┆ 0            ┆ 1            ┆ 3            │\n",
       "│ 1.45     ┆ 1            ┆ 3            ┆ 2            │\n",
       "└──────────┴──────────────┴──────────────┴──────────────┘"
      ]
     },
     "execution_count": 753,
     "metadata": {},
     "output_type": "execute_result"
    }
   ],
   "source": [
    "X_walidacja"
   ]
  },
  {
   "cell_type": "code",
   "execution_count": 754,
   "metadata": {},
   "outputs": [],
   "source": [
    "Y_walidacja = dane_leki_walidacja.select(\n",
    "    pl.col(\"logK HSA\")\n",
    ")"
   ]
  },
  {
   "cell_type": "code",
   "execution_count": 755,
   "metadata": {},
   "outputs": [
    {
     "data": {
      "text/html": [
       "<div><style>\n",
       ".dataframe > thead > tr,\n",
       ".dataframe > tbody > tr {\n",
       "  text-align: right;\n",
       "  white-space: pre-wrap;\n",
       "}\n",
       "</style>\n",
       "<small>shape: (9, 1)</small><table border=\"1\" class=\"dataframe\"><thead><tr><th>logK HSA</th></tr><tr><td>f64</td></tr></thead><tbody><tr><td>-1.25</td></tr><tr><td>-0.77</td></tr><tr><td>-0.42</td></tr><tr><td>0.08</td></tr><tr><td>0.2</td></tr><tr><td>0.69</td></tr><tr><td>1.18</td></tr><tr><td>1.69</td></tr><tr><td>2.05</td></tr></tbody></table></div>"
      ],
      "text/plain": [
       "shape: (9, 1)\n",
       "┌──────────┐\n",
       "│ logK HSA │\n",
       "│ ---      │\n",
       "│ f64      │\n",
       "╞══════════╡\n",
       "│ -1.25    │\n",
       "│ -0.77    │\n",
       "│ -0.42    │\n",
       "│ 0.08     │\n",
       "│ 0.2      │\n",
       "│ 0.69     │\n",
       "│ 1.18     │\n",
       "│ 1.69     │\n",
       "│ 2.05     │\n",
       "└──────────┘"
      ]
     },
     "execution_count": 755,
     "metadata": {},
     "output_type": "execute_result"
    }
   ],
   "source": [
    "Y_walidacja"
   ]
  },
  {
   "cell_type": "code",
   "execution_count": 756,
   "metadata": {},
   "outputs": [],
   "source": [
    "X_trening = dane_leki_trening.select(\n",
    "    pl.exclude([\"Nazwa\", \"logK HSA\"])\n",
    ")"
   ]
  },
  {
   "cell_type": "code",
   "execution_count": 757,
   "metadata": {},
   "outputs": [
    {
     "data": {
      "text/html": [
       "<div><style>\n",
       ".dataframe > thead > tr,\n",
       ".dataframe > tbody > tr {\n",
       "  text-align: right;\n",
       "  white-space: pre-wrap;\n",
       "}\n",
       "</style>\n",
       "<small>shape: (18, 4)</small><table border=\"1\" class=\"dataframe\"><thead><tr><th>logKCTAB</th><th>CATS3D_00_DD</th><th>CATS3D_09_AL</th><th>CATS3D_00_AA</th></tr><tr><td>f64</td><td>i64</td><td>i64</td><td>i64</td></tr></thead><tbody><tr><td>-0.97</td><td>2</td><td>0</td><td>6</td></tr><tr><td>-0.43</td><td>3</td><td>0</td><td>7</td></tr><tr><td>-0.63</td><td>2</td><td>0</td><td>2</td></tr><tr><td>-0.03</td><td>3</td><td>2</td><td>5</td></tr><tr><td>-0.63</td><td>3</td><td>0</td><td>5</td></tr><tr><td>&hellip;</td><td>&hellip;</td><td>&hellip;</td><td>&hellip;</td></tr><tr><td>0.73</td><td>1</td><td>0</td><td>1</td></tr><tr><td>1.25</td><td>1</td><td>3</td><td>3</td></tr><tr><td>1.63</td><td>1</td><td>4</td><td>5</td></tr><tr><td>0.73</td><td>0</td><td>5</td><td>2</td></tr><tr><td>1.04</td><td>0</td><td>6</td><td>6</td></tr></tbody></table></div>"
      ],
      "text/plain": [
       "shape: (18, 4)\n",
       "┌──────────┬──────────────┬──────────────┬──────────────┐\n",
       "│ logKCTAB ┆ CATS3D_00_DD ┆ CATS3D_09_AL ┆ CATS3D_00_AA │\n",
       "│ ---      ┆ ---          ┆ ---          ┆ ---          │\n",
       "│ f64      ┆ i64          ┆ i64          ┆ i64          │\n",
       "╞══════════╪══════════════╪══════════════╪══════════════╡\n",
       "│ -0.97    ┆ 2            ┆ 0            ┆ 6            │\n",
       "│ -0.43    ┆ 3            ┆ 0            ┆ 7            │\n",
       "│ -0.63    ┆ 2            ┆ 0            ┆ 2            │\n",
       "│ -0.03    ┆ 3            ┆ 2            ┆ 5            │\n",
       "│ -0.63    ┆ 3            ┆ 0            ┆ 5            │\n",
       "│ …        ┆ …            ┆ …            ┆ …            │\n",
       "│ 0.73     ┆ 1            ┆ 0            ┆ 1            │\n",
       "│ 1.25     ┆ 1            ┆ 3            ┆ 3            │\n",
       "│ 1.63     ┆ 1            ┆ 4            ┆ 5            │\n",
       "│ 0.73     ┆ 0            ┆ 5            ┆ 2            │\n",
       "│ 1.04     ┆ 0            ┆ 6            ┆ 6            │\n",
       "└──────────┴──────────────┴──────────────┴──────────────┘"
      ]
     },
     "execution_count": 757,
     "metadata": {},
     "output_type": "execute_result"
    }
   ],
   "source": [
    "X_trening"
   ]
  },
  {
   "cell_type": "code",
   "execution_count": 758,
   "metadata": {},
   "outputs": [],
   "source": [
    "Y_trening = dane_leki_trening.select(\n",
    "    pl.col(\"logK HSA\")\n",
    ")"
   ]
  },
  {
   "cell_type": "code",
   "execution_count": 759,
   "metadata": {},
   "outputs": [
    {
     "data": {
      "text/html": [
       "<div><style>\n",
       ".dataframe > thead > tr,\n",
       ".dataframe > tbody > tr {\n",
       "  text-align: right;\n",
       "  white-space: pre-wrap;\n",
       "}\n",
       "</style>\n",
       "<small>shape: (18, 1)</small><table border=\"1\" class=\"dataframe\"><thead><tr><th>logK HSA</th></tr><tr><td>f64</td></tr></thead><tbody><tr><td>-1.25</td></tr><tr><td>-1.25</td></tr><tr><td>-0.79</td></tr><tr><td>-0.68</td></tr><tr><td>-0.6</td></tr><tr><td>&hellip;</td></tr><tr><td>1.39</td></tr><tr><td>1.42</td></tr><tr><td>1.82</td></tr><tr><td>1.84</td></tr><tr><td>2.29</td></tr></tbody></table></div>"
      ],
      "text/plain": [
       "shape: (18, 1)\n",
       "┌──────────┐\n",
       "│ logK HSA │\n",
       "│ ---      │\n",
       "│ f64      │\n",
       "╞══════════╡\n",
       "│ -1.25    │\n",
       "│ -1.25    │\n",
       "│ -0.79    │\n",
       "│ -0.68    │\n",
       "│ -0.6     │\n",
       "│ …        │\n",
       "│ 1.39     │\n",
       "│ 1.42     │\n",
       "│ 1.82     │\n",
       "│ 1.84     │\n",
       "│ 2.29     │\n",
       "└──────────┘"
      ]
     },
     "execution_count": 759,
     "metadata": {},
     "output_type": "execute_result"
    }
   ],
   "source": [
    "Y_trening"
   ]
  },
  {
   "cell_type": "code",
   "execution_count": 760,
   "metadata": {},
   "outputs": [],
   "source": [
    "corr_matrix = X.select(\n",
    "    pl.exclude(\"Nazwa\")\n",
    ").corr()"
   ]
  },
  {
   "cell_type": "code",
   "execution_count": 761,
   "metadata": {},
   "outputs": [
    {
     "data": {
      "text/html": [
       "<div><style>\n",
       ".dataframe > thead > tr,\n",
       ".dataframe > tbody > tr {\n",
       "  text-align: right;\n",
       "  white-space: pre-wrap;\n",
       "}\n",
       "</style>\n",
       "<small>shape: (4, 4)</small><table border=\"1\" class=\"dataframe\"><thead><tr><th>logKCTAB</th><th>CATS3D_00_DD</th><th>CATS3D_09_AL</th><th>CATS3D_00_AA</th></tr><tr><td>f64</td><td>f64</td><td>f64</td><td>f64</td></tr></thead><tbody><tr><td>1.0</td><td>-0.633481</td><td>0.446144</td><td>-0.135951</td></tr><tr><td>-0.633481</td><td>1.0</td><td>-0.291248</td><td>0.290864</td></tr><tr><td>0.446144</td><td>-0.291248</td><td>1.0</td><td>0.326375</td></tr><tr><td>-0.135951</td><td>0.290864</td><td>0.326375</td><td>1.0</td></tr></tbody></table></div>"
      ],
      "text/plain": [
       "shape: (4, 4)\n",
       "┌───────────┬──────────────┬──────────────┬──────────────┐\n",
       "│ logKCTAB  ┆ CATS3D_00_DD ┆ CATS3D_09_AL ┆ CATS3D_00_AA │\n",
       "│ ---       ┆ ---          ┆ ---          ┆ ---          │\n",
       "│ f64       ┆ f64          ┆ f64          ┆ f64          │\n",
       "╞═══════════╪══════════════╪══════════════╪══════════════╡\n",
       "│ 1.0       ┆ -0.633481    ┆ 0.446144     ┆ -0.135951    │\n",
       "│ -0.633481 ┆ 1.0          ┆ -0.291248    ┆ 0.290864     │\n",
       "│ 0.446144  ┆ -0.291248    ┆ 1.0          ┆ 0.326375     │\n",
       "│ -0.135951 ┆ 0.290864     ┆ 0.326375     ┆ 1.0          │\n",
       "└───────────┴──────────────┴──────────────┴──────────────┘"
      ]
     },
     "execution_count": 761,
     "metadata": {},
     "output_type": "execute_result"
    }
   ],
   "source": [
    "corr_matrix"
   ]
  },
  {
   "cell_type": "code",
   "execution_count": 762,
   "metadata": {},
   "outputs": [],
   "source": [
    "linear_model = LinearRegression().fit(X_trening, Y_trening)"
   ]
  },
  {
   "cell_type": "code",
   "execution_count": 763,
   "metadata": {},
   "outputs": [
    {
     "data": {
      "text/plain": [
       "array([[ 0.45125181, -0.2136974 ,  0.27745752, -0.20945068]])"
      ]
     },
     "execution_count": 763,
     "metadata": {},
     "output_type": "execute_result"
    }
   ],
   "source": [
    "linear_model.coef_"
   ]
  },
  {
   "cell_type": "code",
   "execution_count": 764,
   "metadata": {},
   "outputs": [
    {
     "data": {
      "text/plain": [
       "array([0.85188562])"
      ]
     },
     "execution_count": 764,
     "metadata": {},
     "output_type": "execute_result"
    }
   ],
   "source": [
    "linear_model.intercept_"
   ]
  },
  {
   "cell_type": "code",
   "execution_count": 765,
   "metadata": {},
   "outputs": [],
   "source": [
    "pred_Y_trening = pl.Series(linear_model.predict(X_trening).reshape(-1))\n",
    "pred_Y_walidacja = pl.Series(linear_model.predict(X_walidacja).reshape(-1))"
   ]
  },
  {
   "cell_type": "markdown",
   "metadata": {},
   "source": [
    "# Rownanie modelu\n",
    "\n",
    "$y \\approx 0.451x_0 - 0.214x_1 + 0.277x_2 - 0.209x_3 + 0.852$"
   ]
  },
  {
   "cell_type": "code",
   "execution_count": 766,
   "metadata": {},
   "outputs": [
    {
     "data": {
      "text/plain": [
       "<matplotlib.legend.Legend at 0x7999f6b47a40>"
      ]
     },
     "execution_count": 766,
     "metadata": {},
     "output_type": "execute_result"
    },
    {
     "data": {
      "image/png": "[encoded data removed]",
      "text/plain": [
       "<Figure size 640x480 with 1 Axes>"
      ]
     },
     "metadata": {},
     "output_type": "display_data"
    }
   ],
   "source": [
    "plt.plot(range(X_trening.shape[0]), pred_Y_trening, label=\"y_trening\")\n",
    "plt.plot(range(X_trening.shape[0], X_trening.shape[0] + X_walidacja.shape[0]),pred_Y_walidacja, label=\"y_walidacja\")\n",
    "plt.scatter(range(Y_trening.shape[0]), Y_trening, label=\"y_trening\")\n",
    "plt.scatter(range(Y_trening.shape[0], Y_trening.shape[0] + Y_walidacja.shape[0]), Y_walidacja, label=\"y_walidacja\")\n",
    "plt.legend()"
   ]
  },
  {
   "cell_type": "code",
   "execution_count": 767,
   "metadata": {},
   "outputs": [
    {
     "data": {
      "text/plain": [
       "<matplotlib.legend.Legend at 0x7999f6c51520>"
      ]
     },
     "execution_count": 767,
     "metadata": {},
     "output_type": "execute_result"
    },
    {
     "data": {
      "image/png": "[encoded data removed]",
      "text/plain": [
       "<Figure size 640x480 with 1 Axes>"
      ]
     },
     "metadata": {},
     "output_type": "display_data"
    }
   ],
   "source": [
    "plt.scatter(pred_Y_trening, Y_trening, label=\"trening\")\n",
    "plt.scatter(pred_Y_walidacja, Y_walidacja, label=\"walidacja\")\n",
    "plt.legend()"
   ]
  },
  {
   "cell_type": "code",
   "execution_count": 768,
   "metadata": {},
   "outputs": [],
   "source": [
    "h_i_trening = pl.Series(\n",
    "    dot(\n",
    "\n",
    "        dot(\n",
    "\n",
    "            pl.Series(X_trening.cast(pl.Float64).row(i)).reshape((1,-1)), \n",
    "            inv(\n",
    "                dot(\n",
    "\n",
    "                    X_trening.cast(pl.Float64).transpose(), \n",
    "                    X_trening.cast(pl.Float64)\n",
    "                    \n",
    "                )\n",
    "            )\n",
    "\n",
    "        ),\n",
    "        pl.Series(X_trening.cast(pl.Float64).row(i))\n",
    "\n",
    "    )[0] for i in range(X_trening.shape[0])\n",
    ")"
   ]
  },
  {
   "cell_type": "code",
   "execution_count": 769,
   "metadata": {},
   "outputs": [
    {
     "data": {
      "text/html": [
       "<div><style>\n",
       ".dataframe > thead > tr,\n",
       ".dataframe > tbody > tr {\n",
       "  text-align: right;\n",
       "  white-space: pre-wrap;\n",
       "}\n",
       "</style>\n",
       "<small>shape: (5,)</small><table border=\"1\" class=\"dataframe\"><thead><tr><th></th></tr><tr><td>f64</td></tr></thead><tbody><tr><td>0.35783</td></tr><tr><td>0.2829</td></tr><tr><td>0.123176</td></tr><tr><td>0.225355</td></tr><tr><td>0.220787</td></tr></tbody></table></div>"
      ],
      "text/plain": [
       "shape: (5,)\n",
       "Series: '' [f64]\n",
       "[\n",
       "\t0.35783\n",
       "\t0.2829\n",
       "\t0.123176\n",
       "\t0.225355\n",
       "\t0.220787\n",
       "]"
      ]
     },
     "execution_count": 769,
     "metadata": {},
     "output_type": "execute_result"
    }
   ],
   "source": [
    "h_i_trening.head(5)"
   ]
  },
  {
   "cell_type": "code",
   "execution_count": 770,
   "metadata": {},
   "outputs": [],
   "source": [
    "h_i_walidacja = pl.Series(\n",
    "    dot(\n",
    "\n",
    "        dot(\n",
    "\n",
    "            pl.Series(X_walidacja.cast(pl.Float64).row(i)).reshape((1,-1)), \n",
    "            inv(\n",
    "                dot(\n",
    "\n",
    "                    X_walidacja.cast(pl.Float64).transpose(), \n",
    "                    X_walidacja.cast(pl.Float64)\n",
    "                    \n",
    "                )\n",
    "            )\n",
    "\n",
    "        ),\n",
    "        pl.Series(X_walidacja.cast(pl.Float64).row(i))\n",
    "\n",
    "    )[0] for i in range(X_walidacja.shape[0])\n",
    ")"
   ]
  },
  {
   "cell_type": "code",
   "execution_count": 771,
   "metadata": {},
   "outputs": [
    {
     "data": {
      "text/html": [
       "<div><style>\n",
       ".dataframe > thead > tr,\n",
       ".dataframe > tbody > tr {\n",
       "  text-align: right;\n",
       "  white-space: pre-wrap;\n",
       "}\n",
       "</style>\n",
       "<small>shape: (5,)</small><table border=\"1\" class=\"dataframe\"><thead><tr><th></th></tr><tr><td>f64</td></tr></thead><tbody><tr><td>0.535272</td></tr><tr><td>0.538528</td></tr><tr><td>0.430942</td></tr><tr><td>0.119237</td></tr><tr><td>0.534493</td></tr></tbody></table></div>"
      ],
      "text/plain": [
       "shape: (5,)\n",
       "Series: '' [f64]\n",
       "[\n",
       "\t0.535272\n",
       "\t0.538528\n",
       "\t0.430942\n",
       "\t0.119237\n",
       "\t0.534493\n",
       "]"
      ]
     },
     "execution_count": 771,
     "metadata": {},
     "output_type": "execute_result"
    }
   ],
   "source": [
    "h_i_walidacja.head(5)"
   ]
  },
  {
   "cell_type": "code",
   "execution_count": 772,
   "metadata": {},
   "outputs": [],
   "source": [
    "h_star = 3*(X_trening.shape[1]) / X_trening.shape[0]"
   ]
  },
  {
   "cell_type": "code",
   "execution_count": 773,
   "metadata": {},
   "outputs": [],
   "source": [
    "trening_residuals = Y_trening - pred_Y_trening\n",
    "stan_trening_residuals = trening_residuals.select((pl.col(\"logK HSA\") - trening_residuals.mean()) / trening_residuals.std())\n",
    "\n",
    "walidacja_residuals = Y_walidacja - pred_Y_walidacja\n",
    "stan_walidacja_residuals = walidacja_residuals.select((pl.col(\"logK HSA\") - walidacja_residuals.mean()) / walidacja_residuals.std())"
   ]
  },
  {
   "cell_type": "code",
   "execution_count": 774,
   "metadata": {},
   "outputs": [
    {
     "data": {
      "text/plain": [
       "<matplotlib.legend.Legend at 0x7999f6bf3800>"
      ]
     },
     "execution_count": 774,
     "metadata": {},
     "output_type": "execute_result"
    },
    {
     "data": {
      "image/png": "[encoded data removed]",
      "text/plain": [
       "<Figure size 640x480 with 1 Axes>"
      ]
     },
     "metadata": {},
     "output_type": "display_data"
    }
   ],
   "source": [
    "plt.scatter(h_i_trening, stan_trening_residuals, label=\"trening\")\n",
    "plt.scatter(h_i_walidacja, stan_walidacja_residuals, label=\"walidacja\")\n",
    "plt.axvline(h_star, linestyle=\"dashed\", color=\"grey\")\n",
    "plt.axhline(-3, color='grey')\n",
    "plt.axhline(3, color='grey')\n",
    "plt.grid()\n",
    "plt.ylim(-3.5,3.5)\n",
    "plt.xlabel(\"Współczynniki dźwigni\")\n",
    "plt.ylabel(\"Ustandaryzowane rezydua\")\n",
    "plt.legend()"
   ]
  },
  {
   "cell_type": "code",
   "execution_count": 775,
   "metadata": {},
   "outputs": [
    {
     "data": {
      "text/plain": [
       "0.8562732590669642"
      ]
     },
     "execution_count": 775,
     "metadata": {},
     "output_type": "execute_result"
    }
   ],
   "source": [
    "R2(pred_Y_trening, Y_trening)"
   ]
  },
  {
   "cell_type": "code",
   "execution_count": 776,
   "metadata": {},
   "outputs": [
    {
     "data": {
      "text/plain": [
       "0.4029198016674715"
      ]
     },
     "execution_count": 776,
     "metadata": {},
     "output_type": "execute_result"
    }
   ],
   "source": [
    "RMSE(pred_Y_trening, Y_trening)"
   ]
  },
  {
   "cell_type": "code",
   "execution_count": 777,
   "metadata": {},
   "outputs": [
    {
     "data": {
      "text/plain": [
       "0.37641626993934013"
      ]
     },
     "execution_count": 777,
     "metadata": {},
     "output_type": "execute_result"
    }
   ],
   "source": [
    "RMSE(pred_Y_walidacja, Y_walidacja)"
   ]
  },
  {
   "cell_type": "code",
   "execution_count": 778,
   "metadata": {},
   "outputs": [],
   "source": [
    "pred_Y_cv = pl.Series([LinearRegression()\n",
    "    .fit(\n",
    "        X_trening.with_row_index().filter(pl.col('index') != i).drop('index'),\n",
    "        Y_trening.with_row_index().filter(pl.col('index') != i).drop('index')\n",
    "    )\n",
    "    .predict(\n",
    "        X_trening.with_row_index().filter(pl.col('index') == i).drop('index')\n",
    "    )[0][0] for i in range(X_trening.shape[0])] \n",
    "    )"
   ]
  },
  {
   "cell_type": "code",
   "execution_count": 779,
   "metadata": {},
   "outputs": [
    {
     "data": {
      "text/plain": [
       "0.7305877976674158"
      ]
     },
     "execution_count": 779,
     "metadata": {},
     "output_type": "execute_result"
    }
   ],
   "source": [
    "Q2(pred_Y_cv, Y_trening)"
   ]
  },
  {
   "cell_type": "code",
   "execution_count": 780,
   "metadata": {},
   "outputs": [
    {
     "data": {
      "text/plain": [
       "0.5516434343858085"
      ]
     },
     "execution_count": 780,
     "metadata": {},
     "output_type": "execute_result"
    }
   ],
   "source": [
    "RMSE(pred_Y_cv, Y_trening)"
   ]
  },
  {
   "cell_type": "code",
   "execution_count": 781,
   "metadata": {},
   "outputs": [],
   "source": [
    "ex_model = LinearRegression().fit(X_trening, Y_trening)"
   ]
  },
  {
   "cell_type": "code",
   "execution_count": 782,
   "metadata": {},
   "outputs": [],
   "source": [
    "pred_Y_ex = pl.Series(ex_model.predict(X_walidacja).reshape(-1))"
   ]
  },
  {
   "cell_type": "code",
   "execution_count": 783,
   "metadata": {},
   "outputs": [
    {
     "data": {
      "text/plain": [
       "0.872259999752032"
      ]
     },
     "execution_count": 783,
     "metadata": {},
     "output_type": "execute_result"
    }
   ],
   "source": [
    "Q2(pred_Y_ex, Y_walidacja)"
   ]
  },
  {
   "cell_type": "code",
   "execution_count": 784,
   "metadata": {},
   "outputs": [
    {
     "data": {
      "text/plain": [
       "0.37641626993934013"
      ]
     },
     "execution_count": 784,
     "metadata": {},
     "output_type": "execute_result"
    }
   ],
   "source": [
    "RMSE(pred_Y_ex, Y_walidacja)"
   ]
  },
  {
   "cell_type": "code",
   "execution_count": 785,
   "metadata": {},
   "outputs": [
    {
     "data": {
      "text/plain": [
       "4.555848089640533"
      ]
     },
     "execution_count": 785,
     "metadata": {},
     "output_type": "execute_result"
    }
   ],
   "source": [
    "F(pred_Y_trening, Y_trening, 4)"
   ]
  }
 ],
 "metadata": {
  "kernelspec": {
   "display_name": ".venv",
   "language": "python",
   "name": "python3"
  },
  "language_info": {
   "codemirror_mode": {
    "name": "ipython",
    "version": 3
   },
   "file_extension": ".py",
   "mimetype": "text/x-python",
   "name": "python",
   "nbconvert_exporter": "python",
   "pygments_lexer": "ipython3",
   "version": "3.12.7"
  }
 },
 "nbformat": 4,
 "nbformat_minor": 2
}
