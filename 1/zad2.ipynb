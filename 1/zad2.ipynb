{
 "cells": [
  {
   "cell_type": "code",
   "execution_count": 28,
   "metadata": {},
   "outputs": [],
   "source": [
    "import pandas as pd\n",
    "from sklearn.linear_model import LinearRegression\n",
    "import matplotlib.pyplot as plt"
   ]
  },
  {
   "cell_type": "code",
   "execution_count": 2,
   "metadata": {},
   "outputs": [],
   "source": [
    "dane_leki = pd.read_excel('dane_leki.xlsx', index_col=1).iloc[:,1:]"
   ]
  },
  {
   "cell_type": "code",
   "execution_count": 3,
   "metadata": {},
   "outputs": [
    {
     "data": {
      "text/html": [
       "<div>\n",
       "<style scoped>\n",
       "    .dataframe tbody tr th:only-of-type {\n",
       "        vertical-align: middle;\n",
       "    }\n",
       "\n",
       "    .dataframe tbody tr th {\n",
       "        vertical-align: top;\n",
       "    }\n",
       "\n",
       "    .dataframe thead th {\n",
       "        text-align: right;\n",
       "    }\n",
       "</style>\n",
       "<table border=\"1\" class=\"dataframe\">\n",
       "  <thead>\n",
       "    <tr style=\"text-align: right;\">\n",
       "      <th></th>\n",
       "      <th>logK HSA</th>\n",
       "      <th>logKCTAB</th>\n",
       "      <th>CATS3D_00_DD</th>\n",
       "      <th>CATS3D_09_AL</th>\n",
       "      <th>CATS3D_00_AA</th>\n",
       "      <th>Zbiór</th>\n",
       "    </tr>\n",
       "    <tr>\n",
       "      <th>Nazwa</th>\n",
       "      <th></th>\n",
       "      <th></th>\n",
       "      <th></th>\n",
       "      <th></th>\n",
       "      <th></th>\n",
       "      <th></th>\n",
       "    </tr>\n",
       "  </thead>\n",
       "  <tbody>\n",
       "    <tr>\n",
       "      <th>acetaminophen</th>\n",
       "      <td>-0.79</td>\n",
       "      <td>-0.63</td>\n",
       "      <td>2</td>\n",
       "      <td>0</td>\n",
       "      <td>2</td>\n",
       "      <td>t</td>\n",
       "    </tr>\n",
       "    <tr>\n",
       "      <th>acetylsalicylic acid</th>\n",
       "      <td>-0.23</td>\n",
       "      <td>1.22</td>\n",
       "      <td>1</td>\n",
       "      <td>0</td>\n",
       "      <td>4</td>\n",
       "      <td>t</td>\n",
       "    </tr>\n",
       "    <tr>\n",
       "      <th>bromazepam</th>\n",
       "      <td>0.38</td>\n",
       "      <td>0.57</td>\n",
       "      <td>1</td>\n",
       "      <td>0</td>\n",
       "      <td>3</td>\n",
       "      <td>t</td>\n",
       "    </tr>\n",
       "    <tr>\n",
       "      <th>carbamazepine</th>\n",
       "      <td>0.69</td>\n",
       "      <td>0.68</td>\n",
       "      <td>0</td>\n",
       "      <td>0</td>\n",
       "      <td>3</td>\n",
       "      <td>t</td>\n",
       "    </tr>\n",
       "    <tr>\n",
       "      <th>chlorpromazine</th>\n",
       "      <td>1.18</td>\n",
       "      <td>1.50</td>\n",
       "      <td>0</td>\n",
       "      <td>0</td>\n",
       "      <td>2</td>\n",
       "      <td>t</td>\n",
       "    </tr>\n",
       "  </tbody>\n",
       "</table>\n",
       "</div>"
      ],
      "text/plain": [
       "                      logK HSA  logKCTAB  CATS3D_00_DD  CATS3D_09_AL  \\\n",
       "Nazwa                                                                  \n",
       "acetaminophen            -0.79     -0.63             2             0   \n",
       "acetylsalicylic acid     -0.23      1.22             1             0   \n",
       "bromazepam                0.38      0.57             1             0   \n",
       "carbamazepine             0.69      0.68             0             0   \n",
       "chlorpromazine            1.18      1.50             0             0   \n",
       "\n",
       "                      CATS3D_00_AA Zbiór  \n",
       "Nazwa                                     \n",
       "acetaminophen                    2     t  \n",
       "acetylsalicylic acid             4     t  \n",
       "bromazepam                       3     t  \n",
       "carbamazepine                    3     t  \n",
       "chlorpromazine                   2     t  "
      ]
     },
     "execution_count": 3,
     "metadata": {},
     "output_type": "execute_result"
    }
   ],
   "source": [
    "dane_leki.head()"
   ]
  },
  {
   "cell_type": "code",
   "execution_count": 4,
   "metadata": {},
   "outputs": [],
   "source": [
    "Y, X = dane_leki.iloc[:, 1], dane_leki.iloc[:, 1:-1]"
   ]
  },
  {
   "cell_type": "code",
   "execution_count": 17,
   "metadata": {},
   "outputs": [],
   "source": [
    "Y_trening, Y_walidacja = dane_leki.where(dane_leki['Zbiór'] == 't').dropna().iloc[:,0], dane_leki.where(dane_leki['Zbiór'] == 'w').dropna().iloc[:,0]"
   ]
  },
  {
   "cell_type": "code",
   "execution_count": 18,
   "metadata": {},
   "outputs": [
    {
     "data": {
      "text/plain": [
       "Nazwa\n",
       "acetaminophen          -0.79\n",
       "acetylsalicylic acid   -0.23\n",
       "bromazepam              0.38\n",
       "carbamazepine           0.69\n",
       "chlorpromazine          1.18\n",
       "Name: logK HSA, dtype: float64"
      ]
     },
     "execution_count": 18,
     "metadata": {},
     "output_type": "execute_result"
    }
   ],
   "source": [
    "Y_trening.head()"
   ]
  },
  {
   "cell_type": "code",
   "execution_count": 19,
   "metadata": {},
   "outputs": [
    {
     "data": {
      "text/plain": [
       "Nazwa\n",
       "acyclovir      -1.25\n",
       "diclofenac      1.69\n",
       "famotidine     -0.77\n",
       "ibuprofen       1.84\n",
       "indomethacin    1.82\n",
       "Name: logK HSA, dtype: float64"
      ]
     },
     "execution_count": 19,
     "metadata": {},
     "output_type": "execute_result"
    }
   ],
   "source": [
    "Y_walidacja.head()"
   ]
  },
  {
   "cell_type": "code",
   "execution_count": 20,
   "metadata": {},
   "outputs": [],
   "source": [
    "X_trening, X_walidacja = dane_leki.where(dane_leki['Zbiór'] == 't').dropna().iloc[:,1:-1], dane_leki.where(dane_leki['Zbiór'] == 'w').dropna().iloc[:,1:-1]"
   ]
  },
  {
   "cell_type": "code",
   "execution_count": 21,
   "metadata": {},
   "outputs": [
    {
     "data": {
      "text/html": [
       "<div>\n",
       "<style scoped>\n",
       "    .dataframe tbody tr th:only-of-type {\n",
       "        vertical-align: middle;\n",
       "    }\n",
       "\n",
       "    .dataframe tbody tr th {\n",
       "        vertical-align: top;\n",
       "    }\n",
       "\n",
       "    .dataframe thead th {\n",
       "        text-align: right;\n",
       "    }\n",
       "</style>\n",
       "<table border=\"1\" class=\"dataframe\">\n",
       "  <thead>\n",
       "    <tr style=\"text-align: right;\">\n",
       "      <th></th>\n",
       "      <th>logKCTAB</th>\n",
       "      <th>CATS3D_00_DD</th>\n",
       "      <th>CATS3D_09_AL</th>\n",
       "      <th>CATS3D_00_AA</th>\n",
       "    </tr>\n",
       "    <tr>\n",
       "      <th>Nazwa</th>\n",
       "      <th></th>\n",
       "      <th></th>\n",
       "      <th></th>\n",
       "      <th></th>\n",
       "    </tr>\n",
       "  </thead>\n",
       "  <tbody>\n",
       "    <tr>\n",
       "      <th>acetaminophen</th>\n",
       "      <td>-0.63</td>\n",
       "      <td>2.0</td>\n",
       "      <td>0.0</td>\n",
       "      <td>2.0</td>\n",
       "    </tr>\n",
       "    <tr>\n",
       "      <th>acetylsalicylic acid</th>\n",
       "      <td>1.22</td>\n",
       "      <td>1.0</td>\n",
       "      <td>0.0</td>\n",
       "      <td>4.0</td>\n",
       "    </tr>\n",
       "    <tr>\n",
       "      <th>bromazepam</th>\n",
       "      <td>0.57</td>\n",
       "      <td>1.0</td>\n",
       "      <td>0.0</td>\n",
       "      <td>3.0</td>\n",
       "    </tr>\n",
       "    <tr>\n",
       "      <th>carbamazepine</th>\n",
       "      <td>0.68</td>\n",
       "      <td>0.0</td>\n",
       "      <td>0.0</td>\n",
       "      <td>3.0</td>\n",
       "    </tr>\n",
       "    <tr>\n",
       "      <th>chlorpromazine</th>\n",
       "      <td>1.50</td>\n",
       "      <td>0.0</td>\n",
       "      <td>0.0</td>\n",
       "      <td>2.0</td>\n",
       "    </tr>\n",
       "  </tbody>\n",
       "</table>\n",
       "</div>"
      ],
      "text/plain": [
       "                      logKCTAB  CATS3D_00_DD  CATS3D_09_AL  CATS3D_00_AA\n",
       "Nazwa                                                                   \n",
       "acetaminophen            -0.63           2.0           0.0           2.0\n",
       "acetylsalicylic acid      1.22           1.0           0.0           4.0\n",
       "bromazepam                0.57           1.0           0.0           3.0\n",
       "carbamazepine             0.68           0.0           0.0           3.0\n",
       "chlorpromazine            1.50           0.0           0.0           2.0"
      ]
     },
     "execution_count": 21,
     "metadata": {},
     "output_type": "execute_result"
    }
   ],
   "source": [
    "X_trening.head()"
   ]
  },
  {
   "cell_type": "code",
   "execution_count": 22,
   "metadata": {},
   "outputs": [
    {
     "data": {
      "text/html": [
       "<div>\n",
       "<style scoped>\n",
       "    .dataframe tbody tr th:only-of-type {\n",
       "        vertical-align: middle;\n",
       "    }\n",
       "\n",
       "    .dataframe tbody tr th {\n",
       "        vertical-align: top;\n",
       "    }\n",
       "\n",
       "    .dataframe thead th {\n",
       "        text-align: right;\n",
       "    }\n",
       "</style>\n",
       "<table border=\"1\" class=\"dataframe\">\n",
       "  <thead>\n",
       "    <tr style=\"text-align: right;\">\n",
       "      <th></th>\n",
       "      <th>logKCTAB</th>\n",
       "      <th>CATS3D_00_DD</th>\n",
       "      <th>CATS3D_09_AL</th>\n",
       "      <th>CATS3D_00_AA</th>\n",
       "    </tr>\n",
       "    <tr>\n",
       "      <th>Nazwa</th>\n",
       "      <th></th>\n",
       "      <th></th>\n",
       "      <th></th>\n",
       "      <th></th>\n",
       "    </tr>\n",
       "  </thead>\n",
       "  <tbody>\n",
       "    <tr>\n",
       "      <th>acyclovir</th>\n",
       "      <td>-0.11</td>\n",
       "      <td>3.0</td>\n",
       "      <td>0.0</td>\n",
       "      <td>6.0</td>\n",
       "    </tr>\n",
       "    <tr>\n",
       "      <th>diclofenac</th>\n",
       "      <td>1.98</td>\n",
       "      <td>0.0</td>\n",
       "      <td>1.0</td>\n",
       "      <td>3.0</td>\n",
       "    </tr>\n",
       "    <tr>\n",
       "      <th>famotidine</th>\n",
       "      <td>0.01</td>\n",
       "      <td>4.0</td>\n",
       "      <td>1.0</td>\n",
       "      <td>5.0</td>\n",
       "    </tr>\n",
       "    <tr>\n",
       "      <th>ibuprofen</th>\n",
       "      <td>0.73</td>\n",
       "      <td>0.0</td>\n",
       "      <td>5.0</td>\n",
       "      <td>2.0</td>\n",
       "    </tr>\n",
       "    <tr>\n",
       "      <th>indomethacin</th>\n",
       "      <td>1.63</td>\n",
       "      <td>1.0</td>\n",
       "      <td>4.0</td>\n",
       "      <td>5.0</td>\n",
       "    </tr>\n",
       "  </tbody>\n",
       "</table>\n",
       "</div>"
      ],
      "text/plain": [
       "              logKCTAB  CATS3D_00_DD  CATS3D_09_AL  CATS3D_00_AA\n",
       "Nazwa                                                           \n",
       "acyclovir        -0.11           3.0           0.0           6.0\n",
       "diclofenac        1.98           0.0           1.0           3.0\n",
       "famotidine        0.01           4.0           1.0           5.0\n",
       "ibuprofen         0.73           0.0           5.0           2.0\n",
       "indomethacin      1.63           1.0           4.0           5.0"
      ]
     },
     "execution_count": 22,
     "metadata": {},
     "output_type": "execute_result"
    }
   ],
   "source": [
    "X_walidacja.head()"
   ]
  },
  {
   "cell_type": "code",
   "execution_count": 23,
   "metadata": {},
   "outputs": [
    {
     "data": {
      "text/html": [
       "<div>\n",
       "<style scoped>\n",
       "    .dataframe tbody tr th:only-of-type {\n",
       "        vertical-align: middle;\n",
       "    }\n",
       "\n",
       "    .dataframe tbody tr th {\n",
       "        vertical-align: top;\n",
       "    }\n",
       "\n",
       "    .dataframe thead th {\n",
       "        text-align: right;\n",
       "    }\n",
       "</style>\n",
       "<table border=\"1\" class=\"dataframe\">\n",
       "  <thead>\n",
       "    <tr style=\"text-align: right;\">\n",
       "      <th></th>\n",
       "      <th>logKCTAB</th>\n",
       "      <th>CATS3D_00_DD</th>\n",
       "      <th>CATS3D_09_AL</th>\n",
       "      <th>CATS3D_00_AA</th>\n",
       "    </tr>\n",
       "  </thead>\n",
       "  <tbody>\n",
       "    <tr>\n",
       "      <th>logKCTAB</th>\n",
       "      <td>1.000000</td>\n",
       "      <td>-0.633481</td>\n",
       "      <td>0.446144</td>\n",
       "      <td>-0.135951</td>\n",
       "    </tr>\n",
       "    <tr>\n",
       "      <th>CATS3D_00_DD</th>\n",
       "      <td>-0.633481</td>\n",
       "      <td>1.000000</td>\n",
       "      <td>-0.291248</td>\n",
       "      <td>0.290864</td>\n",
       "    </tr>\n",
       "    <tr>\n",
       "      <th>CATS3D_09_AL</th>\n",
       "      <td>0.446144</td>\n",
       "      <td>-0.291248</td>\n",
       "      <td>1.000000</td>\n",
       "      <td>0.326375</td>\n",
       "    </tr>\n",
       "    <tr>\n",
       "      <th>CATS3D_00_AA</th>\n",
       "      <td>-0.135951</td>\n",
       "      <td>0.290864</td>\n",
       "      <td>0.326375</td>\n",
       "      <td>1.000000</td>\n",
       "    </tr>\n",
       "  </tbody>\n",
       "</table>\n",
       "</div>"
      ],
      "text/plain": [
       "              logKCTAB  CATS3D_00_DD  CATS3D_09_AL  CATS3D_00_AA\n",
       "logKCTAB      1.000000     -0.633481      0.446144     -0.135951\n",
       "CATS3D_00_DD -0.633481      1.000000     -0.291248      0.290864\n",
       "CATS3D_09_AL  0.446144     -0.291248      1.000000      0.326375\n",
       "CATS3D_00_AA -0.135951      0.290864      0.326375      1.000000"
      ]
     },
     "execution_count": 23,
     "metadata": {},
     "output_type": "execute_result"
    }
   ],
   "source": [
    "corr_matrix = X.corr()\n",
    "corr_matrix"
   ]
  },
  {
   "cell_type": "code",
   "execution_count": 24,
   "metadata": {},
   "outputs": [],
   "source": [
    "linear_model = LinearRegression().fit(X_trening, Y_trening)"
   ]
  },
  {
   "cell_type": "code",
   "execution_count": 25,
   "metadata": {},
   "outputs": [
    {
     "data": {
      "text/plain": [
       "array([ 0.47223989, -0.21607308,  0.32315214, -0.22529295])"
      ]
     },
     "execution_count": 25,
     "metadata": {},
     "output_type": "execute_result"
    }
   ],
   "source": [
    "linear_model.coef_"
   ]
  },
  {
   "cell_type": "markdown",
   "metadata": {},
   "source": [
    "# Rownanie modelu\n",
    "\n",
    "$y \\approx 0.472x_0 - 0.216x_1 + 0.323x_2 - 0.225x_3$"
   ]
  },
  {
   "cell_type": "code",
   "execution_count": 41,
   "metadata": {},
   "outputs": [
    {
     "data": {
      "text/plain": [
       "<matplotlib.legend.Legend at 0x72a601701760>"
      ]
     },
     "execution_count": 41,
     "metadata": {},
     "output_type": "execute_result"
    },
    {
     "data": {
      "image/png": "[encoded data removed]",
      "text/plain": [
       "<Figure size 640x480 with 1 Axes>"
      ]
     },
     "metadata": {},
     "output_type": "display_data"
    }
   ],
   "source": [
    "plt.plot(range(X_trening.shape[0]), linear_model.predict(X_trening), label=\"y_trening\")\n",
    "plt.plot(range(X_trening.shape[0], X_trening.shape[0] + X_walidacja.shape[0]),linear_model.predict(X_walidacja), label=\"y_walidacja\")\n",
    "plt.scatter(range(Y_trening.shape[0]), Y_trening, label=\"y_trening\")\n",
    "plt.scatter(range(Y_trening.shape[0] ,Y_trening.shape[0] + Y_walidacja.shape[0]), Y_walidacja, label=\"y_walidacja\")\n",
    "plt.legend()"
   ]
  },
  {
   "cell_type": "code",
   "execution_count": 44,
   "metadata": {},
   "outputs": [
    {
     "data": {
      "text/plain": [
       "<matplotlib.legend.Legend at 0x72a6018e66c0>"
      ]
     },
     "execution_count": 44,
     "metadata": {},
     "output_type": "execute_result"
    },
    {
     "data": {
      "image/png": "[encoded data removed]",
      "text/plain": [
       "<Figure size 640x480 with 1 Axes>"
      ]
     },
     "metadata": {},
     "output_type": "display_data"
    }
   ],
   "source": [
    "plt.scatter(linear_model.predict(X_trening), Y_trening, label=\"trening\")\n",
    "plt.scatter(linear_model.predict(X_walidacja), Y_walidacja, label=\"walidacja\")\n",
    "plt.legend()"
   ]
  },
  {
   "cell_type": "code",
   "execution_count": 26,
   "metadata": {},
   "outputs": [
    {
     "data": {
      "text/plain": [
       "0.942439776973401"
      ]
     },
     "execution_count": 26,
     "metadata": {},
     "output_type": "execute_result"
    }
   ],
   "source": [
    "linear_model.score(X_walidacja, Y_walidacja)"
   ]
  },
  {
   "cell_type": "code",
   "execution_count": null,
   "metadata": {},
   "outputs": [],
   "source": []
  }
 ],
 "metadata": {
  "kernelspec": {
   "display_name": "Python 3",
   "language": "python",
   "name": "python3"
  },
  "language_info": {
   "codemirror_mode": {
    "name": "ipython",
    "version": 3
   },
   "file_extension": ".py",
   "mimetype": "text/x-python",
   "name": "python",
   "nbconvert_exporter": "python",
   "pygments_lexer": "ipython3",
   "version": "3.12.7"
  }
 },
 "nbformat": 4,
 "nbformat_minor": 2
}
