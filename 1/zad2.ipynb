{
 "cells": [
  {
   "cell_type": "code",
   "execution_count": 49,
   "metadata": {},
   "outputs": [],
   "source": [
    "import polars as pl\n",
    "from sklearn.linear_model import LinearRegression\n",
    "import matplotlib.pyplot as plt\n",
    "from numpy.linalg import inv\n",
    "from numpy import sqrt, dot\n",
    "import seaborn as sns"
   ]
  },
  {
   "cell_type": "code",
   "execution_count": 50,
   "metadata": {},
   "outputs": [],
   "source": [
    "sns.set_theme()"
   ]
  },
  {
   "cell_type": "code",
   "execution_count": 51,
   "metadata": {},
   "outputs": [],
   "source": [
    "def R2(y_pred: pl.Series, y_obs: pl.DataFrame):\n",
    "    return 1 - ((y_pred - y_obs.to_series())**2).sum() / ((y_obs.to_series() - y_obs.to_series().mean())**2).sum()\n",
    "\n",
    "def Q2(y_hat: pl.Series, y_obs: pl.DataFrame):\n",
    "    return 1 - ((y_hat - y_obs.to_series())**2).sum() / ((y_obs.to_series() - y_obs.to_series().mean())**2).sum()\n",
    "\n",
    "def RMSE(y_hat: pl.Series, y_obs: pl.DataFrame):\n",
    "    return (((y_hat - y_obs.to_series())**2).sum()/y_obs.shape[0])**0.5\n",
    "\n",
    "def F(y_pred: pl.Series, y_obs: pl.DataFrame, descriptor_number: int):\n",
    "    return (((y_pred - y_pred.mean())**2).sum() / (y_pred.shape[0] - 1)) / (((y_obs.to_series() - y_pred)**2).sum() / (y_pred.shape[0] - descriptor_number - 1))"
   ]
  },
  {
   "cell_type": "code",
   "execution_count": 52,
   "metadata": {},
   "outputs": [],
   "source": [
    "dane_leki = pl.read_excel(\n",
    "                source=\"dane_leki.xlsx\",\n",
    "                columns=list(range(1,8))\n",
    ")"
   ]
  },
  {
   "cell_type": "code",
   "execution_count": 53,
   "metadata": {},
   "outputs": [
    {
     "data": {
      "text/html": [
       "<div><style>\n",
       ".dataframe > thead > tr,\n",
       ".dataframe > tbody > tr {\n",
       "  text-align: right;\n",
       "  white-space: pre-wrap;\n",
       "}\n",
       "</style>\n",
       "<small>shape: (5, 7)</small><table border=\"1\" class=\"dataframe\"><thead><tr><th>Nazwa</th><th>logK HSA</th><th>logKCTAB</th><th>CATS3D_00_DD</th><th>CATS3D_09_AL</th><th>CATS3D_00_AA</th><th>Zbiór</th></tr><tr><td>str</td><td>f64</td><td>f64</td><td>i64</td><td>i64</td><td>i64</td><td>str</td></tr></thead><tbody><tr><td>&quot;acetaminophen&quot;</td><td>-0.79</td><td>-0.63</td><td>2</td><td>0</td><td>2</td><td>&quot;t&quot;</td></tr><tr><td>&quot;acetylsalicylic acid&quot;</td><td>-0.23</td><td>1.22</td><td>1</td><td>0</td><td>4</td><td>&quot;t&quot;</td></tr><tr><td>&quot;bromazepam&quot;</td><td>0.38</td><td>0.57</td><td>1</td><td>0</td><td>3</td><td>&quot;t&quot;</td></tr><tr><td>&quot;carbamazepine&quot;</td><td>0.69</td><td>0.68</td><td>0</td><td>0</td><td>3</td><td>&quot;t&quot;</td></tr><tr><td>&quot;chlorpromazine&quot;</td><td>1.18</td><td>1.5</td><td>0</td><td>0</td><td>2</td><td>&quot;t&quot;</td></tr></tbody></table></div>"
      ],
      "text/plain": [
       "shape: (5, 7)\n",
       "┌──────────────────────┬──────────┬──────────┬──────────────┬──────────────┬──────────────┬───────┐\n",
       "│ Nazwa                ┆ logK HSA ┆ logKCTAB ┆ CATS3D_00_DD ┆ CATS3D_09_AL ┆ CATS3D_00_AA ┆ Zbiór │\n",
       "│ ---                  ┆ ---      ┆ ---      ┆ ---          ┆ ---          ┆ ---          ┆ ---   │\n",
       "│ str                  ┆ f64      ┆ f64      ┆ i64          ┆ i64          ┆ i64          ┆ str   │\n",
       "╞══════════════════════╪══════════╪══════════╪══════════════╪══════════════╪══════════════╪═══════╡\n",
       "│ acetaminophen        ┆ -0.79    ┆ -0.63    ┆ 2            ┆ 0            ┆ 2            ┆ t     │\n",
       "│ acetylsalicylic acid ┆ -0.23    ┆ 1.22     ┆ 1            ┆ 0            ┆ 4            ┆ t     │\n",
       "│ bromazepam           ┆ 0.38     ┆ 0.57     ┆ 1            ┆ 0            ┆ 3            ┆ t     │\n",
       "│ carbamazepine        ┆ 0.69     ┆ 0.68     ┆ 0            ┆ 0            ┆ 3            ┆ t     │\n",
       "│ chlorpromazine       ┆ 1.18     ┆ 1.5      ┆ 0            ┆ 0            ┆ 2            ┆ t     │\n",
       "└──────────────────────┴──────────┴──────────┴──────────────┴──────────────┴──────────────┴───────┘"
      ]
     },
     "execution_count": 53,
     "metadata": {},
     "output_type": "execute_result"
    }
   ],
   "source": [
    "dane_leki.head()"
   ]
  },
  {
   "cell_type": "code",
   "execution_count": 54,
   "metadata": {},
   "outputs": [],
   "source": [
    "Y = dane_leki.select(pl.col('Nazwa'), pl.col(\"logK HSA\"))"
   ]
  },
  {
   "cell_type": "code",
   "execution_count": 55,
   "metadata": {},
   "outputs": [
    {
     "data": {
      "text/html": [
       "<div><style>\n",
       ".dataframe > thead > tr,\n",
       ".dataframe > tbody > tr {\n",
       "  text-align: right;\n",
       "  white-space: pre-wrap;\n",
       "}\n",
       "</style>\n",
       "<small>shape: (5, 2)</small><table border=\"1\" class=\"dataframe\"><thead><tr><th>Nazwa</th><th>logK HSA</th></tr><tr><td>str</td><td>f64</td></tr></thead><tbody><tr><td>&quot;acetaminophen&quot;</td><td>-0.79</td></tr><tr><td>&quot;acetylsalicylic acid&quot;</td><td>-0.23</td></tr><tr><td>&quot;bromazepam&quot;</td><td>0.38</td></tr><tr><td>&quot;carbamazepine&quot;</td><td>0.69</td></tr><tr><td>&quot;chlorpromazine&quot;</td><td>1.18</td></tr></tbody></table></div>"
      ],
      "text/plain": [
       "shape: (5, 2)\n",
       "┌──────────────────────┬──────────┐\n",
       "│ Nazwa                ┆ logK HSA │\n",
       "│ ---                  ┆ ---      │\n",
       "│ str                  ┆ f64      │\n",
       "╞══════════════════════╪══════════╡\n",
       "│ acetaminophen        ┆ -0.79    │\n",
       "│ acetylsalicylic acid ┆ -0.23    │\n",
       "│ bromazepam           ┆ 0.38     │\n",
       "│ carbamazepine        ┆ 0.69     │\n",
       "│ chlorpromazine       ┆ 1.18     │\n",
       "└──────────────────────┴──────────┘"
      ]
     },
     "execution_count": 55,
     "metadata": {},
     "output_type": "execute_result"
    }
   ],
   "source": [
    "Y.head()"
   ]
  },
  {
   "cell_type": "code",
   "execution_count": 56,
   "metadata": {},
   "outputs": [],
   "source": [
    "X = dane_leki.select(\n",
    "    pl.exclude([\"logK HSA\", \"Zbiór\"])\n",
    ")"
   ]
  },
  {
   "cell_type": "code",
   "execution_count": 57,
   "metadata": {},
   "outputs": [
    {
     "data": {
      "text/html": [
       "<div><style>\n",
       ".dataframe > thead > tr,\n",
       ".dataframe > tbody > tr {\n",
       "  text-align: right;\n",
       "  white-space: pre-wrap;\n",
       "}\n",
       "</style>\n",
       "<small>shape: (5, 5)</small><table border=\"1\" class=\"dataframe\"><thead><tr><th>Nazwa</th><th>logKCTAB</th><th>CATS3D_00_DD</th><th>CATS3D_09_AL</th><th>CATS3D_00_AA</th></tr><tr><td>str</td><td>f64</td><td>i64</td><td>i64</td><td>i64</td></tr></thead><tbody><tr><td>&quot;acetaminophen&quot;</td><td>-0.63</td><td>2</td><td>0</td><td>2</td></tr><tr><td>&quot;acetylsalicylic acid&quot;</td><td>1.22</td><td>1</td><td>0</td><td>4</td></tr><tr><td>&quot;bromazepam&quot;</td><td>0.57</td><td>1</td><td>0</td><td>3</td></tr><tr><td>&quot;carbamazepine&quot;</td><td>0.68</td><td>0</td><td>0</td><td>3</td></tr><tr><td>&quot;chlorpromazine&quot;</td><td>1.5</td><td>0</td><td>0</td><td>2</td></tr></tbody></table></div>"
      ],
      "text/plain": [
       "shape: (5, 5)\n",
       "┌──────────────────────┬──────────┬──────────────┬──────────────┬──────────────┐\n",
       "│ Nazwa                ┆ logKCTAB ┆ CATS3D_00_DD ┆ CATS3D_09_AL ┆ CATS3D_00_AA │\n",
       "│ ---                  ┆ ---      ┆ ---          ┆ ---          ┆ ---          │\n",
       "│ str                  ┆ f64      ┆ i64          ┆ i64          ┆ i64          │\n",
       "╞══════════════════════╪══════════╪══════════════╪══════════════╪══════════════╡\n",
       "│ acetaminophen        ┆ -0.63    ┆ 2            ┆ 0            ┆ 2            │\n",
       "│ acetylsalicylic acid ┆ 1.22     ┆ 1            ┆ 0            ┆ 4            │\n",
       "│ bromazepam           ┆ 0.57     ┆ 1            ┆ 0            ┆ 3            │\n",
       "│ carbamazepine        ┆ 0.68     ┆ 0            ┆ 0            ┆ 3            │\n",
       "│ chlorpromazine       ┆ 1.5      ┆ 0            ┆ 0            ┆ 2            │\n",
       "└──────────────────────┴──────────┴──────────────┴──────────────┴──────────────┘"
      ]
     },
     "execution_count": 57,
     "metadata": {},
     "output_type": "execute_result"
    }
   ],
   "source": [
    "X.head()"
   ]
  },
  {
   "cell_type": "code",
   "execution_count": 58,
   "metadata": {},
   "outputs": [],
   "source": [
    "Y_trening = dane_leki.filter(\n",
    "    pl.col(\"Zbiór\") == 't'\n",
    ").select(\n",
    "    pl.col(\"logK HSA\")\n",
    ")"
   ]
  },
  {
   "cell_type": "code",
   "execution_count": 59,
   "metadata": {},
   "outputs": [
    {
     "data": {
      "text/html": [
       "<div><style>\n",
       ".dataframe > thead > tr,\n",
       ".dataframe > tbody > tr {\n",
       "  text-align: right;\n",
       "  white-space: pre-wrap;\n",
       "}\n",
       "</style>\n",
       "<small>shape: (5, 1)</small><table border=\"1\" class=\"dataframe\"><thead><tr><th>logK HSA</th></tr><tr><td>f64</td></tr></thead><tbody><tr><td>-0.79</td></tr><tr><td>-0.23</td></tr><tr><td>0.38</td></tr><tr><td>0.69</td></tr><tr><td>1.18</td></tr></tbody></table></div>"
      ],
      "text/plain": [
       "shape: (5, 1)\n",
       "┌──────────┐\n",
       "│ logK HSA │\n",
       "│ ---      │\n",
       "│ f64      │\n",
       "╞══════════╡\n",
       "│ -0.79    │\n",
       "│ -0.23    │\n",
       "│ 0.38     │\n",
       "│ 0.69     │\n",
       "│ 1.18     │\n",
       "└──────────┘"
      ]
     },
     "execution_count": 59,
     "metadata": {},
     "output_type": "execute_result"
    }
   ],
   "source": [
    "Y_trening.head()"
   ]
  },
  {
   "cell_type": "code",
   "execution_count": 60,
   "metadata": {},
   "outputs": [],
   "source": [
    "Y_walidacja = dane_leki.filter(\n",
    "    pl.col(\"Zbiór\") == 'w'\n",
    ").select(\n",
    "    pl.col(\"logK HSA\")\n",
    ")"
   ]
  },
  {
   "cell_type": "code",
   "execution_count": 61,
   "metadata": {},
   "outputs": [
    {
     "data": {
      "text/html": [
       "<div><style>\n",
       ".dataframe > thead > tr,\n",
       ".dataframe > tbody > tr {\n",
       "  text-align: right;\n",
       "  white-space: pre-wrap;\n",
       "}\n",
       "</style>\n",
       "<small>shape: (5, 1)</small><table border=\"1\" class=\"dataframe\"><thead><tr><th>logK HSA</th></tr><tr><td>f64</td></tr></thead><tbody><tr><td>-1.25</td></tr><tr><td>1.69</td></tr><tr><td>-0.77</td></tr><tr><td>1.84</td></tr><tr><td>1.82</td></tr></tbody></table></div>"
      ],
      "text/plain": [
       "shape: (5, 1)\n",
       "┌──────────┐\n",
       "│ logK HSA │\n",
       "│ ---      │\n",
       "│ f64      │\n",
       "╞══════════╡\n",
       "│ -1.25    │\n",
       "│ 1.69     │\n",
       "│ -0.77    │\n",
       "│ 1.84     │\n",
       "│ 1.82     │\n",
       "└──────────┘"
      ]
     },
     "execution_count": 61,
     "metadata": {},
     "output_type": "execute_result"
    }
   ],
   "source": [
    "Y_walidacja.head()"
   ]
  },
  {
   "cell_type": "code",
   "execution_count": 62,
   "metadata": {},
   "outputs": [],
   "source": [
    "X_trening = dane_leki.filter(\n",
    "    pl.col(\"Zbiór\") == 't'\n",
    ").select(\n",
    "    pl.exclude([\"Nazwa\", \"logK HSA\", \"Zbiór\"])\n",
    ")"
   ]
  },
  {
   "cell_type": "code",
   "execution_count": 63,
   "metadata": {},
   "outputs": [
    {
     "data": {
      "text/html": [
       "<div><style>\n",
       ".dataframe > thead > tr,\n",
       ".dataframe > tbody > tr {\n",
       "  text-align: right;\n",
       "  white-space: pre-wrap;\n",
       "}\n",
       "</style>\n",
       "<small>shape: (5, 4)</small><table border=\"1\" class=\"dataframe\"><thead><tr><th>logKCTAB</th><th>CATS3D_00_DD</th><th>CATS3D_09_AL</th><th>CATS3D_00_AA</th></tr><tr><td>f64</td><td>i64</td><td>i64</td><td>i64</td></tr></thead><tbody><tr><td>-0.63</td><td>2</td><td>0</td><td>2</td></tr><tr><td>1.22</td><td>1</td><td>0</td><td>4</td></tr><tr><td>0.57</td><td>1</td><td>0</td><td>3</td></tr><tr><td>0.68</td><td>0</td><td>0</td><td>3</td></tr><tr><td>1.5</td><td>0</td><td>0</td><td>2</td></tr></tbody></table></div>"
      ],
      "text/plain": [
       "shape: (5, 4)\n",
       "┌──────────┬──────────────┬──────────────┬──────────────┐\n",
       "│ logKCTAB ┆ CATS3D_00_DD ┆ CATS3D_09_AL ┆ CATS3D_00_AA │\n",
       "│ ---      ┆ ---          ┆ ---          ┆ ---          │\n",
       "│ f64      ┆ i64          ┆ i64          ┆ i64          │\n",
       "╞══════════╪══════════════╪══════════════╪══════════════╡\n",
       "│ -0.63    ┆ 2            ┆ 0            ┆ 2            │\n",
       "│ 1.22     ┆ 1            ┆ 0            ┆ 4            │\n",
       "│ 0.57     ┆ 1            ┆ 0            ┆ 3            │\n",
       "│ 0.68     ┆ 0            ┆ 0            ┆ 3            │\n",
       "│ 1.5      ┆ 0            ┆ 0            ┆ 2            │\n",
       "└──────────┴──────────────┴──────────────┴──────────────┘"
      ]
     },
     "execution_count": 63,
     "metadata": {},
     "output_type": "execute_result"
    }
   ],
   "source": [
    "X_trening.head()"
   ]
  },
  {
   "cell_type": "code",
   "execution_count": 64,
   "metadata": {},
   "outputs": [],
   "source": [
    "X_walidacja = dane_leki.filter(\n",
    "    pl.col(\"Zbiór\") == 'w'\n",
    ").select(\n",
    "    pl.exclude([\"Nazwa\", \"logK HSA\", \"Zbiór\"])\n",
    ")"
   ]
  },
  {
   "cell_type": "code",
   "execution_count": 65,
   "metadata": {},
   "outputs": [
    {
     "data": {
      "text/html": [
       "<div><style>\n",
       ".dataframe > thead > tr,\n",
       ".dataframe > tbody > tr {\n",
       "  text-align: right;\n",
       "  white-space: pre-wrap;\n",
       "}\n",
       "</style>\n",
       "<small>shape: (5, 4)</small><table border=\"1\" class=\"dataframe\"><thead><tr><th>logKCTAB</th><th>CATS3D_00_DD</th><th>CATS3D_09_AL</th><th>CATS3D_00_AA</th></tr><tr><td>f64</td><td>i64</td><td>i64</td><td>i64</td></tr></thead><tbody><tr><td>-0.11</td><td>3</td><td>0</td><td>6</td></tr><tr><td>1.98</td><td>0</td><td>1</td><td>3</td></tr><tr><td>0.01</td><td>4</td><td>1</td><td>5</td></tr><tr><td>0.73</td><td>0</td><td>5</td><td>2</td></tr><tr><td>1.63</td><td>1</td><td>4</td><td>5</td></tr></tbody></table></div>"
      ],
      "text/plain": [
       "shape: (5, 4)\n",
       "┌──────────┬──────────────┬──────────────┬──────────────┐\n",
       "│ logKCTAB ┆ CATS3D_00_DD ┆ CATS3D_09_AL ┆ CATS3D_00_AA │\n",
       "│ ---      ┆ ---          ┆ ---          ┆ ---          │\n",
       "│ f64      ┆ i64          ┆ i64          ┆ i64          │\n",
       "╞══════════╪══════════════╪══════════════╪══════════════╡\n",
       "│ -0.11    ┆ 3            ┆ 0            ┆ 6            │\n",
       "│ 1.98     ┆ 0            ┆ 1            ┆ 3            │\n",
       "│ 0.01     ┆ 4            ┆ 1            ┆ 5            │\n",
       "│ 0.73     ┆ 0            ┆ 5            ┆ 2            │\n",
       "│ 1.63     ┆ 1            ┆ 4            ┆ 5            │\n",
       "└──────────┴──────────────┴──────────────┴──────────────┘"
      ]
     },
     "execution_count": 65,
     "metadata": {},
     "output_type": "execute_result"
    }
   ],
   "source": [
    "X_walidacja.head()"
   ]
  },
  {
   "cell_type": "code",
   "execution_count": 66,
   "metadata": {},
   "outputs": [],
   "source": [
    "corr_matrix = X.select(\n",
    "    pl.exclude(\"Nazwa\")\n",
    ").corr()"
   ]
  },
  {
   "cell_type": "code",
   "execution_count": 67,
   "metadata": {},
   "outputs": [
    {
     "data": {
      "text/html": [
       "<div><style>\n",
       ".dataframe > thead > tr,\n",
       ".dataframe > tbody > tr {\n",
       "  text-align: right;\n",
       "  white-space: pre-wrap;\n",
       "}\n",
       "</style>\n",
       "<small>shape: (4, 4)</small><table border=\"1\" class=\"dataframe\"><thead><tr><th>logKCTAB</th><th>CATS3D_00_DD</th><th>CATS3D_09_AL</th><th>CATS3D_00_AA</th></tr><tr><td>f64</td><td>f64</td><td>f64</td><td>f64</td></tr></thead><tbody><tr><td>1.0</td><td>-0.633481</td><td>0.446144</td><td>-0.135951</td></tr><tr><td>-0.633481</td><td>1.0</td><td>-0.291248</td><td>0.290864</td></tr><tr><td>0.446144</td><td>-0.291248</td><td>1.0</td><td>0.326375</td></tr><tr><td>-0.135951</td><td>0.290864</td><td>0.326375</td><td>1.0</td></tr></tbody></table></div>"
      ],
      "text/plain": [
       "shape: (4, 4)\n",
       "┌───────────┬──────────────┬──────────────┬──────────────┐\n",
       "│ logKCTAB  ┆ CATS3D_00_DD ┆ CATS3D_09_AL ┆ CATS3D_00_AA │\n",
       "│ ---       ┆ ---          ┆ ---          ┆ ---          │\n",
       "│ f64       ┆ f64          ┆ f64          ┆ f64          │\n",
       "╞═══════════╪══════════════╪══════════════╪══════════════╡\n",
       "│ 1.0       ┆ -0.633481    ┆ 0.446144     ┆ -0.135951    │\n",
       "│ -0.633481 ┆ 1.0          ┆ -0.291248    ┆ 0.290864     │\n",
       "│ 0.446144  ┆ -0.291248    ┆ 1.0          ┆ 0.326375     │\n",
       "│ -0.135951 ┆ 0.290864     ┆ 0.326375     ┆ 1.0          │\n",
       "└───────────┴──────────────┴──────────────┴──────────────┘"
      ]
     },
     "execution_count": 67,
     "metadata": {},
     "output_type": "execute_result"
    }
   ],
   "source": [
    "corr_matrix"
   ]
  },
  {
   "cell_type": "code",
   "execution_count": 68,
   "metadata": {},
   "outputs": [],
   "source": [
    "linear_model = LinearRegression().fit(X_trening, Y_trening)"
   ]
  },
  {
   "cell_type": "code",
   "execution_count": 69,
   "metadata": {},
   "outputs": [
    {
     "data": {
      "text/plain": [
       "array([[ 0.47223989, -0.21607308,  0.32315214, -0.22529295]])"
      ]
     },
     "execution_count": 69,
     "metadata": {},
     "output_type": "execute_result"
    }
   ],
   "source": [
    "linear_model.coef_"
   ]
  },
  {
   "cell_type": "code",
   "execution_count": 70,
   "metadata": {},
   "outputs": [
    {
     "data": {
      "text/plain": [
       "array([0.80501409])"
      ]
     },
     "execution_count": 70,
     "metadata": {},
     "output_type": "execute_result"
    }
   ],
   "source": [
    "linear_model.intercept_"
   ]
  },
  {
   "cell_type": "code",
   "execution_count": 71,
   "metadata": {},
   "outputs": [],
   "source": [
    "pred_Y_trening = pl.Series(linear_model.predict(X_trening).reshape(-1))\n",
    "pred_Y_walidacja = pl.Series(linear_model.predict(X_walidacja).reshape(-1))"
   ]
  },
  {
   "cell_type": "markdown",
   "metadata": {},
   "source": [
    "# Rownanie modelu\n",
    "\n",
    "$y \\approx 0.472x_0 - 0.216x_1 + 0.323x_2 - 0.225x_3 + 0.805$"
   ]
  },
  {
   "cell_type": "code",
   "execution_count": 72,
   "metadata": {},
   "outputs": [
    {
     "data": {
      "text/plain": [
       "<matplotlib.legend.Legend at 0x7bc12364d970>"
      ]
     },
     "execution_count": 72,
     "metadata": {},
     "output_type": "execute_result"
    },
    {
     "data": {
      "image/png": "[encoded data removed]",
      "text/plain": [
       "<Figure size 640x480 with 1 Axes>"
      ]
     },
     "metadata": {},
     "output_type": "display_data"
    }
   ],
   "source": [
    "plt.plot(range(X_trening.shape[0]), pred_Y_trening, label=\"y_trening\")\n",
    "plt.plot(range(X_trening.shape[0], X_trening.shape[0] + X_walidacja.shape[0]),pred_Y_walidacja, label=\"y_walidacja\")\n",
    "plt.scatter(range(Y_trening.shape[0]), Y_trening, label=\"y_trening\")\n",
    "plt.scatter(range(Y_trening.shape[0], Y_trening.shape[0] + Y_walidacja.shape[0]), Y_walidacja, label=\"y_walidacja\")\n",
    "plt.legend()"
   ]
  },
  {
   "cell_type": "code",
   "execution_count": 73,
   "metadata": {},
   "outputs": [
    {
     "data": {
      "text/plain": [
       "<matplotlib.legend.Legend at 0x7bc122309f70>"
      ]
     },
     "execution_count": 73,
     "metadata": {},
     "output_type": "execute_result"
    },
    {
     "data": {
      "image/png": "[encoded data removed]",
      "text/plain": [
       "<Figure size 640x480 with 1 Axes>"
      ]
     },
     "metadata": {},
     "output_type": "display_data"
    }
   ],
   "source": [
    "plt.scatter(pred_Y_trening, Y_trening, label=\"trening\")\n",
    "plt.scatter(pred_Y_walidacja, Y_walidacja, label=\"walidacja\")\n",
    "plt.legend()"
   ]
  },
  {
   "cell_type": "code",
   "execution_count": 74,
   "metadata": {},
   "outputs": [],
   "source": [
    "h_i_trening = pl.Series(\n",
    "    dot(\n",
    "\n",
    "        dot(\n",
    "\n",
    "            pl.Series(X_trening.cast(pl.Float64).row(i)).reshape((1,-1)), \n",
    "            inv(\n",
    "                dot(\n",
    "\n",
    "                    X_trening.cast(pl.Float64).transpose(), \n",
    "                    X_trening.cast(pl.Float64)\n",
    "                    \n",
    "                )\n",
    "            )\n",
    "\n",
    "        ),\n",
    "        pl.Series(X_trening.cast(pl.Float64).row(i))\n",
    "\n",
    "    )[0] for i in range(X_trening.shape[0])\n",
    ")"
   ]
  },
  {
   "cell_type": "code",
   "execution_count": 75,
   "metadata": {},
   "outputs": [
    {
     "data": {
      "text/html": [
       "<div><style>\n",
       ".dataframe > thead > tr,\n",
       ".dataframe > tbody > tr {\n",
       "  text-align: right;\n",
       "  white-space: pre-wrap;\n",
       "}\n",
       "</style>\n",
       "<small>shape: (5,)</small><table border=\"1\" class=\"dataframe\"><thead><tr><th></th></tr><tr><td>f64</td></tr></thead><tbody><tr><td>0.132406</td></tr><tr><td>0.206094</td></tr><tr><td>0.078165</td></tr><tr><td>0.112327</td></tr><tr><td>0.217848</td></tr></tbody></table></div>"
      ],
      "text/plain": [
       "shape: (5,)\n",
       "Series: '' [f64]\n",
       "[\n",
       "\t0.132406\n",
       "\t0.206094\n",
       "\t0.078165\n",
       "\t0.112327\n",
       "\t0.217848\n",
       "]"
      ]
     },
     "execution_count": 75,
     "metadata": {},
     "output_type": "execute_result"
    }
   ],
   "source": [
    "h_i_trening.head(5)"
   ]
  },
  {
   "cell_type": "code",
   "execution_count": 76,
   "metadata": {},
   "outputs": [
    {
     "data": {
      "text/html": [
       "<div><style>\n",
       ".dataframe > thead > tr,\n",
       ".dataframe > tbody > tr {\n",
       "  text-align: right;\n",
       "  white-space: pre-wrap;\n",
       "}\n",
       "</style>\n",
       "<small>shape: (19, 4)</small><table border=\"1\" class=\"dataframe\"><thead><tr><th>logKCTAB</th><th>CATS3D_00_DD</th><th>CATS3D_09_AL</th><th>CATS3D_00_AA</th></tr><tr><td>f64</td><td>i64</td><td>i64</td><td>i64</td></tr></thead><tbody><tr><td>-0.63</td><td>2</td><td>0</td><td>2</td></tr><tr><td>1.22</td><td>1</td><td>0</td><td>4</td></tr><tr><td>0.57</td><td>1</td><td>0</td><td>3</td></tr><tr><td>0.68</td><td>0</td><td>0</td><td>3</td></tr><tr><td>1.5</td><td>0</td><td>0</td><td>2</td></tr><tr><td>&hellip;</td><td>&hellip;</td><td>&hellip;</td><td>&hellip;</td></tr><tr><td>-0.97</td><td>2</td><td>0</td><td>6</td></tr><tr><td>-0.63</td><td>3</td><td>0</td><td>5</td></tr><tr><td>0.3</td><td>2</td><td>0</td><td>2</td></tr><tr><td>-0.03</td><td>3</td><td>2</td><td>5</td></tr><tr><td>1.04</td><td>0</td><td>6</td><td>6</td></tr></tbody></table></div>"
      ],
      "text/plain": [
       "shape: (19, 4)\n",
       "┌──────────┬──────────────┬──────────────┬──────────────┐\n",
       "│ logKCTAB ┆ CATS3D_00_DD ┆ CATS3D_09_AL ┆ CATS3D_00_AA │\n",
       "│ ---      ┆ ---          ┆ ---          ┆ ---          │\n",
       "│ f64      ┆ i64          ┆ i64          ┆ i64          │\n",
       "╞══════════╪══════════════╪══════════════╪══════════════╡\n",
       "│ -0.63    ┆ 2            ┆ 0            ┆ 2            │\n",
       "│ 1.22     ┆ 1            ┆ 0            ┆ 4            │\n",
       "│ 0.57     ┆ 1            ┆ 0            ┆ 3            │\n",
       "│ 0.68     ┆ 0            ┆ 0            ┆ 3            │\n",
       "│ 1.5      ┆ 0            ┆ 0            ┆ 2            │\n",
       "│ …        ┆ …            ┆ …            ┆ …            │\n",
       "│ -0.97    ┆ 2            ┆ 0            ┆ 6            │\n",
       "│ -0.63    ┆ 3            ┆ 0            ┆ 5            │\n",
       "│ 0.3      ┆ 2            ┆ 0            ┆ 2            │\n",
       "│ -0.03    ┆ 3            ┆ 2            ┆ 5            │\n",
       "│ 1.04     ┆ 0            ┆ 6            ┆ 6            │\n",
       "└──────────┴──────────────┴──────────────┴──────────────┘"
      ]
     },
     "execution_count": 76,
     "metadata": {},
     "output_type": "execute_result"
    }
   ],
   "source": [
    "X_trening"
   ]
  },
  {
   "cell_type": "code",
   "execution_count": 77,
   "metadata": {},
   "outputs": [],
   "source": [
    "h_i_walidacja = pl.Series(\n",
    "    dot(\n",
    "\n",
    "        dot(\n",
    "\n",
    "            pl.Series(X_walidacja.cast(pl.Float64).row(i)).reshape((1,-1)), \n",
    "            inv(\n",
    "                dot(\n",
    "\n",
    "                    X_walidacja.cast(pl.Float64).transpose(), \n",
    "                    X_walidacja.cast(pl.Float64)\n",
    "                    \n",
    "                )\n",
    "            )\n",
    "\n",
    "        ),\n",
    "        pl.Series(X_walidacja.cast(pl.Float64).row(i))\n",
    "\n",
    "    )[0] for i in range(X_walidacja.shape[0])\n",
    ")"
   ]
  },
  {
   "cell_type": "code",
   "execution_count": 78,
   "metadata": {},
   "outputs": [
    {
     "data": {
      "text/html": [
       "<div><style>\n",
       ".dataframe > thead > tr,\n",
       ".dataframe > tbody > tr {\n",
       "  text-align: right;\n",
       "  white-space: pre-wrap;\n",
       "}\n",
       "</style>\n",
       "<small>shape: (5,)</small><table border=\"1\" class=\"dataframe\"><thead><tr><th></th></tr><tr><td>f64</td></tr></thead><tbody><tr><td>0.305044</td></tr><tr><td>0.70602</td></tr><tr><td>0.587772</td></tr><tr><td>0.710626</td></tr><tr><td>0.377469</td></tr></tbody></table></div>"
      ],
      "text/plain": [
       "shape: (5,)\n",
       "Series: '' [f64]\n",
       "[\n",
       "\t0.305044\n",
       "\t0.70602\n",
       "\t0.587772\n",
       "\t0.710626\n",
       "\t0.377469\n",
       "]"
      ]
     },
     "execution_count": 78,
     "metadata": {},
     "output_type": "execute_result"
    }
   ],
   "source": [
    "h_i_walidacja.head(5)"
   ]
  },
  {
   "cell_type": "code",
   "execution_count": 79,
   "metadata": {},
   "outputs": [],
   "source": [
    "h_star = 3*(X_trening.shape[1]) / X_trening.shape[0]"
   ]
  },
  {
   "cell_type": "code",
   "execution_count": 80,
   "metadata": {},
   "outputs": [],
   "source": [
    "trening_residuals = Y_trening - pred_Y_trening\n",
    "stan_trening_residuals = trening_residuals.select((pl.col(\"logK HSA\") - trening_residuals.mean()) / trening_residuals.std())\n",
    "\n",
    "walidacja_residuals = Y_walidacja - pred_Y_walidacja\n",
    "stan_walidacja_residuals = walidacja_residuals.select((pl.col(\"logK HSA\") - walidacja_residuals.mean()) / walidacja_residuals.std())"
   ]
  },
  {
   "cell_type": "code",
   "execution_count": 81,
   "metadata": {},
   "outputs": [
    {
     "data": {
      "text/plain": [
       "<matplotlib.legend.Legend at 0x7bc12239e060>"
      ]
     },
     "execution_count": 81,
     "metadata": {},
     "output_type": "execute_result"
    },
    {
     "data": {
      "image/png": "[encoded data removed]",
      "text/plain": [
       "<Figure size 640x480 with 1 Axes>"
      ]
     },
     "metadata": {},
     "output_type": "display_data"
    }
   ],
   "source": [
    "plt.scatter(h_i_trening, stan_trening_residuals, label=\"trening\")\n",
    "plt.scatter(h_i_walidacja, stan_walidacja_residuals, label=\"walidacja\")\n",
    "plt.axvline(h_star, linestyle=\"dashed\", color=\"grey\")\n",
    "plt.axhline(-3, color='grey')\n",
    "plt.axhline(3, color='grey')\n",
    "plt.grid()\n",
    "plt.ylim(-3.5,3.5)\n",
    "plt.xlabel(\"Współczynniki dźwigni\")\n",
    "plt.ylabel(\"Ustandaryzowane rezydua\")\n",
    "plt.legend()"
   ]
  },
  {
   "cell_type": "code",
   "execution_count": 82,
   "metadata": {},
   "outputs": [
    {
     "data": {
      "text/plain": [
       "0.802627713030591"
      ]
     },
     "execution_count": 82,
     "metadata": {},
     "output_type": "execute_result"
    }
   ],
   "source": [
    "R2(pred_Y_trening, Y_trening)"
   ]
  },
  {
   "cell_type": "code",
   "execution_count": 83,
   "metadata": {},
   "outputs": [
    {
     "data": {
      "text/plain": [
       "0.42710692427874286"
      ]
     },
     "execution_count": 83,
     "metadata": {},
     "output_type": "execute_result"
    }
   ],
   "source": [
    "RMSE(pred_Y_trening, Y_trening)"
   ]
  },
  {
   "cell_type": "code",
   "execution_count": 84,
   "metadata": {},
   "outputs": [
    {
     "data": {
      "text/plain": [
       "0.3013587245888068"
      ]
     },
     "execution_count": 84,
     "metadata": {},
     "output_type": "execute_result"
    }
   ],
   "source": [
    "RMSE(pred_Y_walidacja, Y_walidacja)"
   ]
  },
  {
   "cell_type": "code",
   "execution_count": 85,
   "metadata": {},
   "outputs": [
    {
     "data": {
      "text/html": [
       "<div><style>\n",
       ".dataframe > thead > tr,\n",
       ".dataframe > tbody > tr {\n",
       "  text-align: right;\n",
       "  white-space: pre-wrap;\n",
       "}\n",
       "</style>\n",
       "<small>shape: (1, 4)</small><table border=\"1\" class=\"dataframe\"><thead><tr><th>logKCTAB</th><th>CATS3D_00_DD</th><th>CATS3D_09_AL</th><th>CATS3D_00_AA</th></tr><tr><td>f64</td><td>i64</td><td>i64</td><td>i64</td></tr></thead><tbody><tr><td>-0.63</td><td>2</td><td>0</td><td>2</td></tr></tbody></table></div>"
      ],
      "text/plain": [
       "shape: (1, 4)\n",
       "┌──────────┬──────────────┬──────────────┬──────────────┐\n",
       "│ logKCTAB ┆ CATS3D_00_DD ┆ CATS3D_09_AL ┆ CATS3D_00_AA │\n",
       "│ ---      ┆ ---          ┆ ---          ┆ ---          │\n",
       "│ f64      ┆ i64          ┆ i64          ┆ i64          │\n",
       "╞══════════╪══════════════╪══════════════╪══════════════╡\n",
       "│ -0.63    ┆ 2            ┆ 0            ┆ 2            │\n",
       "└──────────┴──────────────┴──────────────┴──────────────┘"
      ]
     },
     "execution_count": 85,
     "metadata": {},
     "output_type": "execute_result"
    }
   ],
   "source": [
    "X_trening.with_row_index().filter(pl.col('index') == 0).drop('index')"
   ]
  },
  {
   "cell_type": "code",
   "execution_count": 86,
   "metadata": {},
   "outputs": [
    {
     "data": {
      "text/plain": [
       "np.float64(-0.20245343992086307)"
      ]
     },
     "execution_count": 86,
     "metadata": {},
     "output_type": "execute_result"
    }
   ],
   "source": [
    "LinearRegression().fit(\n",
    "        X_trening.with_row_index().filter(pl.col('index') != 0).drop('index'),\n",
    "        Y_trening.with_row_index().filter(pl.col('index') != 0).drop('index')\n",
    "    ).predict(\n",
    "        X_trening.with_row_index().filter(pl.col('index') == 0).drop('index')\n",
    "    )[0][0]"
   ]
  },
  {
   "cell_type": "code",
   "execution_count": 87,
   "metadata": {},
   "outputs": [],
   "source": [
    "pred_Y_cv = pl.Series([LinearRegression()\n",
    "    .fit(\n",
    "        X_trening.with_row_index().filter(pl.col('index') != i).drop('index'),\n",
    "        Y_trening.with_row_index().filter(pl.col('index') != i).drop('index')\n",
    "    )\n",
    "    .predict(\n",
    "        X_trening.with_row_index().filter(pl.col('index') == i).drop('index')\n",
    "    )[0][0] for i in range(X_trening.shape[0])] \n",
    "    )"
   ]
  },
  {
   "cell_type": "code",
   "execution_count": 88,
   "metadata": {},
   "outputs": [
    {
     "data": {
      "text/plain": [
       "0.6223963031006665"
      ]
     },
     "execution_count": 88,
     "metadata": {},
     "output_type": "execute_result"
    }
   ],
   "source": [
    "Q2(pred_Y_cv, Y_trening)"
   ]
  },
  {
   "cell_type": "code",
   "execution_count": 89,
   "metadata": {},
   "outputs": [
    {
     "data": {
      "text/plain": [
       "0.5907607652603646"
      ]
     },
     "execution_count": 89,
     "metadata": {},
     "output_type": "execute_result"
    }
   ],
   "source": [
    "RMSE(pred_Y_cv, Y_trening)"
   ]
  },
  {
   "cell_type": "code",
   "execution_count": 90,
   "metadata": {},
   "outputs": [],
   "source": [
    "ex_model = LinearRegression().fit(X_trening, Y_trening)"
   ]
  },
  {
   "cell_type": "code",
   "execution_count": 91,
   "metadata": {},
   "outputs": [],
   "source": [
    "pred_Y_ex = pl.Series(ex_model.predict(X_walidacja).reshape(-1))"
   ]
  },
  {
   "cell_type": "code",
   "execution_count": 92,
   "metadata": {},
   "outputs": [
    {
     "data": {
      "text/plain": [
       "0.942439776973401"
      ]
     },
     "execution_count": 92,
     "metadata": {},
     "output_type": "execute_result"
    }
   ],
   "source": [
    "Q2(pred_Y_ex, Y_walidacja)"
   ]
  },
  {
   "cell_type": "code",
   "execution_count": 93,
   "metadata": {},
   "outputs": [
    {
     "data": {
      "text/plain": [
       "0.3013587245888068"
      ]
     },
     "execution_count": 93,
     "metadata": {},
     "output_type": "execute_result"
    }
   ],
   "source": [
    "RMSE(pred_Y_ex, Y_walidacja)"
   ]
  },
  {
   "cell_type": "code",
   "execution_count": 94,
   "metadata": {},
   "outputs": [
    {
     "data": {
      "text/plain": [
       "3.1628857759577413"
      ]
     },
     "execution_count": 94,
     "metadata": {},
     "output_type": "execute_result"
    }
   ],
   "source": [
    "F(pred_Y_trening, Y_trening, 4)"
   ]
  }
 ],
 "metadata": {
  "kernelspec": {
   "display_name": ".venv",
   "language": "python",
   "name": "python3"
  },
  "language_info": {
   "codemirror_mode": {
    "name": "ipython",
    "version": 3
   },
   "file_extension": ".py",
   "mimetype": "text/x-python",
   "name": "python",
   "nbconvert_exporter": "python",
   "pygments_lexer": "ipython3",
   "version": "3.12.7"
  }
 },
 "nbformat": 4,
 "nbformat_minor": 2
}
