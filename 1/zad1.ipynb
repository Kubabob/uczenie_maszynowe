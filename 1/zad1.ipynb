{
 "cells": [
  {
   "cell_type": "code",
   "execution_count": 85,
   "metadata": {},
   "outputs": [],
   "source": [
    "import polars as pl"
   ]
  },
  {
   "cell_type": "code",
   "execution_count": 86,
   "metadata": {},
   "outputs": [],
   "source": [
    "input_matrix = pl.read_excel(\n",
    "    'zad1.xlsx'\n",
    ")"
   ]
  },
  {
   "cell_type": "code",
   "execution_count": 87,
   "metadata": {},
   "outputs": [
    {
     "data": {
      "text/html": [
       "<div><style>\n",
       ".dataframe > thead > tr,\n",
       ".dataframe > tbody > tr {\n",
       "  text-align: right;\n",
       "  white-space: pre-wrap;\n",
       "}\n",
       "</style>\n",
       "<small>shape: (5, 4)</small><table border=\"1\" class=\"dataframe\"><thead><tr><th>Metal oxide</th><th>Hfc</th><th>Xc</th><th>Obs. log(EC50)-1</th></tr><tr><td>str</td><td>f64</td><td>f64</td><td>f64</td></tr></thead><tbody><tr><td>&quot;TiO2&quot;</td><td>-1492.0</td><td>4.9</td><td>1.76</td></tr><tr><td>&quot;ZnO2&quot;</td><td>-638.1</td><td>4.95</td><td>2.02</td></tr><tr><td>&quot;SiO2&quot;</td><td>-618.3</td><td>3.81</td><td>2.12</td></tr><tr><td>&quot;V2O3&quot;</td><td>-139.5</td><td>3.24</td><td>2.24</td></tr><tr><td>&quot;Sb2O3&quot;</td><td>-206.7</td><td>4.46</td><td>2.31</td></tr></tbody></table></div>"
      ],
      "text/plain": [
       "shape: (5, 4)\n",
       "┌─────────────┬─────────┬──────┬──────────────────┐\n",
       "│ Metal oxide ┆ Hfc     ┆ Xc   ┆ Obs. log(EC50)-1 │\n",
       "│ ---         ┆ ---     ┆ ---  ┆ ---              │\n",
       "│ str         ┆ f64     ┆ f64  ┆ f64              │\n",
       "╞═════════════╪═════════╪══════╪══════════════════╡\n",
       "│ TiO2        ┆ -1492.0 ┆ 4.9  ┆ 1.76             │\n",
       "│ ZnO2        ┆ -638.1  ┆ 4.95 ┆ 2.02             │\n",
       "│ SiO2        ┆ -618.3  ┆ 3.81 ┆ 2.12             │\n",
       "│ V2O3        ┆ -139.5  ┆ 3.24 ┆ 2.24             │\n",
       "│ Sb2O3       ┆ -206.7  ┆ 4.46 ┆ 2.31             │\n",
       "└─────────────┴─────────┴──────┴──────────────────┘"
      ]
     },
     "execution_count": 87,
     "metadata": {},
     "output_type": "execute_result"
    }
   ],
   "source": [
    "input_matrix.head()"
   ]
  },
  {
   "cell_type": "code",
   "execution_count": 88,
   "metadata": {},
   "outputs": [],
   "source": [
    "descriptors = input_matrix.select([pl.col(\"Hfc\"), pl.col(\"Xc\")])"
   ]
  },
  {
   "cell_type": "code",
   "execution_count": 89,
   "metadata": {},
   "outputs": [],
   "source": [
    "standarized_descriptors = descriptors.select(\n",
    "    (pl.all() - pl.all().mean()) / pl.all().std()\n",
    ")"
   ]
  },
  {
   "cell_type": "code",
   "execution_count": 90,
   "metadata": {},
   "outputs": [],
   "source": [
    "Y_pred = standarized_descriptors.select(\n",
    "    (2.466 + 0.244*pl.col(\"Hfc\") + 0.394*pl.col(\"Xc\")).alias(\"log(EC50)-1\")\n",
    ").with_columns(\n",
    "    input_matrix[\"Obs. log(EC50)-1\"]\n",
    ")"
   ]
  },
  {
   "cell_type": "code",
   "execution_count": 91,
   "metadata": {},
   "outputs": [
    {
     "data": {
      "text/html": [
       "<div><style>\n",
       ".dataframe > thead > tr,\n",
       ".dataframe > tbody > tr {\n",
       "  text-align: right;\n",
       "  white-space: pre-wrap;\n",
       "}\n",
       "</style>\n",
       "<small>shape: (10, 2)</small><table border=\"1\" class=\"dataframe\"><thead><tr><th>log(EC50)-1</th><th>Obs. log(EC50)-1</th></tr><tr><td>f64</td><td>f64</td></tr></thead><tbody><tr><td>1.774622</td><td>1.76</td></tr><tr><td>2.253886</td><td>2.02</td></tr><tr><td>1.985789</td><td>2.12</td></tr><tr><td>2.108199</td><td>2.24</td></tr><tr><td>2.369945</td><td>2.31</td></tr><tr><td>2.617089</td><td>2.5</td></tr><tr><td>2.56245</td><td>2.64</td></tr><tr><td>2.781791</td><td>2.83</td></tr><tr><td>3.022142</td><td>2.92</td></tr><tr><td>3.184086</td><td>3.32</td></tr></tbody></table></div>"
      ],
      "text/plain": [
       "shape: (10, 2)\n",
       "┌─────────────┬──────────────────┐\n",
       "│ log(EC50)-1 ┆ Obs. log(EC50)-1 │\n",
       "│ ---         ┆ ---              │\n",
       "│ f64         ┆ f64              │\n",
       "╞═════════════╪══════════════════╡\n",
       "│ 1.774622    ┆ 1.76             │\n",
       "│ 2.253886    ┆ 2.02             │\n",
       "│ 1.985789    ┆ 2.12             │\n",
       "│ 2.108199    ┆ 2.24             │\n",
       "│ 2.369945    ┆ 2.31             │\n",
       "│ 2.617089    ┆ 2.5              │\n",
       "│ 2.56245     ┆ 2.64             │\n",
       "│ 2.781791    ┆ 2.83             │\n",
       "│ 3.022142    ┆ 2.92             │\n",
       "│ 3.184086    ┆ 3.32             │\n",
       "└─────────────┴──────────────────┘"
      ]
     },
     "execution_count": 91,
     "metadata": {},
     "output_type": "execute_result"
    }
   ],
   "source": [
    "Y_pred"
   ]
  },
  {
   "cell_type": "markdown",
   "metadata": {},
   "source": [
    "# Współczynnik determinacji\n",
    "\n",
    "$R^2 = 1 - \\frac{\\sum(y_{pred} - y_{obs})^2}{\\sum(y_{obs} - \\bar{y}_{obs})^2}$"
   ]
  },
  {
   "cell_type": "code",
   "execution_count": 92,
   "metadata": {},
   "outputs": [],
   "source": [
    "R2 = 1 - ((Y_pred['log(EC50)-1'] - Y_pred['Obs. log(EC50)-1'])**2).sum() / ((Y_pred['Obs. log(EC50)-1'] - Y_pred['Obs. log(EC50)-1'].mean())**2).sum()"
   ]
  },
  {
   "cell_type": "code",
   "execution_count": 93,
   "metadata": {},
   "outputs": [
    {
     "data": {
      "text/plain": [
       "0.9272795443275705"
      ]
     },
     "execution_count": 93,
     "metadata": {},
     "output_type": "execute_result"
    }
   ],
   "source": [
    "R2"
   ]
  },
  {
   "cell_type": "markdown",
   "metadata": {},
   "source": [
    "# Średni kwadratowy błąd kalibracji\n",
    "\n",
    "$RMSE_C = \\sqrt{\\frac{\\sum(y_{pred} - y_{obs})^2}{n_c}}$"
   ]
  },
  {
   "cell_type": "code",
   "execution_count": 94,
   "metadata": {},
   "outputs": [],
   "source": [
    "RMSEc = Y_pred.select(\n",
    "    (((pl.col(\"log(EC50)-1\") - pl.col(\"Obs. log(EC50)-1\"))**2).sum() / Y_pred.shape[0]).sqrt()\n",
    ").item()"
   ]
  },
  {
   "cell_type": "code",
   "execution_count": 95,
   "metadata": {},
   "outputs": [
    {
     "data": {
      "text/plain": [
       "0.1203526121139761"
      ]
     },
     "execution_count": 95,
     "metadata": {},
     "output_type": "execute_result"
    }
   ],
   "source": [
    "RMSEc"
   ]
  },
  {
   "cell_type": "markdown",
   "metadata": {},
   "source": [
    "# Istotnosc statystyczna modelu\n",
    "\n",
    "$F = \\frac{S^2_M}{S^2_E}$\n",
    "\n",
    "$S^2_M = \\frac{ \\sum{ (y_{pred} - \\bar{y}_{pred}) }^2 }{n-1}$\n",
    "\n",
    "$S^2_E = \\frac{ \\sum{ (y_{obs} - y_{pred}) }^2 }{n-p-1}$"
   ]
  },
  {
   "cell_type": "code",
   "execution_count": 96,
   "metadata": {},
   "outputs": [
    {
     "data": {
      "text/html": [
       "<div><style>\n",
       ".dataframe > thead > tr,\n",
       ".dataframe > tbody > tr {\n",
       "  text-align: right;\n",
       "  white-space: pre-wrap;\n",
       "}\n",
       "</style>\n",
       "<small>shape: (10, 3)</small><table border=\"1\" class=\"dataframe\"><thead><tr><th>Metal oxide</th><th>log(EC50)-1</th><th>Obs. log(EC50)-1</th></tr><tr><td>str</td><td>f64</td><td>f64</td></tr></thead><tbody><tr><td>&quot;TiO2&quot;</td><td>1.774622</td><td>1.76</td></tr><tr><td>&quot;ZnO2&quot;</td><td>2.253886</td><td>2.02</td></tr><tr><td>&quot;SiO2&quot;</td><td>1.985789</td><td>2.12</td></tr><tr><td>&quot;V2O3&quot;</td><td>2.108199</td><td>2.24</td></tr><tr><td>&quot;Sb2O3&quot;</td><td>2.369945</td><td>2.31</td></tr><tr><td>&quot;Bi2O3&quot;</td><td>2.617089</td><td>2.5</td></tr><tr><td>&quot;Mn2O3&quot;</td><td>2.56245</td><td>2.64</td></tr><tr><td>&quot;CoO&quot;</td><td>2.781791</td><td>2.83</td></tr><tr><td>&quot;In2O3&quot;</td><td>3.022142</td><td>2.92</td></tr><tr><td>&quot;ZnO&quot;</td><td>3.184086</td><td>3.32</td></tr></tbody></table></div>"
      ],
      "text/plain": [
       "shape: (10, 3)\n",
       "┌─────────────┬─────────────┬──────────────────┐\n",
       "│ Metal oxide ┆ log(EC50)-1 ┆ Obs. log(EC50)-1 │\n",
       "│ ---         ┆ ---         ┆ ---              │\n",
       "│ str         ┆ f64         ┆ f64              │\n",
       "╞═════════════╪═════════════╪══════════════════╡\n",
       "│ TiO2        ┆ 1.774622    ┆ 1.76             │\n",
       "│ ZnO2        ┆ 2.253886    ┆ 2.02             │\n",
       "│ SiO2        ┆ 1.985789    ┆ 2.12             │\n",
       "│ V2O3        ┆ 2.108199    ┆ 2.24             │\n",
       "│ Sb2O3       ┆ 2.369945    ┆ 2.31             │\n",
       "│ Bi2O3       ┆ 2.617089    ┆ 2.5              │\n",
       "│ Mn2O3       ┆ 2.56245     ┆ 2.64             │\n",
       "│ CoO         ┆ 2.781791    ┆ 2.83             │\n",
       "│ In2O3       ┆ 3.022142    ┆ 2.92             │\n",
       "│ ZnO         ┆ 3.184086    ┆ 3.32             │\n",
       "└─────────────┴─────────────┴──────────────────┘"
      ]
     },
     "execution_count": 96,
     "metadata": {},
     "output_type": "execute_result"
    }
   ],
   "source": [
    "Y_pred.insert_column(\n",
    "    0,\n",
    "    input_matrix[\"Metal oxide\"]\n",
    ")"
   ]
  },
  {
   "cell_type": "code",
   "execution_count": 97,
   "metadata": {},
   "outputs": [],
   "source": [
    "df1 = Y_pred['log(EC50)-1'].shape[0] - 1\n",
    "df2 = Y_pred['Obs. log(EC50)-1'].shape[0] - 1\n",
    "\n",
    "n = Y_pred.shape[0] \n",
    "p = Y_pred.shape[1] - 1\n",
    "\n",
    "\n",
    "f_value = Y_pred.select(\n",
    "    (((pl.col(\"log(EC50)-1\") - pl.col(\"log(EC50)-1\").mean())**2).sum() / (n - 1)) / (((pl.col(\"Obs. log(EC50)-1\") - pl.col(\"log(EC50)-1\"))**2).sum() / (n - p - 1))\n",
    ").item()"
   ]
  },
  {
   "cell_type": "code",
   "execution_count": 98,
   "metadata": {},
   "outputs": [
    {
     "name": "stdout",
     "output_type": "stream",
     "text": [
      "F-stat: 9.921161358208717\n"
     ]
    }
   ],
   "source": [
    "print(f'F-stat: {f_value}')"
   ]
  }
 ],
 "metadata": {
  "kernelspec": {
   "display_name": ".venv",
   "language": "python",
   "name": "python3"
  },
  "language_info": {
   "codemirror_mode": {
    "name": "ipython",
    "version": 3
   },
   "file_extension": ".py",
   "mimetype": "text/x-python",
   "name": "python",
   "nbconvert_exporter": "python",
   "pygments_lexer": "ipython3",
   "version": "3.12.7"
  }
 },
 "nbformat": 4,
 "nbformat_minor": 2
}
