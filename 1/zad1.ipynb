{
 "cells": [
  {
   "cell_type": "code",
   "execution_count": 3,
   "metadata": {},
   "outputs": [],
   "source": [
    "import pandas as pd\n",
    "import numpy as np\n",
    "from scipy import stats"
   ]
  },
  {
   "cell_type": "code",
   "execution_count": 4,
   "metadata": {},
   "outputs": [],
   "source": [
    "input_data = pd.read_excel(\n",
    "    io='zad1.xlsx',\n",
    "    sheet_name='Sheet1',\n",
    "    index_col='Metal oxide')"
   ]
  },
  {
   "cell_type": "code",
   "execution_count": 5,
   "metadata": {},
   "outputs": [
    {
     "data": {
      "text/html": [
       "<div>\n",
       "<style scoped>\n",
       "    .dataframe tbody tr th:only-of-type {\n",
       "        vertical-align: middle;\n",
       "    }\n",
       "\n",
       "    .dataframe tbody tr th {\n",
       "        vertical-align: top;\n",
       "    }\n",
       "\n",
       "    .dataframe thead th {\n",
       "        text-align: right;\n",
       "    }\n",
       "</style>\n",
       "<table border=\"1\" class=\"dataframe\">\n",
       "  <thead>\n",
       "    <tr style=\"text-align: right;\">\n",
       "      <th></th>\n",
       "      <th>Hfc</th>\n",
       "      <th>Xc</th>\n",
       "      <th>Obs. log(EC50)-1</th>\n",
       "    </tr>\n",
       "    <tr>\n",
       "      <th>Metal oxide</th>\n",
       "      <th></th>\n",
       "      <th></th>\n",
       "      <th></th>\n",
       "    </tr>\n",
       "  </thead>\n",
       "  <tbody>\n",
       "    <tr>\n",
       "      <th>TiO2</th>\n",
       "      <td>-1492.0</td>\n",
       "      <td>4.90</td>\n",
       "      <td>1.76</td>\n",
       "    </tr>\n",
       "    <tr>\n",
       "      <th>ZnO2</th>\n",
       "      <td>-638.1</td>\n",
       "      <td>4.95</td>\n",
       "      <td>2.02</td>\n",
       "    </tr>\n",
       "    <tr>\n",
       "      <th>SiO2</th>\n",
       "      <td>-618.3</td>\n",
       "      <td>3.81</td>\n",
       "      <td>2.12</td>\n",
       "    </tr>\n",
       "    <tr>\n",
       "      <th>V2O3</th>\n",
       "      <td>-139.5</td>\n",
       "      <td>3.24</td>\n",
       "      <td>2.24</td>\n",
       "    </tr>\n",
       "    <tr>\n",
       "      <th>Sb2O3</th>\n",
       "      <td>-206.7</td>\n",
       "      <td>4.46</td>\n",
       "      <td>2.31</td>\n",
       "    </tr>\n",
       "    <tr>\n",
       "      <th>Bi2O3</th>\n",
       "      <td>-148.5</td>\n",
       "      <td>5.34</td>\n",
       "      <td>2.50</td>\n",
       "    </tr>\n",
       "    <tr>\n",
       "      <th>Mn2O3</th>\n",
       "      <td>-96.3</td>\n",
       "      <td>5.00</td>\n",
       "      <td>2.64</td>\n",
       "    </tr>\n",
       "    <tr>\n",
       "      <th>CoO</th>\n",
       "      <td>-786.8</td>\n",
       "      <td>7.44</td>\n",
       "      <td>2.83</td>\n",
       "    </tr>\n",
       "    <tr>\n",
       "      <th>In2O3</th>\n",
       "      <td>-52.1</td>\n",
       "      <td>6.78</td>\n",
       "      <td>2.92</td>\n",
       "    </tr>\n",
       "    <tr>\n",
       "      <th>ZnO</th>\n",
       "      <td>-449.4</td>\n",
       "      <td>8.33</td>\n",
       "      <td>3.32</td>\n",
       "    </tr>\n",
       "  </tbody>\n",
       "</table>\n",
       "</div>"
      ],
      "text/plain": [
       "                Hfc    Xc  Obs. log(EC50)-1\n",
       "Metal oxide                                \n",
       "TiO2        -1492.0  4.90              1.76\n",
       "ZnO2         -638.1  4.95              2.02\n",
       "SiO2         -618.3  3.81              2.12\n",
       "V2O3         -139.5  3.24              2.24\n",
       "Sb2O3        -206.7  4.46              2.31\n",
       "Bi2O3        -148.5  5.34              2.50\n",
       "Mn2O3         -96.3  5.00              2.64\n",
       "CoO          -786.8  7.44              2.83\n",
       "In2O3         -52.1  6.78              2.92\n",
       "ZnO          -449.4  8.33              3.32"
      ]
     },
     "execution_count": 5,
     "metadata": {},
     "output_type": "execute_result"
    }
   ],
   "source": [
    "input_data"
   ]
  },
  {
   "cell_type": "code",
   "execution_count": 6,
   "metadata": {},
   "outputs": [],
   "source": [
    "standarized_data = (input_data.iloc[:,:2] - input_data.iloc[:,:2].mean())/input_data.iloc[:,:2].std()"
   ]
  },
  {
   "cell_type": "code",
   "execution_count": 7,
   "metadata": {},
   "outputs": [
    {
     "data": {
      "text/html": [
       "<div>\n",
       "<style scoped>\n",
       "    .dataframe tbody tr th:only-of-type {\n",
       "        vertical-align: middle;\n",
       "    }\n",
       "\n",
       "    .dataframe tbody tr th {\n",
       "        vertical-align: top;\n",
       "    }\n",
       "\n",
       "    .dataframe thead th {\n",
       "        text-align: right;\n",
       "    }\n",
       "</style>\n",
       "<table border=\"1\" class=\"dataframe\">\n",
       "  <thead>\n",
       "    <tr style=\"text-align: right;\">\n",
       "      <th></th>\n",
       "      <th>Hfc</th>\n",
       "      <th>Xc</th>\n",
       "    </tr>\n",
       "    <tr>\n",
       "      <th>Metal oxide</th>\n",
       "      <th></th>\n",
       "      <th></th>\n",
       "    </tr>\n",
       "  </thead>\n",
       "  <tbody>\n",
       "    <tr>\n",
       "      <th>TiO2</th>\n",
       "      <td>-2.307068</td>\n",
       "      <td>-0.326023</td>\n",
       "    </tr>\n",
       "    <tr>\n",
       "      <th>ZnO2</th>\n",
       "      <td>-0.393011</td>\n",
       "      <td>-0.294973</td>\n",
       "    </tr>\n",
       "    <tr>\n",
       "      <th>SiO2</th>\n",
       "      <td>-0.348628</td>\n",
       "      <td>-1.002909</td>\n",
       "    </tr>\n",
       "    <tr>\n",
       "      <th>V2O3</th>\n",
       "      <td>0.724625</td>\n",
       "      <td>-1.356877</td>\n",
       "    </tr>\n",
       "    <tr>\n",
       "      <th>Sb2O3</th>\n",
       "      <td>0.573993</td>\n",
       "      <td>-0.599261</td>\n",
       "    </tr>\n",
       "    <tr>\n",
       "      <th>Bi2O3</th>\n",
       "      <td>0.704451</td>\n",
       "      <td>-0.052785</td>\n",
       "    </tr>\n",
       "    <tr>\n",
       "      <th>Mn2O3</th>\n",
       "      <td>0.821460</td>\n",
       "      <td>-0.263923</td>\n",
       "    </tr>\n",
       "    <tr>\n",
       "      <th>CoO</th>\n",
       "      <td>-0.726329</td>\n",
       "      <td>1.251307</td>\n",
       "    </tr>\n",
       "    <tr>\n",
       "      <th>In2O3</th>\n",
       "      <td>0.920536</td>\n",
       "      <td>0.841450</td>\n",
       "    </tr>\n",
       "    <tr>\n",
       "      <th>ZnO</th>\n",
       "      <td>0.029969</td>\n",
       "      <td>1.803994</td>\n",
       "    </tr>\n",
       "  </tbody>\n",
       "</table>\n",
       "</div>"
      ],
      "text/plain": [
       "                  Hfc        Xc\n",
       "Metal oxide                    \n",
       "TiO2        -2.307068 -0.326023\n",
       "ZnO2        -0.393011 -0.294973\n",
       "SiO2        -0.348628 -1.002909\n",
       "V2O3         0.724625 -1.356877\n",
       "Sb2O3        0.573993 -0.599261\n",
       "Bi2O3        0.704451 -0.052785\n",
       "Mn2O3        0.821460 -0.263923\n",
       "CoO         -0.726329  1.251307\n",
       "In2O3        0.920536  0.841450\n",
       "ZnO          0.029969  1.803994"
      ]
     },
     "execution_count": 7,
     "metadata": {},
     "output_type": "execute_result"
    }
   ],
   "source": [
    "standarized_data"
   ]
  },
  {
   "cell_type": "code",
   "execution_count": 8,
   "metadata": {},
   "outputs": [],
   "source": [
    "Y = pd.concat([2.466 + 0.244*standarized_data['Hfc'] + 0.394*standarized_data[\"Xc\"], input_data['Obs. log(EC50)-1']],\n",
    "              axis=1,\n",
    "              names=['log(EC50)-1', 'Obs. log(EC50)-1'])"
   ]
  },
  {
   "cell_type": "code",
   "execution_count": 9,
   "metadata": {},
   "outputs": [
    {
     "data": {
      "text/html": [
       "<div>\n",
       "<style scoped>\n",
       "    .dataframe tbody tr th:only-of-type {\n",
       "        vertical-align: middle;\n",
       "    }\n",
       "\n",
       "    .dataframe tbody tr th {\n",
       "        vertical-align: top;\n",
       "    }\n",
       "\n",
       "    .dataframe thead th {\n",
       "        text-align: right;\n",
       "    }\n",
       "</style>\n",
       "<table border=\"1\" class=\"dataframe\">\n",
       "  <thead>\n",
       "    <tr style=\"text-align: right;\">\n",
       "      <th></th>\n",
       "      <th>log(EC50)-1</th>\n",
       "      <th>Obs. log(EC50)-1</th>\n",
       "    </tr>\n",
       "    <tr>\n",
       "      <th>Metal oxide</th>\n",
       "      <th></th>\n",
       "      <th></th>\n",
       "    </tr>\n",
       "  </thead>\n",
       "  <tbody>\n",
       "    <tr>\n",
       "      <th>TiO2</th>\n",
       "      <td>1.774622</td>\n",
       "      <td>1.76</td>\n",
       "    </tr>\n",
       "    <tr>\n",
       "      <th>ZnO2</th>\n",
       "      <td>2.253886</td>\n",
       "      <td>2.02</td>\n",
       "    </tr>\n",
       "    <tr>\n",
       "      <th>SiO2</th>\n",
       "      <td>1.985789</td>\n",
       "      <td>2.12</td>\n",
       "    </tr>\n",
       "    <tr>\n",
       "      <th>V2O3</th>\n",
       "      <td>2.108199</td>\n",
       "      <td>2.24</td>\n",
       "    </tr>\n",
       "    <tr>\n",
       "      <th>Sb2O3</th>\n",
       "      <td>2.369945</td>\n",
       "      <td>2.31</td>\n",
       "    </tr>\n",
       "    <tr>\n",
       "      <th>Bi2O3</th>\n",
       "      <td>2.617089</td>\n",
       "      <td>2.50</td>\n",
       "    </tr>\n",
       "    <tr>\n",
       "      <th>Mn2O3</th>\n",
       "      <td>2.562450</td>\n",
       "      <td>2.64</td>\n",
       "    </tr>\n",
       "    <tr>\n",
       "      <th>CoO</th>\n",
       "      <td>2.781791</td>\n",
       "      <td>2.83</td>\n",
       "    </tr>\n",
       "    <tr>\n",
       "      <th>In2O3</th>\n",
       "      <td>3.022142</td>\n",
       "      <td>2.92</td>\n",
       "    </tr>\n",
       "    <tr>\n",
       "      <th>ZnO</th>\n",
       "      <td>3.184086</td>\n",
       "      <td>3.32</td>\n",
       "    </tr>\n",
       "  </tbody>\n",
       "</table>\n",
       "</div>"
      ],
      "text/plain": [
       "             log(EC50)-1  Obs. log(EC50)-1\n",
       "Metal oxide                               \n",
       "TiO2            1.774622              1.76\n",
       "ZnO2            2.253886              2.02\n",
       "SiO2            1.985789              2.12\n",
       "V2O3            2.108199              2.24\n",
       "Sb2O3           2.369945              2.31\n",
       "Bi2O3           2.617089              2.50\n",
       "Mn2O3           2.562450              2.64\n",
       "CoO             2.781791              2.83\n",
       "In2O3           3.022142              2.92\n",
       "ZnO             3.184086              3.32"
      ]
     },
     "execution_count": 9,
     "metadata": {},
     "output_type": "execute_result"
    }
   ],
   "source": [
    "Y.columns = ['log(EC50)-1', 'Obs. log(EC50)-1']\n",
    "Y"
   ]
  },
  {
   "cell_type": "markdown",
   "metadata": {},
   "source": [
    "\n",
    "$R^2 = 1 - \\frac{\\sum(y_{pred} - y_{obs})^2}{\\sum(y_{obs} - \\bar{y}_{obs})^2}$"
   ]
  },
  {
   "cell_type": "code",
   "execution_count": 10,
   "metadata": {},
   "outputs": [],
   "source": [
    "R2 = 1 - ((Y['log(EC50)-1'] - Y['Obs. log(EC50)-1'])**2).sum() / ((Y['Obs. log(EC50)-1'] - Y['Obs. log(EC50)-1'].mean())**2).sum()"
   ]
  },
  {
   "cell_type": "code",
   "execution_count": 11,
   "metadata": {},
   "outputs": [
    {
     "data": {
      "text/plain": [
       "np.float64(0.9272795443275705)"
      ]
     },
     "execution_count": 11,
     "metadata": {},
     "output_type": "execute_result"
    }
   ],
   "source": [
    "R2"
   ]
  },
  {
   "cell_type": "markdown",
   "metadata": {},
   "source": [
    "$RMSE_C = \\sqrt{\\frac{\\sum(y_{pred} - y_{obs})^2}{n_c}}$"
   ]
  },
  {
   "cell_type": "code",
   "execution_count": 12,
   "metadata": {},
   "outputs": [],
   "source": [
    "RMSEc = np.sqrt(((Y['log(EC50)-1'] - Y['Obs. log(EC50)-1'])**2).sum()/Y.shape[0])"
   ]
  },
  {
   "cell_type": "code",
   "execution_count": 13,
   "metadata": {},
   "outputs": [
    {
     "data": {
      "text/plain": [
       "np.float64(0.12035261211397609)"
      ]
     },
     "execution_count": 13,
     "metadata": {},
     "output_type": "execute_result"
    }
   ],
   "source": [
    "RMSEc"
   ]
  },
  {
   "cell_type": "markdown",
   "metadata": {},
   "source": [
    "# Istotnosc statystyczna modelu\n",
    "\n",
    "$H_0$ - wariancje wartosci obserwowanych oraz teoretycznych roznia sie w sposob nieznaczacy\n",
    "\n",
    "$H_1$ - wariancje wartosci obserwowanych oraz teoretycznych roznia sie w sposob znaczacy\n"
   ]
  },
  {
   "cell_type": "code",
   "execution_count": 14,
   "metadata": {},
   "outputs": [
    {
     "data": {
      "text/html": [
       "<div>\n",
       "<style scoped>\n",
       "    .dataframe tbody tr th:only-of-type {\n",
       "        vertical-align: middle;\n",
       "    }\n",
       "\n",
       "    .dataframe tbody tr th {\n",
       "        vertical-align: top;\n",
       "    }\n",
       "\n",
       "    .dataframe thead th {\n",
       "        text-align: right;\n",
       "    }\n",
       "</style>\n",
       "<table border=\"1\" class=\"dataframe\">\n",
       "  <thead>\n",
       "    <tr style=\"text-align: right;\">\n",
       "      <th></th>\n",
       "      <th>log(EC50)-1</th>\n",
       "      <th>Obs. log(EC50)-1</th>\n",
       "    </tr>\n",
       "    <tr>\n",
       "      <th>Metal oxide</th>\n",
       "      <th></th>\n",
       "      <th></th>\n",
       "    </tr>\n",
       "  </thead>\n",
       "  <tbody>\n",
       "    <tr>\n",
       "      <th>TiO2</th>\n",
       "      <td>1.774622</td>\n",
       "      <td>1.76</td>\n",
       "    </tr>\n",
       "    <tr>\n",
       "      <th>ZnO2</th>\n",
       "      <td>2.253886</td>\n",
       "      <td>2.02</td>\n",
       "    </tr>\n",
       "    <tr>\n",
       "      <th>SiO2</th>\n",
       "      <td>1.985789</td>\n",
       "      <td>2.12</td>\n",
       "    </tr>\n",
       "    <tr>\n",
       "      <th>V2O3</th>\n",
       "      <td>2.108199</td>\n",
       "      <td>2.24</td>\n",
       "    </tr>\n",
       "    <tr>\n",
       "      <th>Sb2O3</th>\n",
       "      <td>2.369945</td>\n",
       "      <td>2.31</td>\n",
       "    </tr>\n",
       "    <tr>\n",
       "      <th>Bi2O3</th>\n",
       "      <td>2.617089</td>\n",
       "      <td>2.50</td>\n",
       "    </tr>\n",
       "    <tr>\n",
       "      <th>Mn2O3</th>\n",
       "      <td>2.562450</td>\n",
       "      <td>2.64</td>\n",
       "    </tr>\n",
       "    <tr>\n",
       "      <th>CoO</th>\n",
       "      <td>2.781791</td>\n",
       "      <td>2.83</td>\n",
       "    </tr>\n",
       "    <tr>\n",
       "      <th>In2O3</th>\n",
       "      <td>3.022142</td>\n",
       "      <td>2.92</td>\n",
       "    </tr>\n",
       "    <tr>\n",
       "      <th>ZnO</th>\n",
       "      <td>3.184086</td>\n",
       "      <td>3.32</td>\n",
       "    </tr>\n",
       "  </tbody>\n",
       "</table>\n",
       "</div>"
      ],
      "text/plain": [
       "             log(EC50)-1  Obs. log(EC50)-1\n",
       "Metal oxide                               \n",
       "TiO2            1.774622              1.76\n",
       "ZnO2            2.253886              2.02\n",
       "SiO2            1.985789              2.12\n",
       "V2O3            2.108199              2.24\n",
       "Sb2O3           2.369945              2.31\n",
       "Bi2O3           2.617089              2.50\n",
       "Mn2O3           2.562450              2.64\n",
       "CoO             2.781791              2.83\n",
       "In2O3           3.022142              2.92\n",
       "ZnO             3.184086              3.32"
      ]
     },
     "execution_count": 14,
     "metadata": {},
     "output_type": "execute_result"
    }
   ],
   "source": [
    "Y"
   ]
  },
  {
   "cell_type": "code",
   "execution_count": 15,
   "metadata": {},
   "outputs": [],
   "source": [
    "df1 = Y['log(EC50)-1'].shape[0] - 1\n",
    "df2 = Y['Obs. log(EC50)-1'].shape[0] - 1\n",
    "\n",
    "n = Y.shape[0]\n",
    "p = Y.shape[1]\n",
    "\n",
    "f_value = (((Y.loc[:, 'log(EC50)-1'] - Y.loc[:, 'log(EC50)-1'].mean())**2).sum() / (n - 1)) / (((Y.loc[:, 'Obs. log(EC50)-1'] - Y.loc[:, 'log(EC50)-1'])**2).sum() / (n - p - 1))\n",
    "\n",
    "p_value = stats.f.cdf(f_value, 1, 1)\n",
    "f_value2 = stats.f_oneway(Y.iloc[0], Y.iloc[1])"
   ]
  },
  {
   "cell_type": "code",
   "execution_count": 16,
   "metadata": {},
   "outputs": [
    {
     "name": "stdout",
     "output_type": "stream",
     "text": [
      "F-stat: 9.921161358208725\n",
      "F-stat: F_onewayResult(statistic=np.float64(9.951676852266413), pvalue=np.float64(0.08749823842180364))\n",
      "p_value: 0.8042923048598586\n"
     ]
    }
   ],
   "source": [
    "print(f'F-stat: {f_value}')\n",
    "print(f'F-stat: {f_value2}')\n",
    "print(f'p_value: {p_value}')"
   ]
  },
  {
   "cell_type": "code",
   "execution_count": 17,
   "metadata": {},
   "outputs": [
    {
     "data": {
      "text/html": [
       "<div>\n",
       "<style scoped>\n",
       "    .dataframe tbody tr th:only-of-type {\n",
       "        vertical-align: middle;\n",
       "    }\n",
       "\n",
       "    .dataframe tbody tr th {\n",
       "        vertical-align: top;\n",
       "    }\n",
       "\n",
       "    .dataframe thead th {\n",
       "        text-align: right;\n",
       "    }\n",
       "</style>\n",
       "<table border=\"1\" class=\"dataframe\">\n",
       "  <thead>\n",
       "    <tr style=\"text-align: right;\">\n",
       "      <th></th>\n",
       "      <th>log(EC50)-1</th>\n",
       "      <th>Obs. log(EC50)-1</th>\n",
       "    </tr>\n",
       "    <tr>\n",
       "      <th>Metal oxide</th>\n",
       "      <th></th>\n",
       "      <th></th>\n",
       "    </tr>\n",
       "  </thead>\n",
       "  <tbody>\n",
       "    <tr>\n",
       "      <th>TiO2</th>\n",
       "      <td>1.774622</td>\n",
       "      <td>1.76</td>\n",
       "    </tr>\n",
       "    <tr>\n",
       "      <th>ZnO2</th>\n",
       "      <td>2.253886</td>\n",
       "      <td>2.02</td>\n",
       "    </tr>\n",
       "    <tr>\n",
       "      <th>SiO2</th>\n",
       "      <td>1.985789</td>\n",
       "      <td>2.12</td>\n",
       "    </tr>\n",
       "    <tr>\n",
       "      <th>V2O3</th>\n",
       "      <td>2.108199</td>\n",
       "      <td>2.24</td>\n",
       "    </tr>\n",
       "    <tr>\n",
       "      <th>Sb2O3</th>\n",
       "      <td>2.369945</td>\n",
       "      <td>2.31</td>\n",
       "    </tr>\n",
       "    <tr>\n",
       "      <th>Bi2O3</th>\n",
       "      <td>2.617089</td>\n",
       "      <td>2.50</td>\n",
       "    </tr>\n",
       "    <tr>\n",
       "      <th>Mn2O3</th>\n",
       "      <td>2.562450</td>\n",
       "      <td>2.64</td>\n",
       "    </tr>\n",
       "    <tr>\n",
       "      <th>CoO</th>\n",
       "      <td>2.781791</td>\n",
       "      <td>2.83</td>\n",
       "    </tr>\n",
       "    <tr>\n",
       "      <th>In2O3</th>\n",
       "      <td>3.022142</td>\n",
       "      <td>2.92</td>\n",
       "    </tr>\n",
       "    <tr>\n",
       "      <th>ZnO</th>\n",
       "      <td>3.184086</td>\n",
       "      <td>3.32</td>\n",
       "    </tr>\n",
       "  </tbody>\n",
       "</table>\n",
       "</div>"
      ],
      "text/plain": [
       "             log(EC50)-1  Obs. log(EC50)-1\n",
       "Metal oxide                               \n",
       "TiO2            1.774622              1.76\n",
       "ZnO2            2.253886              2.02\n",
       "SiO2            1.985789              2.12\n",
       "V2O3            2.108199              2.24\n",
       "Sb2O3           2.369945              2.31\n",
       "Bi2O3           2.617089              2.50\n",
       "Mn2O3           2.562450              2.64\n",
       "CoO             2.781791              2.83\n",
       "In2O3           3.022142              2.92\n",
       "ZnO             3.184086              3.32"
      ]
     },
     "execution_count": 17,
     "metadata": {},
     "output_type": "execute_result"
    }
   ],
   "source": [
    "Y.iloc[:,:]"
   ]
  }
 ],
 "metadata": {
  "kernelspec": {
   "display_name": ".venv",
   "language": "python",
   "name": "python3"
  },
  "language_info": {
   "codemirror_mode": {
    "name": "ipython",
    "version": 3
   },
   "file_extension": ".py",
   "mimetype": "text/x-python",
   "name": "python",
   "nbconvert_exporter": "python",
   "pygments_lexer": "ipython3",
   "version": "3.12.7"
  }
 },
 "nbformat": 4,
 "nbformat_minor": 2
}
